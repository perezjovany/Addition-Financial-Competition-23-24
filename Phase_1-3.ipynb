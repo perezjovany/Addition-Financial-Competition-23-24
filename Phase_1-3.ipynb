{
 "cells": [
  {
   "cell_type": "markdown",
   "metadata": {},
   "source": [
    "# Phase 1-3: Branch County PCA"
   ]
  },
  {
   "cell_type": "markdown",
   "id": "312e15d1-a3a2-414f-b6b9-34c8a422418c",
   "metadata": {},
   "source": [
    "•\tEDA: Explore multicollinearity using variance inflation factors, pinpoint heteroscedasticity, and delineate variable relationships."
   ]
  },
  {
   "cell_type": "markdown",
   "metadata": {},
   "source": [
    "# Import Packages and Data"
   ]
  },
  {
   "cell_type": "code",
   "execution_count": 1,
   "id": "24b2a348-9588-405e-b9b6-2baee96510cb",
   "metadata": {
    "tags": []
   },
   "outputs": [],
   "source": [
    "import pandas as pd\n",
    "import numpy as np\n",
    "import statsmodels.api as sm\n",
    "import matplotlib.pyplot as plt\n",
    "import seaborn as sns\n",
    "import warnings\n",
    "import plotly.express as px\n",
    "\n",
    "warnings.filterwarnings(\"ignore\", category=FutureWarning)"
   ]
  },
  {
   "cell_type": "code",
   "execution_count": 2,
   "id": "4c43e6fd-1908-4012-8a9a-3a4e9513a7cb",
   "metadata": {
    "tags": []
   },
   "outputs": [
    {
     "data": {
      "text/html": [
       "<div>\n",
       "<style scoped>\n",
       "    .dataframe tbody tr th:only-of-type {\n",
       "        vertical-align: middle;\n",
       "    }\n",
       "\n",
       "    .dataframe tbody tr th {\n",
       "        vertical-align: top;\n",
       "    }\n",
       "\n",
       "    .dataframe thead th {\n",
       "        text-align: right;\n",
       "    }\n",
       "</style>\n",
       "<table border=\"1\" class=\"dataframe\">\n",
       "  <thead>\n",
       "    <tr style=\"text-align: right;\">\n",
       "      <th></th>\n",
       "      <th>EOM_TRANS_DATE</th>\n",
       "      <th>BranchCategory</th>\n",
       "      <th>ATM</th>\n",
       "      <th>Bill Payment</th>\n",
       "      <th>Cash</th>\n",
       "      <th>Draft</th>\n",
       "      <th>ACH</th>\n",
       "      <th>Fee</th>\n",
       "      <th>Credit/Debit Card</th>\n",
       "      <th>Home Banking</th>\n",
       "      <th>Dividend</th>\n",
       "    </tr>\n",
       "  </thead>\n",
       "  <tbody>\n",
       "    <tr>\n",
       "      <th>0</th>\n",
       "      <td>2022-01-31</td>\n",
       "      <td>Addition Financial Arena</td>\n",
       "      <td>0</td>\n",
       "      <td>3</td>\n",
       "      <td>0</td>\n",
       "      <td>28</td>\n",
       "      <td>5</td>\n",
       "      <td>20</td>\n",
       "      <td>6</td>\n",
       "      <td>4</td>\n",
       "      <td>14</td>\n",
       "    </tr>\n",
       "    <tr>\n",
       "      <th>1</th>\n",
       "      <td>2022-01-31</td>\n",
       "      <td>Altamonte Springs</td>\n",
       "      <td>98</td>\n",
       "      <td>394</td>\n",
       "      <td>64</td>\n",
       "      <td>469</td>\n",
       "      <td>1589</td>\n",
       "      <td>416</td>\n",
       "      <td>1642</td>\n",
       "      <td>646</td>\n",
       "      <td>3650</td>\n",
       "    </tr>\n",
       "    <tr>\n",
       "      <th>2</th>\n",
       "      <td>2022-01-31</td>\n",
       "      <td>Apopka</td>\n",
       "      <td>198</td>\n",
       "      <td>540</td>\n",
       "      <td>132</td>\n",
       "      <td>705</td>\n",
       "      <td>2219</td>\n",
       "      <td>560</td>\n",
       "      <td>1983</td>\n",
       "      <td>724</td>\n",
       "      <td>5731</td>\n",
       "    </tr>\n",
       "    <tr>\n",
       "      <th>3</th>\n",
       "      <td>2022-01-31</td>\n",
       "      <td>Boone High School</td>\n",
       "      <td>1</td>\n",
       "      <td>10</td>\n",
       "      <td>2</td>\n",
       "      <td>8</td>\n",
       "      <td>30</td>\n",
       "      <td>9</td>\n",
       "      <td>80</td>\n",
       "      <td>21</td>\n",
       "      <td>59</td>\n",
       "    </tr>\n",
       "    <tr>\n",
       "      <th>4</th>\n",
       "      <td>2022-01-31</td>\n",
       "      <td>Clermont</td>\n",
       "      <td>143</td>\n",
       "      <td>482</td>\n",
       "      <td>103</td>\n",
       "      <td>499</td>\n",
       "      <td>1940</td>\n",
       "      <td>539</td>\n",
       "      <td>1834</td>\n",
       "      <td>580</td>\n",
       "      <td>4551</td>\n",
       "    </tr>\n",
       "  </tbody>\n",
       "</table>\n",
       "</div>"
      ],
      "text/plain": [
       "  EOM_TRANS_DATE            BranchCategory  ATM  Bill Payment  Cash  Draft  \\\n",
       "0     2022-01-31  Addition Financial Arena    0             3     0     28   \n",
       "1     2022-01-31         Altamonte Springs   98           394    64    469   \n",
       "2     2022-01-31                    Apopka  198           540   132    705   \n",
       "3     2022-01-31         Boone High School    1            10     2      8   \n",
       "4     2022-01-31                  Clermont  143           482   103    499   \n",
       "\n",
       "    ACH  Fee  Credit/Debit Card  Home Banking  Dividend  \n",
       "0     5   20                  6             4        14  \n",
       "1  1589  416               1642           646      3650  \n",
       "2  2219  560               1983           724      5731  \n",
       "3    30    9                 80            21        59  \n",
       "4  1940  539               1834           580      4551  "
      ]
     },
     "execution_count": 2,
     "metadata": {},
     "output_type": "execute_result"
    }
   ],
   "source": [
    "branch_level_data = pd.read_csv('data/Branch_Level_Dataset.csv')\n",
    "branch_level_data.head(5)"
   ]
  },
  {
   "cell_type": "code",
   "execution_count": 3,
   "metadata": {},
   "outputs": [
    {
     "name": "stdout",
     "output_type": "stream",
     "text": [
      "BranchCategory\n",
      "MetroWest                    19\n",
      "Sanford                      19\n",
      "Oak Ridge High School        19\n",
      "Ocoee High School            19\n",
      "Orange City                  19\n",
      "Oviedo                       19\n",
      "Pine Hills                   19\n",
      "Poinciana                    19\n",
      "Poinciana High School        19\n",
      "Seminole State               19\n",
      "Altamonte Springs            19\n",
      "South Orlando                19\n",
      "St. Cloud                    19\n",
      "St. Cloud High School        19\n",
      "The Loop                     19\n",
      "Timber Creek High School     19\n",
      "UCF Campus                   19\n",
      "Virtual Branch               19\n",
      "Mills                        19\n",
      "Winter Garden                19\n",
      "Merritt Island               19\n",
      "Longwood                     19\n",
      "Apopka                       19\n",
      "Boone High School            19\n",
      "Clermont                     19\n",
      "Colonial High School         19\n",
      "Downtown Campus              19\n",
      "East Orlando                 19\n",
      "Edgewater High School        19\n",
      "Eustis                       19\n",
      "Fern Park                    19\n",
      "Kissimmee                    19\n",
      "Lake Brantley High School    19\n",
      "Lake Howell High School      19\n",
      "Lake Mary                    19\n",
      "Lake Nona                    19\n",
      "Leesburg                     19\n",
      "UCF Commons                  14\n",
      "Addition Financial Arena     14\n",
      "Name: count, dtype: int64\n"
     ]
    }
   ],
   "source": [
    "# print unique values for BranchCategory and their counts\n",
    "print(branch_level_data['BranchCategory'].value_counts())"
   ]
  },
  {
   "cell_type": "code",
   "execution_count": 4,
   "metadata": {},
   "outputs": [
    {
     "data": {
      "image/png": "[encoded data removed]",
      "text/plain": [
       "<Figure size 1500x1500 with 9 Axes>"
      ]
     },
     "metadata": {},
     "output_type": "display_data"
    }
   ],
   "source": [
    "# Plot distribution graphs for each column\n",
    "num_columns = len(branch_level_data.iloc[:, 2:11].columns)\n",
    "num_rows = (num_columns - 1) // 3 + 1  # Adjust the number of rows based on the number of columns\n",
    "\n",
    "fig, axes = plt.subplots(num_rows, 3, figsize=(15, num_rows * 5))\n",
    "\n",
    "for i, column in enumerate(branch_level_data.iloc[:, 2:11].columns):\n",
    "    row, col = divmod(i, 3)\n",
    "    ax = axes[row, col]\n",
    "\n",
    "    ax.hist(branch_level_data[column], bins=20, edgecolor='black')\n",
    "    ax.set_title(f'Distribution of {column}')\n",
    "    ax.set_xlabel(column)\n",
    "    ax.set_ylabel('Frequency')\n",
    "    ax.grid(True)\n",
    "\n",
    "# Adjust layout for better spacing\n",
    "plt.tight_layout()\n",
    "plt.show()"
   ]
  },
  {
   "cell_type": "code",
   "execution_count": 5,
   "metadata": {},
   "outputs": [
    {
     "name": "stdout",
     "output_type": "stream",
     "text": [
      "['2022-01-31' '2022-02-28' '2022-03-31' '2022-04-30' '2022-05-31'\n",
      " '2022-06-30' '2022-07-31' '2022-08-31' '2022-09-30' '2022-10-31'\n",
      " '2022-11-30' '2022-12-31' '2023-01-31' '2023-02-28' '2023-03-31'\n",
      " '2023-04-30' '2023-05-31' '2023-06-30' '2023-07-31']\n"
     ]
    }
   ],
   "source": [
    "# print unique values for EOM_TRANS_DATE\n",
    "print(branch_level_data.EOM_TRANS_DATE.unique())"
   ]
  },
  {
   "cell_type": "markdown",
   "metadata": {},
   "source": [
    "# Data Preprocessing"
   ]
  },
  {
   "cell_type": "code",
   "execution_count": 6,
   "id": "193c3ac0-dff8-4a41-a1cb-c7a66c16721e",
   "metadata": {
    "tags": []
   },
   "outputs": [
    {
     "name": "stdout",
     "output_type": "stream",
     "text": [
      "  EOM_TRANS_DATE            BranchCategory  ATM  Bill Payment  Cash  Draft  \\\n",
      "0     2022-01-31  Addition Financial Arena    0             3     0     28   \n",
      "1     2022-01-31         Altamonte Springs   98           394    64    469   \n",
      "2     2022-01-31                    Apopka  198           540   132    705   \n",
      "4     2022-01-31                  Clermont  143           482   103    499   \n",
      "6     2022-01-31           Downtown Campus   27            35    12     62   \n",
      "\n",
      "    ACH  Fee  Credit/Debit Card  Home Banking  Dividend  \n",
      "0     5   20                  6             4        14  \n",
      "1  1589  416               1642           646      3650  \n",
      "2  2219  560               1983           724      5731  \n",
      "4  1940  539               1834           580      4551  \n",
      "6   134   78                227            47       275  \n",
      "EOM_TRANS_DATE       0\n",
      "BranchCategory       0\n",
      "ATM                  0\n",
      "Bill Payment         0\n",
      "Cash                 0\n",
      "Draft                0\n",
      "ACH                  0\n",
      "Fee                  0\n",
      "Credit/Debit Card    0\n",
      "Home Banking         0\n",
      "Dividend             0\n",
      "dtype: int64\n"
     ]
    }
   ],
   "source": [
    "# Remove rows where BranchCategory is 'High School' or 'Virtual Branch'\n",
    "branch_level_data = branch_level_data[~branch_level_data['BranchCategory'].str.contains(\"High School|Virtual Branch\")]\n",
    "\n",
    "# Check for null values in the DataFrame\n",
    "null_values = branch_level_data.isnull().sum()\n",
    "\n",
    "# Displaying the DataFrame and the null values information\n",
    "print(branch_level_data.head())\n",
    "print(null_values)\n"
   ]
  },
  {
   "cell_type": "code",
   "execution_count": 7,
   "id": "d19c195b-3778-45c9-91ef-5f5fb853032b",
   "metadata": {
    "tags": []
   },
   "outputs": [
    {
     "name": "stdout",
     "output_type": "stream",
     "text": [
      "     County Revenue_Per_County\n",
      "1   Alachua         1082349199\n",
      "2     Baker           89157684\n",
      "3       Bay         1193216378\n",
      "4  Bradford           85933027\n",
      "5   Brevard          958971976\n"
     ]
    }
   ],
   "source": [
    "import pandas as pd\n",
    "\n",
    "# Load the Excel file\n",
    "file_path = 'data/countyrevenuesbycategory.xlsx'\n",
    "df_revenue = pd.read_excel(file_path)\n",
    "\n",
    "# Selecting only the 'County' and 'TOTAL - All Revenue Account Codes' columns\n",
    "# Assuming these are the first and the third-last columns in your DataFrame\n",
    "df_revenue = df_revenue.iloc[:, [0, -3]]\n",
    "\n",
    "# Renaming the columns for clarity\n",
    "df_revenue.columns = ['County', 'Revenue_Per_County']\n",
    "\n",
    "# Dropping the first row if it contains headers from the original table\n",
    "df_revenue = df_revenue.drop(0)\n",
    "\n",
    "# Displaying the modified DataFrame\n",
    "print(df_revenue.head())\n",
    "\n"
   ]
  },
  {
   "cell_type": "code",
   "execution_count": 8,
   "id": "4f9ee000-de44-44e8-ab8e-8d93337bdf93",
   "metadata": {
    "tags": []
   },
   "outputs": [
    {
     "data": {
      "text/html": [
       "<div>\n",
       "<style scoped>\n",
       "    .dataframe tbody tr th:only-of-type {\n",
       "        vertical-align: middle;\n",
       "    }\n",
       "\n",
       "    .dataframe tbody tr th {\n",
       "        vertical-align: top;\n",
       "    }\n",
       "\n",
       "    .dataframe thead th {\n",
       "        text-align: right;\n",
       "    }\n",
       "</style>\n",
       "<table border=\"1\" class=\"dataframe\">\n",
       "  <thead>\n",
       "    <tr style=\"text-align: right;\">\n",
       "      <th></th>\n",
       "      <th>EOM_TRANS_DATE</th>\n",
       "      <th>BranchCategory</th>\n",
       "      <th>ATM</th>\n",
       "      <th>Bill Payment</th>\n",
       "      <th>Cash</th>\n",
       "      <th>Draft</th>\n",
       "      <th>ACH</th>\n",
       "      <th>Fee</th>\n",
       "      <th>Credit/Debit Card</th>\n",
       "      <th>Home Banking</th>\n",
       "      <th>Dividend</th>\n",
       "      <th>County</th>\n",
       "      <th>Revenue_Per_County</th>\n",
       "    </tr>\n",
       "  </thead>\n",
       "  <tbody>\n",
       "    <tr>\n",
       "      <th>0</th>\n",
       "      <td>2022-01-31</td>\n",
       "      <td>Addition Financial Arena</td>\n",
       "      <td>0</td>\n",
       "      <td>3</td>\n",
       "      <td>0</td>\n",
       "      <td>28</td>\n",
       "      <td>5</td>\n",
       "      <td>20</td>\n",
       "      <td>6</td>\n",
       "      <td>4</td>\n",
       "      <td>14</td>\n",
       "      <td>Orange</td>\n",
       "      <td>6968835122</td>\n",
       "    </tr>\n",
       "    <tr>\n",
       "      <th>1</th>\n",
       "      <td>2022-01-31</td>\n",
       "      <td>Altamonte Springs</td>\n",
       "      <td>98</td>\n",
       "      <td>394</td>\n",
       "      <td>64</td>\n",
       "      <td>469</td>\n",
       "      <td>1589</td>\n",
       "      <td>416</td>\n",
       "      <td>1642</td>\n",
       "      <td>646</td>\n",
       "      <td>3650</td>\n",
       "      <td>Seminole</td>\n",
       "      <td>1830400546</td>\n",
       "    </tr>\n",
       "    <tr>\n",
       "      <th>2</th>\n",
       "      <td>2022-01-31</td>\n",
       "      <td>Apopka</td>\n",
       "      <td>198</td>\n",
       "      <td>540</td>\n",
       "      <td>132</td>\n",
       "      <td>705</td>\n",
       "      <td>2219</td>\n",
       "      <td>560</td>\n",
       "      <td>1983</td>\n",
       "      <td>724</td>\n",
       "      <td>5731</td>\n",
       "      <td>Orange</td>\n",
       "      <td>6968835122</td>\n",
       "    </tr>\n",
       "    <tr>\n",
       "      <th>3</th>\n",
       "      <td>2022-01-31</td>\n",
       "      <td>Clermont</td>\n",
       "      <td>143</td>\n",
       "      <td>482</td>\n",
       "      <td>103</td>\n",
       "      <td>499</td>\n",
       "      <td>1940</td>\n",
       "      <td>539</td>\n",
       "      <td>1834</td>\n",
       "      <td>580</td>\n",
       "      <td>4551</td>\n",
       "      <td>Lake</td>\n",
       "      <td>1003940427</td>\n",
       "    </tr>\n",
       "    <tr>\n",
       "      <th>4</th>\n",
       "      <td>2022-01-31</td>\n",
       "      <td>Downtown Campus</td>\n",
       "      <td>27</td>\n",
       "      <td>35</td>\n",
       "      <td>12</td>\n",
       "      <td>62</td>\n",
       "      <td>134</td>\n",
       "      <td>78</td>\n",
       "      <td>227</td>\n",
       "      <td>47</td>\n",
       "      <td>275</td>\n",
       "      <td>Orange</td>\n",
       "      <td>6968835122</td>\n",
       "    </tr>\n",
       "  </tbody>\n",
       "</table>\n",
       "</div>"
      ],
      "text/plain": [
       "  EOM_TRANS_DATE            BranchCategory  ATM  Bill Payment  Cash  Draft  \\\n",
       "0     2022-01-31  Addition Financial Arena    0             3     0     28   \n",
       "1     2022-01-31         Altamonte Springs   98           394    64    469   \n",
       "2     2022-01-31                    Apopka  198           540   132    705   \n",
       "3     2022-01-31                  Clermont  143           482   103    499   \n",
       "4     2022-01-31           Downtown Campus   27            35    12     62   \n",
       "\n",
       "    ACH  Fee  Credit/Debit Card  Home Banking  Dividend    County  \\\n",
       "0     5   20                  6             4        14    Orange   \n",
       "1  1589  416               1642           646      3650  Seminole   \n",
       "2  2219  560               1983           724      5731    Orange   \n",
       "3  1940  539               1834           580      4551      Lake   \n",
       "4   134   78                227            47       275    Orange   \n",
       "\n",
       "  Revenue_Per_County  \n",
       "0         6968835122  \n",
       "1         1830400546  \n",
       "2         6968835122  \n",
       "3         1003940427  \n",
       "4         6968835122  "
      ]
     },
     "execution_count": 8,
     "metadata": {},
     "output_type": "execute_result"
    }
   ],
   "source": [
    "import pandas as pd\n",
    "\n",
    "# Map BranchCategory to County\n",
    "city_to_county_mapping = {\n",
    "    'Addition Financial Arena': 'Orange',\n",
    "    'Altamonte Springs': 'Seminole',\n",
    "    'Apopka': 'Orange',\n",
    "    'Clermont': 'Lake',\n",
    "    'Downtown Campus': 'Orange',\n",
    "    'East Orlando': 'Orange',\n",
    "    'Eustis': 'Lake',\n",
    "    'Fern Park': 'Seminole',\n",
    "    'Kissimmee': 'Osceola',\n",
    "    'Lake Mary': 'Seminole',\n",
    "    'Lake Nona': 'Orange',\n",
    "    'Leesburg': 'Lake',\n",
    "    'Longwood': 'Seminole',\n",
    "    'Merritt Island': 'Brevard',\n",
    "    'MetroWest': 'Orange',\n",
    "    'Mills': 'Orange',\n",
    "    'Orange City': 'Volusia',\n",
    "    'Oviedo': 'Seminole',\n",
    "    'Pine Hills': 'Orange',\n",
    "    'Poinciana': 'Polk',\n",
    "    'Sanford': 'Seminole',\n",
    "    'Seminole State': 'Seminole',\n",
    "    'South Orlando': 'Orange',\n",
    "    'St. Cloud': 'Osceola',\n",
    "    'The Loop': 'Osceola',\n",
    "    'UCF Campus': 'Orange',\n",
    "    'UCF Commons': 'Orange',\n",
    "    'Winter Garden': 'Orange'\n",
    "}\n",
    "\n",
    "branch_level_data['County'] = branch_level_data['BranchCategory'].map(city_to_county_mapping)\n",
    "\n",
    "# Load revenue data\n",
    "file_path = 'data/countyrevenuesbycategory.xlsx'\n",
    "df_revenue = pd.read_excel(file_path)\n",
    "\n",
    "# Selecting only 'County' and 'TOTAL - All Revenue Account Codes' columns\n",
    "df_revenue = df_revenue.iloc[:, [0, -3]]\n",
    "df_revenue.columns = ['County', 'Revenue_Per_County']\n",
    "df_revenue = df_revenue.drop(0)\n",
    "\n",
    "# Merging the DataFrames\n",
    "branch_level_data = pd.merge(branch_level_data, df_revenue, on='County', how='left')\n",
    "\n",
    "# Displaying the combined DataFrame\n",
    "branch_level_data.head()\n"
   ]
  },
  {
   "cell_type": "code",
   "execution_count": 9,
   "metadata": {},
   "outputs": [
    {
     "data": {
      "text/html": [
       "<div>\n",
       "<style scoped>\n",
       "    .dataframe tbody tr th:only-of-type {\n",
       "        vertical-align: middle;\n",
       "    }\n",
       "\n",
       "    .dataframe tbody tr th {\n",
       "        vertical-align: top;\n",
       "    }\n",
       "\n",
       "    .dataframe thead th {\n",
       "        text-align: right;\n",
       "    }\n",
       "</style>\n",
       "<table border=\"1\" class=\"dataframe\">\n",
       "  <thead>\n",
       "    <tr style=\"text-align: right;\">\n",
       "      <th></th>\n",
       "      <th>ATM</th>\n",
       "      <th>Bill Payment</th>\n",
       "      <th>Cash</th>\n",
       "      <th>Draft</th>\n",
       "      <th>ACH</th>\n",
       "      <th>Fee</th>\n",
       "      <th>Credit/Debit Card</th>\n",
       "      <th>Home Banking</th>\n",
       "      <th>Dividend</th>\n",
       "    </tr>\n",
       "  </thead>\n",
       "  <tbody>\n",
       "    <tr>\n",
       "      <th>0</th>\n",
       "      <td>0</td>\n",
       "      <td>3</td>\n",
       "      <td>0</td>\n",
       "      <td>28</td>\n",
       "      <td>5</td>\n",
       "      <td>20</td>\n",
       "      <td>6</td>\n",
       "      <td>4</td>\n",
       "      <td>14</td>\n",
       "    </tr>\n",
       "    <tr>\n",
       "      <th>1</th>\n",
       "      <td>98</td>\n",
       "      <td>394</td>\n",
       "      <td>64</td>\n",
       "      <td>469</td>\n",
       "      <td>1589</td>\n",
       "      <td>416</td>\n",
       "      <td>1642</td>\n",
       "      <td>646</td>\n",
       "      <td>3650</td>\n",
       "    </tr>\n",
       "    <tr>\n",
       "      <th>2</th>\n",
       "      <td>198</td>\n",
       "      <td>540</td>\n",
       "      <td>132</td>\n",
       "      <td>705</td>\n",
       "      <td>2219</td>\n",
       "      <td>560</td>\n",
       "      <td>1983</td>\n",
       "      <td>724</td>\n",
       "      <td>5731</td>\n",
       "    </tr>\n",
       "    <tr>\n",
       "      <th>3</th>\n",
       "      <td>143</td>\n",
       "      <td>482</td>\n",
       "      <td>103</td>\n",
       "      <td>499</td>\n",
       "      <td>1940</td>\n",
       "      <td>539</td>\n",
       "      <td>1834</td>\n",
       "      <td>580</td>\n",
       "      <td>4551</td>\n",
       "    </tr>\n",
       "    <tr>\n",
       "      <th>4</th>\n",
       "      <td>27</td>\n",
       "      <td>35</td>\n",
       "      <td>12</td>\n",
       "      <td>62</td>\n",
       "      <td>134</td>\n",
       "      <td>78</td>\n",
       "      <td>227</td>\n",
       "      <td>47</td>\n",
       "      <td>275</td>\n",
       "    </tr>\n",
       "  </tbody>\n",
       "</table>\n",
       "</div>"
      ],
      "text/plain": [
       "   ATM  Bill Payment  Cash  Draft   ACH  Fee  Credit/Debit Card  Home Banking  \\\n",
       "0    0             3     0     28     5   20                  6             4   \n",
       "1   98           394    64    469  1589  416               1642           646   \n",
       "2  198           540   132    705  2219  560               1983           724   \n",
       "3  143           482   103    499  1940  539               1834           580   \n",
       "4   27            35    12     62   134   78                227            47   \n",
       "\n",
       "   Dividend  \n",
       "0        14  \n",
       "1      3650  \n",
       "2      5731  \n",
       "3      4551  \n",
       "4       275  "
      ]
     },
     "execution_count": 9,
     "metadata": {},
     "output_type": "execute_result"
    }
   ],
   "source": [
    "# Dropping unnecessary columns\n",
    "pre_normalized_df = branch_level_data.drop(['EOM_TRANS_DATE', 'BranchCategory', 'County', 'Revenue_Per_County'], axis=1)\n",
    "pre_normalized_df.head()"
   ]
  },
  {
   "cell_type": "code",
   "execution_count": 10,
   "metadata": {},
   "outputs": [
    {
     "data": {
      "text/html": [
       "<div>\n",
       "<style scoped>\n",
       "    .dataframe tbody tr th:only-of-type {\n",
       "        vertical-align: middle;\n",
       "    }\n",
       "\n",
       "    .dataframe tbody tr th {\n",
       "        vertical-align: top;\n",
       "    }\n",
       "\n",
       "    .dataframe thead th {\n",
       "        text-align: right;\n",
       "    }\n",
       "</style>\n",
       "<table border=\"1\" class=\"dataframe\">\n",
       "  <thead>\n",
       "    <tr style=\"text-align: right;\">\n",
       "      <th></th>\n",
       "      <th>ATM</th>\n",
       "      <th>Bill Payment</th>\n",
       "      <th>Cash</th>\n",
       "      <th>Draft</th>\n",
       "      <th>ACH</th>\n",
       "      <th>Fee</th>\n",
       "      <th>Credit/Debit Card</th>\n",
       "      <th>Home Banking</th>\n",
       "      <th>Dividend</th>\n",
       "    </tr>\n",
       "  </thead>\n",
       "  <tbody>\n",
       "    <tr>\n",
       "      <th>0</th>\n",
       "      <td>-1.449119</td>\n",
       "      <td>-0.617278</td>\n",
       "      <td>-1.138159</td>\n",
       "      <td>-1.348628</td>\n",
       "      <td>-1.026666</td>\n",
       "      <td>-1.596365</td>\n",
       "      <td>-1.436047</td>\n",
       "      <td>-1.445617</td>\n",
       "      <td>-1.484872</td>\n",
       "    </tr>\n",
       "    <tr>\n",
       "      <th>1</th>\n",
       "      <td>-0.279600</td>\n",
       "      <td>0.138588</td>\n",
       "      <td>0.004137</td>\n",
       "      <td>0.433753</td>\n",
       "      <td>0.592510</td>\n",
       "      <td>0.099428</td>\n",
       "      <td>-0.040356</td>\n",
       "      <td>0.380911</td>\n",
       "      <td>0.030027</td>\n",
       "    </tr>\n",
       "    <tr>\n",
       "      <th>2</th>\n",
       "      <td>0.913787</td>\n",
       "      <td>0.420829</td>\n",
       "      <td>1.217827</td>\n",
       "      <td>1.387589</td>\n",
       "      <td>1.236501</td>\n",
       "      <td>0.716080</td>\n",
       "      <td>0.250555</td>\n",
       "      <td>0.602826</td>\n",
       "      <td>0.897052</td>\n",
       "    </tr>\n",
       "    <tr>\n",
       "      <th>3</th>\n",
       "      <td>0.257424</td>\n",
       "      <td>0.308706</td>\n",
       "      <td>0.700224</td>\n",
       "      <td>0.555003</td>\n",
       "      <td>0.951305</td>\n",
       "      <td>0.626152</td>\n",
       "      <td>0.123441</td>\n",
       "      <td>0.193137</td>\n",
       "      <td>0.405418</td>\n",
       "    </tr>\n",
       "    <tr>\n",
       "      <th>4</th>\n",
       "      <td>-1.126905</td>\n",
       "      <td>-0.555417</td>\n",
       "      <td>-0.923979</td>\n",
       "      <td>-1.211211</td>\n",
       "      <td>-0.894802</td>\n",
       "      <td>-1.347991</td>\n",
       "      <td>-1.247509</td>\n",
       "      <td>-1.323280</td>\n",
       "      <td>-1.376130</td>\n",
       "    </tr>\n",
       "  </tbody>\n",
       "</table>\n",
       "</div>"
      ],
      "text/plain": [
       "        ATM  Bill Payment      Cash     Draft       ACH       Fee  \\\n",
       "0 -1.449119     -0.617278 -1.138159 -1.348628 -1.026666 -1.596365   \n",
       "1 -0.279600      0.138588  0.004137  0.433753  0.592510  0.099428   \n",
       "2  0.913787      0.420829  1.217827  1.387589  1.236501  0.716080   \n",
       "3  0.257424      0.308706  0.700224  0.555003  0.951305  0.626152   \n",
       "4 -1.126905     -0.555417 -0.923979 -1.211211 -0.894802 -1.347991   \n",
       "\n",
       "   Credit/Debit Card  Home Banking  Dividend  \n",
       "0          -1.436047     -1.445617 -1.484872  \n",
       "1          -0.040356      0.380911  0.030027  \n",
       "2           0.250555      0.602826  0.897052  \n",
       "3           0.123441      0.193137  0.405418  \n",
       "4          -1.247509     -1.323280 -1.376130  "
      ]
     },
     "execution_count": 10,
     "metadata": {},
     "output_type": "execute_result"
    }
   ],
   "source": [
    "from sklearn.preprocessing import StandardScaler\n",
    "\n",
    "# Create the Scaler object\n",
    "scaler = StandardScaler()\n",
    "\n",
    "# Fit the data on the scaler object\n",
    "normalized_df = scaler.fit_transform(pre_normalized_df)\n",
    "\n",
    "# Convert the normalized DataFrame into a DataFrame\n",
    "normalized_df = pd.DataFrame(normalized_df, columns=pre_normalized_df.columns)\n",
    "# normalized_df.columns = [col + '_norm' for col in normalized_df.columns]\n",
    "normalized_df.head()"
   ]
  },
  {
   "cell_type": "markdown",
   "metadata": {},
   "source": [
    "# PCA Analysis"
   ]
  },
  {
   "cell_type": "code",
   "execution_count": 11,
   "metadata": {},
   "outputs": [
    {
     "data": {
      "image/png": "[encoded data removed]",
      "text/plain": [
       "<Figure size 1000x600 with 1 Axes>"
      ]
     },
     "metadata": {},
     "output_type": "display_data"
    }
   ],
   "source": [
    "# Apply 2D PCA\n",
    "from sklearn.decomposition import PCA\n",
    "\n",
    "\n",
    "pca_2d = PCA(n_components=2)\n",
    "pca_result_2d = pca_2d.fit_transform(normalized_df)\n",
    "\n",
    "# Create a DataFrame for 2D PCA results\n",
    "pca_df_2d = pd.DataFrame(data=pca_result_2d, columns=['PC1', 'PC2'])\n",
    "pca_df_2d['County'] = branch_level_data['County']\n",
    "\n",
    "# Plot 2D PCA\n",
    "plt.figure(figsize=(10, 6))\n",
    "sns.scatterplot(x='PC1', y='PC2', hue='County', data=pca_df_2d, palette='Set1')\n",
    "plt.title('2D PCA with County Color Coding')\n",
    "plt.show()"
   ]
  },
  {
   "cell_type": "code",
   "execution_count": 12,
   "metadata": {},
   "outputs": [
    {
     "name": "stdout",
     "output_type": "stream",
     "text": [
      "Explained Variance Ratio: [0.73354733 0.10260918]\n"
     ]
    }
   ],
   "source": [
    "# Print the explained variance ratio\n",
    "explained_variance_ratio = pca_2d.explained_variance_ratio_\n",
    "print(\"Explained Variance Ratio:\", explained_variance_ratio)"
   ]
  },
  {
   "cell_type": "code",
   "execution_count": 13,
   "metadata": {},
   "outputs": [
    {
     "name": "stdout",
     "output_type": "stream",
     "text": [
      "Cumulative Explained Variance: [0.73354733 0.83615651]\n"
     ]
    }
   ],
   "source": [
    "# Visualize the cumulative explained variance\n",
    "cumulative_variance = explained_variance_ratio.cumsum()\n",
    "print(\"Cumulative Explained Variance:\", cumulative_variance)"
   ]
  },
  {
   "cell_type": "code",
   "execution_count": 14,
   "metadata": {},
   "outputs": [
    {
     "name": "stdout",
     "output_type": "stream",
     "text": [
      "Feature Loadings for PC1:\n",
      "Home Banking         0.375052\n",
      "Draft                0.369809\n",
      "Fee                  0.369386\n",
      "Dividend             0.362099\n",
      "ATM                  0.340491\n",
      "Credit/Debit Card    0.334605\n",
      "Cash                 0.320927\n",
      "ACH                  0.313852\n",
      "Bill Payment         0.160074\n",
      "Name: PC1, dtype: float64\n",
      "\n",
      "Feature Loadings for PC2:\n",
      "Bill Payment         0.866065\n",
      "ACH                  0.299259\n",
      "Draft                0.050294\n",
      "Home Banking         0.023659\n",
      "Cash                -0.019683\n",
      "Dividend            -0.099272\n",
      "Fee                 -0.121951\n",
      "Credit/Debit Card   -0.228182\n",
      "ATM                 -0.283029\n",
      "Name: PC2, dtype: float64\n"
     ]
    }
   ],
   "source": [
    "# Get the feature loadings for PC1 and PC2\n",
    "loadings_df = pd.DataFrame(pca_2d.components_, columns=normalized_df.columns, index=['PC1', 'PC2'])\n",
    "\n",
    "# Display the feature loadings\n",
    "print(\"Feature Loadings for PC1:\")\n",
    "print(loadings_df.loc['PC1'].sort_values(ascending=False))\n",
    "\n",
    "print(\"\\nFeature Loadings for PC2:\")\n",
    "print(loadings_df.loc['PC2'].sort_values(ascending=False))"
   ]
  },
  {
   "cell_type": "code",
   "execution_count": 15,
   "metadata": {},
   "outputs": [
    {
     "data": {
      "application/vnd.plotly.v1+json": {
       "config": {
        "plotlyServerURL": "https://plot.ly"
       },
       "data": [
        {
         "hovertemplate": "County=Orange<br>PC1=%{x}<br>PC2=%{y}<br>PC3=%{z}<extra></extra>",
         "legendgroup": "Orange",
         "marker": {
          "color": "rgb(228,26,28)",
          "opacity": 0.7,
          "size": 5,
          "symbol": "circle"
         },
         "mode": "markers",
         "name": "Orange",
         "scene": "scene",
         "showlegend": true,
         "type": "scatter3d",
         "x": [
          -3.9284804783008584,
          2.569814587142041,
          -3.4078364417057183,
          4.22607543901372,
          -1.0269441955220042,
          1.3419279096156405,
          4.389015189506743,
          2.2346067587025025,
          2.839630775061735,
          -2.3093539747980123,
          -3.8834296855143675,
          3.364024661338434,
          -3.9351375837606763,
          3.134229229440564,
          -3.387532728316243,
          5.078202872967273,
          -0.5854918501242432,
          1.7894306968500535,
          4.991931133241711,
          2.5010819412048293,
          3.511296786894405,
          -2.140808771883169,
          -3.8808463058500666,
          3.8216251317747707,
          -3.9346586428863066,
          2.1326165742846444,
          -3.5008208292587444,
          3.8376045823566356,
          -1.0173302552604746,
          1.3350483590981554,
          3.399847411627758,
          1.7014819763874929,
          2.4535388366042343,
          -2.447730842492579,
          -3.9037704632177213,
          2.704847150563972,
          -3.956832641271963,
          1.3586972631221563,
          -3.533098826847463,
          2.3100343555171112,
          -1.5450272744122542,
          0.5038605853428344,
          2.003272803222319,
          1.068538917924133,
          1.430466373675262,
          -2.7079652365061992,
          -3.9335068255436347,
          1.3920984020553444,
          -3.9544785204821924,
          3.4668699092351,
          -3.4121115591243436,
          4.648971794660934,
          -0.6216592991811959,
          1.6129641067941745,
          4.51526835671875,
          2.3085434530346136,
          3.019269224674752,
          -2.288871181422193,
          -3.942688122636556,
          3.6922419479525157,
          -3.940682392905451,
          2.6379848965768646,
          -3.395582657203141,
          3.937492326362447,
          -0.9642398824030144,
          1.449338717187546,
          3.4257481861173984,
          1.8113897208224468,
          2.495835727349682,
          -2.164953393499572,
          -3.915831926138487,
          2.9929622636576165,
          -3.9437114494004293,
          0.22941565974027123,
          -3.5866827741919303,
          1.4323552947390987,
          -1.807846183326061,
          -0.3793595392091513,
          1.1850799355347126,
          -0.12532447006279732,
          0.43734337130369894,
          -2.8272105226609434,
          -3.9244775284223694,
          0.5446489590891334,
          -3.9426651713648075,
          2.1031400264062325,
          -3.4595538494835414,
          3.7196713044078646,
          -0.9727037809101621,
          0.841766627268614,
          3.6144765535988244,
          1.0556495300303068,
          2.1860940022030912,
          -2.3608316795778057,
          -3.926028657324516,
          2.770195090020585,
          -3.9540211790094304,
          3.0977826199587435,
          -3.3892551630766885,
          4.581152931632002,
          -0.6911597574847275,
          1.9242676268719148,
          4.189016121921053,
          3.0966744252313427,
          3.133989444426323,
          -2.160758126358375,
          -3.936135559146545,
          3.8300269657120243,
          -3.9706970309237866,
          2.864418177627642,
          -3.3771461014137607,
          4.580295414847729,
          -0.6828279685579822,
          1.2637445574986006,
          4.354283935294174,
          1.6428723323303909,
          2.8359074945311877,
          -2.2091669099965054,
          -3.952719630662462,
          3.472160546574958,
          -3.9747860234550223,
          2.463870758855322,
          -3.321719220224248,
          4.0663078013388185,
          -0.9263743258351618,
          1.1884837440639129,
          3.754146478207852,
          1.4774724692452803,
          2.452678236385589,
          -2.31264971475307,
          -3.960687370275992,
          2.953090878050574,
          -3.969545473997986,
          1.1155180015414174,
          -3.529560822068587,
          1.7578417512946583,
          -1.568911400832968,
          0.09434306924006783,
          1.7990648260003284,
          0.7024943350007874,
          0.908442472024177,
          -2.7078268194471313,
          -3.9851451238397346,
          1.063815976549821,
          -3.9985305536198825,
          2.3804963767738108,
          -3.370087929913418,
          3.8540826275350075,
          -0.8134680887932437,
          1.0884660540864937,
          3.605489906784535,
          1.7193016568088813,
          2.4098016114356233,
          -2.2257001030799075,
          -3.9945890993526247,
          2.6693687412605005,
          -4.00626532478801,
          3.002108936507179,
          -3.3017544381516615,
          4.384730556823529,
          -0.7610967153678606,
          1.5225983442019897,
          4.064596962559823,
          1.87226900387458,
          2.612683774644461,
          -2.1866459957402107,
          -4.004683500849201,
          3.1532198601558443,
          2.917598945876085,
          -3.317743417500541,
          4.016944160896998,
          -0.6517332352893215,
          1.4949696063146414,
          3.63063948689033,
          2.7477835963052,
          3.244093621954448,
          -2.088022774316583,
          3.3946694479211192,
          0.5948199535681301,
          -3.4302350023819304,
          1.3888824045244477,
          -1.723891028042348,
          -0.46036569399947924,
          1.3278594790700167,
          0.3352889945319565,
          0.4038215493132236,
          -2.6701196052038494,
          0.7954169176219945,
          2.9317787652240566,
          -3.3606422922565855,
          4.478859939468329,
          -0.8511296480551749,
          1.3957714059508526,
          4.275379416340596,
          1.8927180510881294,
          2.7422546616484578,
          -2.137782412671379,
          3.5575094111829046,
          3.5876736412338497,
          -3.1694290928073703,
          4.603868365613699,
          -0.5600734069051735,
          1.9307257179483432,
          4.283141281671738,
          3.0327467172813822,
          3.341835721324143,
          -2.094847798177601,
          3.7789854726524386,
          2.864865039067256,
          -3.3295536501234695,
          4.163395453303839,
          -0.7928351435590943,
          1.1858800271312162,
          3.6075471630831095,
          1.8332113805344,
          2.637772622749722,
          -2.249512025278678,
          2.817260380910141
         ],
         "y": [
          0.15843916429851462,
          0.30239804665985676,
          0.08176499638099617,
          0.6724350057438885,
          0.30040094669145645,
          -0.18423721805288307,
          0.8036655044579679,
          -0.5643016766782165,
          0.06472211788001705,
          0.2713947292490944,
          0.15375767999676576,
          0.2586070683773203,
          0.14504969683515714,
          0.6349311143927399,
          0.12719183648699645,
          1.0004905178576697,
          0.3312867312761906,
          0.011385470803367532,
          1.1282887496752196,
          -0.3329500439609006,
          0.5098818749349717,
          0.4210672456005053,
          0.14713877123313954,
          0.9817857025602372,
          0.14894025461193525,
          -0.21658588686742825,
          0.07404912606169194,
          -0.1201454969227838,
          -0.01742169457679847,
          -0.4783313460378551,
          0.17848275507083883,
          -0.7477502795158883,
          -0.277071157792597,
          0.10813715588817904,
          0.14615308750992212,
          -0.08302623046211699,
          0.15362551711784508,
          -1.2191396258596232,
          0.02673972139360055,
          -1.1721240636442156,
          -0.3980130361457158,
          -1.0277080841013757,
          -1.2952015198440605,
          -1.2949140422307666,
          -1.2141781250464905,
          -0.10965783495197769,
          0.14668163165781395,
          -1.1956474499761474,
          0.15368324751570994,
          0.24583430318072738,
          0.05181104405901129,
          0.7044395652201536,
          0.1518727354050968,
          -0.2373187671491631,
          0.8033468429791137,
          -0.5746695376425696,
          0.20638852200678495,
          0.24697675057108753,
          0.15010919233890566,
          0.2729052583539468,
          0.15502801528983365,
          -0.36746559820196134,
          0.04637199542158065,
          -0.1854148272877921,
          -0.10354821682159297,
          -0.44204650140585516,
          0.050785641120954905,
          -0.7858809194387452,
          -0.2722060930420524,
          0.08434482914072663,
          0.14870375604482788,
          -0.26048910482621357,
          0.1559191716880517,
          -1.1585192446167392,
          0.05530819777188624,
          -1.321097969268726,
          -0.4703809972343315,
          -0.9870676861111058,
          -1.330442104536039,
          -1.1823311766960574,
          -1.2104753424336128,
          -0.11638829228783241,
          0.14826866938441874,
          -1.208719279749562,
          0.15628684054100084,
          -0.3710234519675674,
          0.07382166409514866,
          -0.18538297802467332,
          -0.16004513706437254,
          -0.436526072271144,
          -0.09709311675071912,
          -0.5949752948290231,
          -0.38221549815197997,
          0.01404331894521954,
          0.1458596738522318,
          -0.2979779402360467,
          0.1540733576569618,
          0.45084777526864594,
          0.10748179805258523,
          0.8101777178714399,
          0.26956603980557864,
          -0.04819704348973919,
          0.7067064214225152,
          -0.5784779404945539,
          0.3492750944395961,
          0.22817641486426893,
          0.14569539211718185,
          0.5288291805252499,
          0.156013820541369,
          -0.08415172802207026,
          0.0688845433528212,
          0.1941579423912412,
          0.030105345793282574,
          -0.22488025458768895,
          0.32378309350443335,
          -0.565078484856546,
          0.008900789524759735,
          0.10842124687661661,
          0.15060073285858014,
          0.005063385938968826,
          0.15393011710067805,
          -0.2449141746471606,
          0.0696495479951546,
          -0.0038348624062773374,
          -0.0265356839498483,
          -0.29840031913531573,
          0.05192063997517447,
          -0.5733923489253896,
          -0.2177026943794112,
          0.06668733255513346,
          0.15216944227811896,
          -0.18579398628859017,
          0.15506194623362282,
          -1.4039099820344623,
          0.01104713486805501,
          -1.3559684514864128,
          -0.5113306756181425,
          -1.1020561041228039,
          -1.4377579905566935,
          -1.2700900472057266,
          -1.2743740369018373,
          -0.1164235136064988,
          0.15189366571725602,
          -1.365810642030122,
          0.15486867029494344,
          -0.25777651505116295,
          0.08127797333523905,
          -0.08492011964352143,
          -0.049452232058632216,
          -0.42714951086743885,
          -0.05058161621011003,
          -0.700473216791323,
          -0.2574823713216978,
          0.057689472249332956,
          0.1522077653066135,
          -0.15631035016408207,
          0.15602882006165694,
          0.19922443155446942,
          0.05498910868725375,
          0.3460824388381185,
          0.15747376144350012,
          -0.11290329236320808,
          0.44147528776296063,
          -0.3048246473595223,
          0.19972455986268028,
          0.1452695962090607,
          0.15550658975211148,
          0.3646861444394878,
          -0.7947462892520142,
          0.017344832524204906,
          -0.7464499338759142,
          -0.30147848368020813,
          -0.8456343610683198,
          -0.5396021050091813,
          -1.2850346130192336,
          -0.8984335146419097,
          -0.05606757150300169,
          -0.7288491339080765,
          -1.2386167574518063,
          0.007248309406168256,
          -1.2324561615447231,
          -0.4443767897952593,
          -0.9072201180806344,
          -1.2178983738806712,
          -1.2202299202447224,
          -1.0678063047777515,
          -0.17230009206576682,
          -1.2125888642272296,
          -0.37787051371763075,
          0.07382756009977884,
          -0.23207925061125936,
          -0.08542268887058566,
          -0.6246956669607903,
          -0.27645039212814587,
          -0.7657888088403165,
          -0.3880549867612321,
          0.13350478984579328,
          -0.2952586957113238,
          -0.7467447943017712,
          0.0016117598202128281,
          -0.6925405311354031,
          -0.2744178034345767,
          -0.8295451672714441,
          -0.5069178895481506,
          -1.2737465288048744,
          -0.7100961143453752,
          0.062048798823557134,
          -0.5729311403215394,
          -0.171820020600466,
          0.06478508270354738,
          0.12797493251424935,
          0.06960198012574541,
          -0.1458487769154455,
          0.4250444611869236,
          -0.5426624957960298,
          -0.028172973964108044,
          0.13279210294247978,
          0.0666209301394274
         ],
         "z": [
          -0.28620337956091374,
          -0.817412263799752,
          -0.2805697160413898,
          -0.4293055562528043,
          -0.19427649096619612,
          -0.7872985584770356,
          -1.078126654764971,
          -1.1508093755043416,
          -0.6196423696102975,
          -0.16975410816407907,
          -0.28477792221411397,
          -0.7322117811714575,
          -0.2744092841930328,
          -0.6094694843879471,
          -0.21374482001974762,
          -0.4293140645594642,
          -0.044160589647909886,
          -0.773765751752468,
          -0.7625181239983141,
          -0.8231168141986924,
          -0.7602283392082612,
          -0.07756663401127059,
          -0.27352294516885217,
          -0.4305153629200483,
          -0.28370051033737576,
          0.09086064176659839,
          -0.19949722374859882,
          0.3347101086127577,
          0.10620768671686318,
          -0.355608847429882,
          -0.003583518351025515,
          -0.3121240482315341,
          0.0476980307081634,
          -0.033794418025748896,
          -0.28107536542618133,
          0.14184519593553743,
          -0.2791327591859292,
          1.9407088041115652,
          -0.08026140251427615,
          2.3064314770866745,
          0.7884164963020174,
          1.1931874469455108,
          2.29176798560405,
          1.0958802174617799,
          1.8486902656726083,
          0.45553648004022823,
          -0.26387589647961357,
          2.208768430049259,
          -0.2836144567669767,
          -1.5802152382213221,
          -0.266346725477733,
          -0.903369071727067,
          -0.45925656885496446,
          -1.045645488347224,
          -1.3911087912094762,
          -1.2461778936369419,
          -1.1416655944432552,
          -0.30326535792351805,
          -0.27611599456841796,
          -1.2279225129333937,
          -0.2918669872012292,
          -0.25809476719789937,
          -0.24154695520365288,
          0.3009189699271928,
          0.045250454449693264,
          -0.6890271079513922,
          -0.06621303028255793,
          -0.4894329190837607,
          -0.13133669179453653,
          -0.2167669814227391,
          -0.2787606409236357,
          0.07420081330369319,
          -0.2927461254905804,
          1.8997146636136972,
          -0.1001778679630741,
          2.532115940442519,
          0.772993781581477,
          1.270723583598547,
          2.3525528078972937,
          1.3594103230592849,
          1.9752552293533827,
          0.35332551681424434,
          -0.2821596613407479,
          2.0375243386433395,
          -0.29388680513819876,
          -0.24795395982532242,
          -0.30797342921792686,
          -0.06834003776163104,
          -0.001991622068288019,
          -0.49387657229969356,
          -0.3879947583815017,
          -0.5113727909109608,
          -0.22533067693532163,
          -0.056428035559814196,
          -0.27692281024408133,
          -0.22960028131161955,
          -0.28953669917534,
          -2.065914008099155,
          -0.33231242701628777,
          -1.635765249680213,
          -0.5920736966709784,
          -1.7242746672163771,
          -1.6175354716059107,
          -2.315116825883426,
          -1.6930229921177034,
          -0.23661233899182943,
          -0.2738222023424205,
          -2.0438082308054297,
          -0.2838778188059992,
          -0.6580933172697391,
          -0.23112770472218708,
          -0.6420454304494538,
          -0.22959627081082162,
          -0.657272860171789,
          -0.9503002246013265,
          -0.8981265456103772,
          -0.5572088556899313,
          -0.19042928344394375,
          -0.2783799871369945,
          -0.5338406933595414,
          -0.27944337077456227,
          -0.32599247542220594,
          -0.24205019619167661,
          0.19354038105992996,
          0.040753955162582615,
          -0.4426556011521818,
          -0.03319715972831347,
          -0.4791395931701714,
          -0.13235197543246938,
          0.014430094241157198,
          -0.27539961121650786,
          -0.07359623821213945,
          -0.2836857995725185,
          1.6494572744156217,
          -0.113959447777127,
          2.261909919280135,
          0.7053257506091607,
          1.0873351909565117,
          1.9520677668503332,
          0.924075040092546,
          1.649657678328172,
          0.3242118453184095,
          -0.27202069870966183,
          1.8502758469755352,
          -0.27444242641279704,
          -0.2965238317160643,
          -0.28477813697881976,
          -0.2374801189445815,
          -0.03354883679818428,
          -0.38727894119129275,
          -0.34701246913458794,
          -0.7018529686124354,
          -0.32933365796466174,
          -0.10881223642674304,
          -0.26990257401091805,
          -0.2299456309991813,
          -0.27444746456458946,
          -0.17851271898049845,
          -0.20703295938780605,
          0.5307267117623267,
          0.09215113549469982,
          -0.3465602296829607,
          -0.08144839093766151,
          -0.42400744125011397,
          -0.020082653627684324,
          0.0190234880654882,
          -0.27386071172736753,
          -0.046943814041042614,
          0.11015800355234968,
          -0.2588369741106719,
          0.6447631381763624,
          0.11607560717721586,
          0.01318749343473035,
          0.38538650594040197,
          -0.9515516725590735,
          -0.13507920909545154,
          0.019676025823367634,
          0.16965632590964916,
          2.1762301961979387,
          -0.06648833508741195,
          2.797515620537139,
          0.8908473923106395,
          1.4710052552215944,
          2.4267400099954726,
          1.385876681850042,
          2.0659516058872263,
          0.3635004731252903,
          2.3143484432367565,
          -0.48385214859609593,
          -0.1965584177739065,
          -0.107155924278794,
          -0.026113300633514563,
          -0.3619627203518491,
          -0.28210523744143434,
          -0.6836509173106214,
          -0.23502569590036282,
          -0.2355830402787409,
          -0.36052451019777476,
          0.062494959029621495,
          -0.22768817260569668,
          0.6091834539046564,
          0.2826937204247359,
          -0.22242689538432614,
          0.2376087813304821,
          -0.8820320773325332,
          0.1369856917241318,
          0.07829443895194194,
          0.16911895258542917,
          -0.35862037779873956,
          -0.25762462743561293,
          -0.2850312163814678,
          -0.12151307397519495,
          -0.8679824614348233,
          -0.4576700542145353,
          -0.9425805497562412,
          -0.48683248600687673,
          -0.12616374548949516,
          -0.3070409008905994
         ]
        },
        {
         "hovertemplate": "County=Seminole<br>PC1=%{x}<br>PC2=%{y}<br>PC3=%{z}<extra></extra>",
         "legendgroup": "Seminole",
         "marker": {
          "color": "rgb(55,126,184)",
          "opacity": 0.7,
          "size": 5,
          "symbol": "circle"
         },
         "mode": "markers",
         "name": "Seminole",
         "scene": "scene",
         "showlegend": true,
         "type": "scatter3d",
         "x": [
          0.4516348829261425,
          0.1396560159882854,
          1.5855536982443867,
          -1.7619496962440222,
          -1.0758392643739074,
          1.3744216521440673,
          -3.9331301845981756,
          0.8766167881865468,
          0.47113932468377845,
          2.2109022486303345,
          -1.5007979573472623,
          -0.6161173787257306,
          1.7014285982480069,
          -3.92687397233002,
          0.0365097651168394,
          0.006147654334254261,
          0.8815214741433879,
          -1.8643820695952211,
          -1.2042212493746658,
          1.117960877913887,
          -3.929307739963447,
          -0.5892470547661353,
          -0.8317849236121485,
          -0.620242875545481,
          -2.3033128399466944,
          -1.7726443414979771,
          0.34170334667941504,
          -3.9506262118216204,
          0.7909216411848913,
          0.673026648138238,
          1.9044834088351228,
          -1.5814437838664892,
          -0.8092029544231123,
          1.6408730483382354,
          -3.9171228574326737,
          0.6065300262956417,
          0.04678285919271976,
          1.519116429549823,
          -1.6088559032788177,
          -0.9895660244709439,
          1.2358224811171188,
          -3.921994660775404,
          -1.0550551624495235,
          -1.4054612121112624,
          -1.005944504663269,
          -2.626267550187234,
          -2.111414238984348,
          -0.5544779397499385,
          -3.9450914801325037,
          0.11835623476442778,
          -0.17085236723675112,
          0.7683387252852818,
          -1.9188659715671976,
          -1.1515161510017684,
          0.7396584467978822,
          -3.8822176989932196,
          1.1790976169664273,
          0.5636963047457751,
          1.3720747134345017,
          -1.5722058639355507,
          -0.964675810628759,
          1.914460267218041,
          -3.8985968086056757,
          0.6088963044151061,
          0.2879066140957699,
          1.716770514805886,
          -1.655545870422027,
          -0.9126738862778934,
          1.6695944060791663,
          -3.8887279524485354,
          0.3927788793607535,
          0.11361561562915512,
          0.9014304636545261,
          -1.8719210436643594,
          -1.1249488914444088,
          0.9568872670638467,
          -3.869947665954465,
          -0.5666698685341208,
          -0.9958238964522164,
          -0.8754326551578298,
          -2.3753522240757508,
          -1.9782026899208995,
          0.06441335718173131,
          -3.940377836891965,
          0.5910727843495146,
          0.1708708236386678,
          1.0069554760628912,
          -1.6954052113209652,
          -1.14293769524055,
          1.2340665741898464,
          -3.8485726147275496,
          0.6272136394132619,
          0.3371113231313618,
          1.3626605100967577,
          -1.758993290166858,
          -0.9242431252543136,
          1.5279258065912438,
          -3.883571414560825,
          0.833160057877432,
          0.4341238699446321,
          1.4459887538546055,
          -1.3841630190990553,
          -1.0417173779074187,
          2.6064556356064474,
          -3.8513731451310713,
          -0.816643043578186,
          -1.2676480866790651,
          -0.9956221529749463,
          -2.543809312474754,
          -2.077934407528135,
          -0.413310273190969,
          -3.9306295904142146,
          0.6285835601932818,
          0.40519248653395246,
          1.1021637977485423,
          -1.6412478988471892,
          -0.8976156690165741,
          1.723103720714572,
          -3.8785649656758223,
          1.2031009013599412,
          0.7555860614100133,
          1.8505113736284737,
          -1.3741935321313157,
          -0.5633963024665444,
          2.8227744194104565,
          -3.867130607293585,
          0.4113889883634453,
          0.2020841787329153,
          1.565565582047885,
          -1.754118943527716,
          -1.0493085900614836,
          1.5938659950198533,
          -3.8485638116217005
         ],
         "y": [
          0.40132234671760086,
          0.5160327967102877,
          6.42753001873296,
          0.2796329597134264,
          0.5229910756961534,
          -0.26973638964662483,
          0.15823085365720932,
          0.5564756717491534,
          0.6988645550510857,
          7.351010042379724,
          0.36760195434015314,
          0.5691240248667776,
          0.0884864476359459,
          0.1746404526189188,
          -0.031013629253175377,
          0.04363336574361048,
          3.9522220269803996,
          0.07433215716145403,
          0.2611885926673277,
          -0.4437590856411866,
          0.1589304432360274,
          -0.5977645457424796,
          -0.5846513367341464,
          -0.5370377469915331,
          -0.19516021027508954,
          -0.33072542566908036,
          -1.0171758580213868,
          0.14621843579434537,
          0.32793555250051587,
          0.3812386589220878,
          7.371602942649554,
          0.2117668410310014,
          0.504079511430199,
          -0.3208178913813775,
          0.15927982623193304,
          -0.22779342571843225,
          0.15895438232034503,
          4.462544129082442,
          0.05915220393666313,
          0.3252779127317375,
          -0.4260794736474371,
          0.17079300389783866,
          -0.7139670634602748,
          -0.5683840438514042,
          -0.6480697062786647,
          -0.3095252568442239,
          -0.3174514479201713,
          -0.978896671806823,
          0.13632355358969173,
          -0.08356136060737787,
          0.09733264799309328,
          3.013084203578903,
          0.039427467574402,
          0.0787549382322371,
          -0.5037241294148279,
          0.1403837280417163,
          0.3344664466245927,
          0.44959864815448697,
          4.161290008152386,
          0.3200885286491063,
          0.5037782552074715,
          -0.13499139620799847,
          0.16984053945908759,
          0.17744170330125028,
          0.10277242349174515,
          6.093329330532328,
          0.15386656353524328,
          0.28898316124538825,
          -0.3150340727851027,
          0.16938637162313883,
          -0.06366983608467629,
          0.0563509831197637,
          3.2749576059958456,
          0.13456572059327,
          0.15515090032479859,
          -0.34407115595259347,
          0.14920075466365662,
          -0.8618160704622899,
          -0.6648320158774182,
          -0.6543629314162822,
          -0.3173444031362416,
          -0.36487332056786786,
          -1.1443856781929465,
          0.12685048330366008,
          -0.13984486829215198,
          0.1579658473699941,
          3.086474988266024,
          0.09580136609295616,
          0.13823503949239124,
          -0.3636130996716132,
          0.16442485645582497,
          0.1821600221957022,
          0.3740033010229337,
          4.145917279576264,
          0.21869766317997258,
          0.29824016604459913,
          -0.1281107831660429,
          0.1698125111893607,
          -0.377094717169227,
          -0.26923932525008626,
          3.5921755969133873,
          -0.20175769752967168,
          -0.04443874804967106,
          -1.0741312029981558,
          0.12979699198347977,
          -0.7225440589206531,
          -0.5948333705544697,
          -0.5403301404480945,
          -0.28629339386310465,
          -0.34023304730233234,
          -0.9359489706512002,
          0.13890685814035528,
          -0.1366301472401678,
          -0.12458703114794628,
          3.343219449949932,
          0.04771485150813071,
          0.10636690490299837,
          -0.6070539835882182,
          0.15056504747085828,
          -0.44718002195437523,
          -0.18478445448683548,
          4.170965051617808,
          -0.06431070831145028,
          0.0015871584947143838,
          -0.9714603566615623,
          0.14429907624365151,
          0.10896643544557595,
          0.2181144428446337,
          5.540969548714728,
          0.11936687572410708,
          0.2315118674078522,
          -0.35793519798670576,
          0.1232237680408423
         ],
         "z": [
          -0.37238779529286925,
          -0.5941804315913418,
          2.2876219383965046,
          -0.48559084786816464,
          -0.45801738139018067,
          -0.9804415854160095,
          -0.27584813787418044,
          -0.26961097375280807,
          -0.2812234018531345,
          2.672151867558888,
          -0.4456188103474086,
          -0.37739213271817473,
          -0.9009179288844082,
          -0.28711480671203954,
          0.16359930572342196,
          -0.15730945196790677,
          1.8266901845215573,
          -0.21210286974129955,
          -0.0846607647443032,
          -0.4782858911334339,
          -0.27761752518080696,
          1.1776975968397547,
          1.1034083397341246,
          1.2485076210416426,
          0.3586163440927606,
          0.7158863951594767,
          1.1513619470356642,
          -0.2312362413133764,
          -0.7607124498127715,
          -0.9115489199659224,
          2.415987926653024,
          -0.5578180949706328,
          -0.671186844651388,
          -1.170642766781306,
          -0.28063922043847805,
          0.000526519807466283,
          -0.17579284807562742,
          1.8542101569944975,
          -0.3838569890940875,
          -0.34707806708593864,
          -0.6667447382177778,
          -0.2639934678040725,
          1.1696207325913146,
          1.0753184058006173,
          1.2116673095064838,
          0.45089704195170477,
          0.7100970542127915,
          1.2274484328188668,
          -0.2284337029873805,
          -0.17283088669088784,
          -0.3319911962106674,
          1.306017995381522,
          -0.3034925877861139,
          -0.11146014290008037,
          -0.5165286774816072,
          -0.27782176998677066,
          -1.2239822126336692,
          -1.1082001725029078,
          0.7459950192445011,
          -0.750311894785005,
          -0.7904708646937304,
          -1.6870924009884298,
          -0.28722494524138015,
          -0.4474738489167322,
          -0.41741941906817764,
          2.202729518650036,
          -0.43356440237136973,
          -0.29689779335106514,
          -1.0481579689193876,
          -0.2745937491247398,
          -0.10547419767525246,
          -0.17362497904027144,
          1.5382739795761662,
          -0.26599072096624427,
          -0.04671294746051487,
          -0.5284248769149839,
          -0.2958557680329196,
          1.128557811943992,
          0.9754181161927982,
          1.1942745189064274,
          0.2920200028565031,
          0.7465196931627092,
          1.0173658651661548,
          -0.22194929789538234,
          -0.28493362599622124,
          -0.45319073268097154,
          1.1471892206928846,
          -0.36971706339808874,
          -0.2839089993802294,
          -0.7949410900601245,
          -0.3067787852167082,
          0.023263500561157068,
          -0.2101765555376255,
          1.6054669795901384,
          -0.10444010464726407,
          -0.08134802409691341,
          -0.5184365918633573,
          -0.25307353476546396,
          0.001993368818830899,
          -0.11317425598500645,
          1.7520793156002052,
          -0.30909704886731915,
          -0.016760756936632436,
          -0.9968150704646586,
          -0.2874712857209046,
          1.3130093582207574,
          1.177344251933931,
          1.3693234939366672,
          0.5132331688244429,
          0.8631568952950016,
          1.318294218384968,
          -0.2217477014946974,
          -0.1760519400831376,
          -0.25204840237326714,
          1.3359428479206539,
          -0.2540861445059843,
          -0.14862068607338141,
          -0.7227007784873286,
          -0.25825651180077225,
          0.008040540468301159,
          -0.243133952674696,
          1.7979584048793387,
          -0.2493090477283099,
          -0.04989789641346626,
          -0.9924672861945055,
          -0.2547826244475524,
          -0.2402198457182714,
          -0.33590626430052606,
          2.2060203792131134,
          -0.2710347736855362,
          -0.21095570812709669,
          -1.0715502689697614,
          -0.2729515045327803
         ]
        },
        {
         "hovertemplate": "County=Lake<br>PC1=%{x}<br>PC2=%{y}<br>PC3=%{z}<extra></extra>",
         "legendgroup": "Lake",
         "marker": {
          "color": "rgb(77,175,74)",
          "opacity": 0.7,
          "size": 5,
          "symbol": "circle"
         },
         "mode": "markers",
         "name": "Lake",
         "scene": "scene",
         "showlegend": true,
         "type": "scatter3d",
         "x": [
          1.3574351931222837,
          -1.9348646963005587,
          -1.3255905528608314,
          1.7476822013435878,
          -1.6337705141189123,
          -1.070823816686998,
          1.12286734301732,
          -2.049981687495686,
          -1.526435344779024,
          0.11141818187588472,
          -2.4526825545185247,
          -2.1133115747816706,
          1.5678015401138479,
          -1.74841188488296,
          -1.1217636315057034,
          1.1194122947894547,
          -1.949164170739756,
          -1.4352517329058057,
          -0.5597596245842816,
          -2.7365222723303737,
          -2.232055690371823,
          0.8589801283556735,
          -1.9855148502789077,
          -1.6197339543458915,
          1.6926278554429004,
          -1.5373397920203673,
          -0.6948533407986471,
          1.4200222039972592,
          -1.8211061051953208,
          -1.2638859024746605,
          1.090333055801715,
          -1.975890877577841,
          -1.388372559502681,
          -0.32244793038865666,
          -2.4860018483144626,
          -2.1622900634515894,
          1.018138514733712,
          -1.9639707561989668,
          -1.5306644327911152,
          1.391265139177449,
          -1.6913259213795095,
          -1.2964185042300553,
          1.6591965511440803,
          -1.6180811299897015,
          -1.1876401930961469,
          -0.45106426303979824,
          -2.549991423704393,
          -2.3717086214675183,
          1.4828816980186683,
          -1.8883787338950242,
          -1.4646103502232164,
          1.5838546559599078,
          -1.652755407969102,
          -1.2849469690142927,
          1.0705738953656352,
          -1.7181222574057702,
          -1.255241973643262
         ],
         "y": [
          0.35311333238093806,
          0.23009414544496457,
          0.23112039706544937,
          0.609925064860613,
          0.31332435885334714,
          0.4036732960565457,
          0.00040556193631338975,
          0.05251595428803899,
          0.09305878742970204,
          -0.733024365807347,
          -0.2149652122728291,
          -0.24714784392915176,
          0.39194821394637885,
          0.265458476490013,
          0.2465005084134565,
          -0.05252369074781194,
          0.08640386790274839,
          0.04506904526720832,
          -0.8188275938576537,
          -0.29383186926867927,
          -0.30025156210335624,
          -0.18964597303707617,
          0.0031596433432460277,
          -0.025930161811980813,
          0.3309582868706367,
          0.25471401560172785,
          0.3289690423263731,
          0.16614754054795622,
          0.13120766999948388,
          0.12385393353616184,
          -0.19956875854827866,
          0.09967993210498464,
          0.045220671009225014,
          -0.8355750891887307,
          -0.3331627286221731,
          -0.3505529510980093,
          -0.03396065254780749,
          0.15323993061924876,
          0.04709349759494921,
          0.18350486268046062,
          0.10766028261769336,
          0.20175247126322546,
          -0.5328726840633127,
          -0.1966583099050522,
          -0.19064894177212602,
          -0.7125155269702598,
          -0.29793023469336494,
          -0.29471726946284293,
          -0.1699613057509255,
          0.049612165652090694,
          0.025046839617763324,
          -0.25135862442910895,
          -0.09818288520691222,
          -0.07472069904080852,
          0.1412298388824697,
          0.12056374612370832,
          0.03848905491229377
         ],
         "z": [
          -0.5462044189127205,
          -0.3802771240207396,
          -0.4464698478253408,
          -0.32852469977196974,
          -0.43004459207379603,
          -0.3807997892119284,
          0.15664552561287487,
          -0.23587611011558993,
          -0.18042991912476916,
          1.6574890388494727,
          0.3466201451307815,
          0.6167451584817873,
          -0.8673274983098145,
          -0.6750282563971207,
          -0.6914135615393102,
          -0.08000376835287651,
          -0.3332096395473737,
          -0.13954528651219097,
          1.4869058895572274,
          0.4006878068332986,
          0.5464732475107873,
          -0.06459192714406477,
          -0.3472826911311992,
          -0.14067385245167086,
          -1.1265406973855687,
          -0.9573986564720934,
          -1.1371597697085538,
          -0.4596892690997,
          -0.43628289143771853,
          -0.4301860797943976,
          0.14541857159274005,
          -0.33394225823609314,
          -0.1687255243565489,
          1.379539905786436,
          0.35982607562377883,
          0.5204638216067876,
          -0.2738877338990666,
          -0.35579232849817033,
          -0.32508769774796814,
          0.32584779863822283,
          -0.3868892620331848,
          -0.20820616312847032,
          0.09995140441794181,
          -0.21617024244897193,
          -0.20649091233817055,
          1.691941379403973,
          0.4743292047618809,
          0.6248092136825703,
          -0.01916532536441863,
          -0.24565875871969567,
          -0.1556808169761913,
          0.3128248686416909,
          -0.20451207699423424,
          -0.09401642379940583,
          -0.1558665010252546,
          -0.3920778826418835,
          -0.39673352031511366
         ]
        },
        {
         "hovertemplate": "County=Osceola<br>PC1=%{x}<br>PC2=%{y}<br>PC3=%{z}<extra></extra>",
         "legendgroup": "Osceola",
         "marker": {
          "color": "rgb(152,78,163)",
          "opacity": 0.7,
          "size": 5,
          "symbol": "circle"
         },
         "mode": "markers",
         "name": "Osceola",
         "scene": "scene",
         "showlegend": true,
         "type": "scatter3d",
         "x": [
          3.5591385813592997,
          5.477343040908228,
          -1.4457267681975188,
          4.05743609843783,
          6.372882933196297,
          -1.4425869033891316,
          3.3931327404732463,
          5.121832959850161,
          -1.5410629943466216,
          2.209404524557755,
          3.4744591544611754,
          -1.899349795792808,
          4.102998663540773,
          6.113500851901273,
          -1.0894748270282568,
          3.4965135950175514,
          5.1211678616905765,
          -1.4032341224852123,
          1.0700881022876536,
          2.258206171613738,
          -2.440651375697013,
          2.761448985595139,
          4.822900591993602,
          -1.6467787219977654,
          4.308656628688096,
          6.609650693676612,
          -1.0695042774911674,
          3.483676360458993,
          5.9758959716221725,
          -1.137231129552512,
          3.2239528086589235,
          5.222441411528176,
          -1.435244063523518,
          1.7806301318332427,
          2.4444093422275213,
          -2.003896455243421,
          3.2782711890370693,
          5.0906784098763564,
          -1.2538549375760677,
          3.5433703388769318,
          5.3906807659076295,
          -1.225892155611713,
          3.9504127848707062,
          5.795444978648202,
          -1.0248892297127035,
          1.1940199197486119,
          2.391516208795673,
          -2.0418512362005723,
          3.580323027482148,
          5.625449054990989,
          -1.1552155513607612,
          3.922201848353785,
          6.179125337471907,
          -0.8231720901314137,
          3.5480757014423996,
          5.336023196779112,
          -1.177423512808078
         ],
         "y": [
          0.12139268308460875,
          0.5796310860363768,
          0.12118518683473273,
          0.48414380281728403,
          1.2641029215045927,
          0.3548697273358599,
          -0.30489472872530704,
          0.08354148131296299,
          0.037954804024760896,
          -1.1287374776869579,
          -1.42822193970116,
          -0.3482186088638862,
          -0.020998343123954818,
          0.44186856287456516,
          0.06080326985669827,
          -0.3704856491247517,
          -0.31250744919419693,
          -0.021640654138468125,
          -1.2645068744642776,
          -1.6180944563517745,
          -0.31360496685060857,
          -0.5272232842036219,
          -0.33122543110951147,
          -0.09284622646735508,
          0.40191125446088416,
          0.8391376526188198,
          0.2053357337833055,
          -0.1405064021232212,
          0.13654279550877352,
          -0.1332552424953354,
          -0.3299404066849291,
          -0.11906687313607565,
          0.008885866047344612,
          -1.3595582012713296,
          -1.7075539998955924,
          -0.412118334651738,
          -0.35771467457026696,
          -0.21403108104760596,
          -0.1017234890457655,
          0.2850044621651688,
          0.4312303614690467,
          0.14642540573584037,
          -1.0156571514463775,
          -0.9264696560040069,
          -0.2987732761181073,
          -1.1573920164980427,
          -1.5012237764716383,
          -0.3965641142319195,
          -0.3552923091151296,
          -0.49437958346341204,
          -0.002816617933599497,
          -0.7551618210247335,
          -0.9444707922516,
          -0.1717369899547645,
          -0.07772364475647842,
          0.04179681644428366,
          0.029001550136435666
         ],
         "z": [
          -0.703768481459692,
          -0.5730017443648786,
          -0.6382752948037992,
          -0.40100732677833467,
          -0.2189359533141401,
          -0.28201913167839987,
          -0.11789313629537843,
          0.4071264488775465,
          -0.2805249766660125,
          1.894351343300529,
          3.2947376364583354,
          0.4353830411494193,
          -1.1027033036123077,
          -1.2884545687910596,
          -0.8235721479435065,
          -0.3720398600967571,
          0.46038214784131076,
          -0.42450352693580895,
          2.093272740756591,
          2.9989356313135573,
          0.5351381404265028,
          0.007810831892624228,
          0.16411549745774118,
          -0.1313769402945793,
          -1.8630555177027794,
          -2.221288010002993,
          -0.8310977175465399,
          -0.5569670308806404,
          -0.6406783261173659,
          -0.4405635387374455,
          -0.06668601092655596,
          0.3779773273611761,
          -0.18740140311661233,
          1.6737565158762757,
          2.7636288045958604,
          0.5183165491817534,
          -0.13309257720110845,
          0.1531611056812088,
          -0.34120850240638334,
          0.04325311878684318,
          0.6567619296979779,
          -0.16736515475023042,
          0.05804952303013713,
          0.6259526093180765,
          -0.07114300799375398,
          2.2983597031629834,
          3.3732995152470044,
          0.7138017090301207,
          -0.40322776624160855,
          0.20494329785537027,
          -0.456569587035413,
          0.3317728603852074,
          0.8210285960875778,
          -0.24298054805691346,
          -0.6525561246063838,
          -0.04428190226325115,
          -0.4199158549558856
         ]
        },
        {
         "hovertemplate": "County=Brevard<br>PC1=%{x}<br>PC2=%{y}<br>PC3=%{z}<extra></extra>",
         "legendgroup": "Brevard",
         "marker": {
          "color": "rgb(255,127,0)",
          "opacity": 0.7,
          "size": 5,
          "symbol": "circle"
         },
         "mode": "markers",
         "name": "Brevard",
         "scene": "scene",
         "showlegend": true,
         "type": "scatter3d",
         "x": [
          -2.9045766830839908,
          -2.87120873154004,
          -3.0011828489279755,
          -3.355937752437152,
          -2.7608064431234234,
          -2.969310304900645,
          -3.383956800878642,
          -3.020685317969499,
          -2.8341609276232287,
          -2.8770895954945654,
          -3.02120354282386,
          -3.3236765934154398,
          -3.0523600057096982,
          -3.031520581288146,
          -2.8924112269636817,
          -3.3581923392362323,
          -3.0102180885532963,
          -2.9112484513891586,
          -2.958891314467149
         ],
         "y": [
          0.143773563298703,
          0.19584270125325204,
          0.12963478472777598,
          -0.006996929616977316,
          0.12000567055903563,
          0.06420756981748647,
          -0.012806975719822858,
          0.0908112625168385,
          0.1735692725297176,
          0.1664494691318197,
          0.08612308833609374,
          -0.048319078344221306,
          0.09499298627720304,
          0.17190322040566258,
          0.061553055473238624,
          -0.03556849470613231,
          0.07593471784276301,
          0.10332792887748769,
          0.12771590468849126
         ],
         "z": [
          -0.40034507869621105,
          -0.4025567722587741,
          -0.3625421581993625,
          0.031040046531130436,
          -0.5984404940514889,
          -0.3390097454618525,
          -0.001214097247522252,
          -0.369007789418004,
          -0.520925328496221,
          -0.47849817766957886,
          -0.25570998823557567,
          0.03469766560067408,
          -0.18631581639379785,
          -0.24468620184364695,
          -0.36519220713669814,
          0.07355832006103263,
          -0.25321841181909494,
          -0.24522139912240948,
          -0.3491152481353763
         ]
        },
        {
         "hovertemplate": "County=Volusia<br>PC1=%{x}<br>PC2=%{y}<br>PC3=%{z}<extra></extra>",
         "legendgroup": "Volusia",
         "marker": {
          "color": "rgb(255,255,51)",
          "opacity": 0.7,
          "size": 5,
          "symbol": "circle"
         },
         "mode": "markers",
         "name": "Volusia",
         "scene": "scene",
         "showlegend": true,
         "type": "scatter3d",
         "x": [
          -0.7489723218363632,
          -0.4137531893488854,
          -0.9872610762167066,
          -1.6084365493020742,
          -0.6966771484626687,
          -0.8267004544588229,
          -1.971068316121851,
          -1.0992836204678733,
          -0.8874115538910107,
          -0.8658944598296318,
          -1.006001119619574,
          -1.7472546883139177,
          -0.9906783849623695,
          -0.779337447420465,
          -0.7416015380986676,
          -1.9831812518840728,
          -0.7575979105032609,
          -0.4740401847681404,
          -0.8380696728328014
         ],
         "y": [
          0.1582426325743931,
          0.4443427850641448,
          0.1095636087021952,
          -0.37829689457015536,
          0.2980581393512137,
          0.0766082624278936,
          -0.4256804163324023,
          -0.09184798514939393,
          0.3832238238359825,
          0.25007292400426223,
          0.043044707798315915,
          -0.45910438643410606,
          -0.0015857676789208844,
          0.1980192129600027,
          -0.23159459915374428,
          -0.3360781417656962,
          -0.06983370220420819,
          -0.15867808881971113,
          0.2083608928543608
         ],
         "z": [
          -0.5397480972163643,
          -0.47412845824758004,
          -0.3297138999613654,
          0.7382678785770903,
          -0.6822200977207227,
          -0.33462287390201245,
          0.7071269434785911,
          -0.18893283307317837,
          -0.95617813649003,
          -0.4040258673189987,
          -0.18881379649450794,
          0.5815875361882923,
          -0.3917733799671704,
          -0.27781236361893225,
          -0.18504691618854754,
          0.7945932691590226,
          -0.28120471099671496,
          -0.06402177801501881,
          -0.3565457247887765
         ]
        },
        {
         "hovertemplate": "County=Polk<br>PC1=%{x}<br>PC2=%{y}<br>PC3=%{z}<extra></extra>",
         "legendgroup": "Polk",
         "marker": {
          "color": "rgb(166,86,40)",
          "opacity": 0.7,
          "size": 5,
          "symbol": "circle"
         },
         "mode": "markers",
         "name": "Polk",
         "scene": "scene",
         "showlegend": true,
         "type": "scatter3d",
         "x": [
          -0.9027200035298402,
          -0.784836547580458,
          -0.8697869923048964,
          -1.3974159946107556,
          -0.7831845936911779,
          -0.8169535228246102,
          -1.6785324992204218,
          -1.197292912190668,
          -0.351517056692971,
          -0.7376740401432692,
          -1.02980159842009,
          -1.3750403395369695,
          -0.9774965950573452,
          -0.7145825791921935,
          -0.46384020815615556,
          -1.5354443664311161,
          -0.5267581282994708,
          -0.3365814816504177,
          -0.5983353218940078
         ],
         "y": [
          0.009204645959471798,
          0.265707494841379,
          -0.09432921863106261,
          -0.3741783897934273,
          -0.04787475047913051,
          -0.18806465165494105,
          -0.46576050458585233,
          -0.17565150905177887,
          0.04493763052751144,
          -0.15997756402617333,
          -0.13960137164076092,
          -0.43929378612940834,
          -0.14741215963934984,
          -0.01924910605392856,
          -0.421650129037423,
          -0.5018055560773976,
          -0.1570360437433216,
          -0.287280649281317,
          -0.12816981203785935
         ],
         "z": [
          -0.47311962901124316,
          -0.43229995310681557,
          -0.26949401970414344,
          0.40154426561311024,
          -0.5696545080660971,
          -0.30770692965931956,
          0.5767367675181237,
          -0.2100738792674563,
          -0.8994812608005184,
          -0.32409622820835743,
          -0.1665598902166154,
          0.43835423102910537,
          -0.18204041880236688,
          -0.28056516328158765,
          -0.1405797839153849,
          0.727695801379034,
          -0.42807174286494126,
          -0.16503026569154625,
          -0.2366920800903202
         ]
        }
       ],
       "layout": {
        "height": 800,
        "legend": {
         "title": {
          "text": "County"
         },
         "tracegroupgap": 0,
         "x": 0.01,
         "xanchor": "left",
         "y": 0.79,
         "yanchor": "top"
        },
        "margin": {
         "b": 0,
         "l": 0,
         "r": 0,
         "t": 0
        },
        "scene": {
         "domain": {
          "x": [
           0,
           1
          ],
          "y": [
           0,
           1
          ]
         },
         "xaxis": {
          "title": {
           "text": "PC1"
          }
         },
         "yaxis": {
          "title": {
           "text": "PC2"
          }
         },
         "zaxis": {
          "title": {
           "text": "PC3"
          }
         }
        },
        "template": {
         "data": {
          "bar": [
           {
            "error_x": {
             "color": "#2a3f5f"
            },
            "error_y": {
             "color": "#2a3f5f"
            },
            "marker": {
             "line": {
              "color": "#E5ECF6",
              "width": 0.5
             },
             "pattern": {
              "fillmode": "overlay",
              "size": 10,
              "solidity": 0.2
             }
            },
            "type": "bar"
           }
          ],
          "barpolar": [
           {
            "marker": {
             "line": {
              "color": "#E5ECF6",
              "width": 0.5
             },
             "pattern": {
              "fillmode": "overlay",
              "size": 10,
              "solidity": 0.2
             }
            },
            "type": "barpolar"
           }
          ],
          "carpet": [
           {
            "aaxis": {
             "endlinecolor": "#2a3f5f",
             "gridcolor": "white",
             "linecolor": "white",
             "minorgridcolor": "white",
             "startlinecolor": "#2a3f5f"
            },
            "baxis": {
             "endlinecolor": "#2a3f5f",
             "gridcolor": "white",
             "linecolor": "white",
             "minorgridcolor": "white",
             "startlinecolor": "#2a3f5f"
            },
            "type": "carpet"
           }
          ],
          "choropleth": [
           {
            "colorbar": {
             "outlinewidth": 0,
             "ticks": ""
            },
            "type": "choropleth"
           }
          ],
          "contour": [
           {
            "colorbar": {
             "outlinewidth": 0,
             "ticks": ""
            },
            "colorscale": [
             [
              0,
              "#0d0887"
             ],
             [
              0.1111111111111111,
              "#46039f"
             ],
             [
              0.2222222222222222,
              "#7201a8"
             ],
             [
              0.3333333333333333,
              "#9c179e"
             ],
             [
              0.4444444444444444,
              "#bd3786"
             ],
             [
              0.5555555555555556,
              "#d8576b"
             ],
             [
              0.6666666666666666,
              "#ed7953"
             ],
             [
              0.7777777777777778,
              "#fb9f3a"
             ],
             [
              0.8888888888888888,
              "#fdca26"
             ],
             [
              1,
              "#f0f921"
             ]
            ],
            "type": "contour"
           }
          ],
          "contourcarpet": [
           {
            "colorbar": {
             "outlinewidth": 0,
             "ticks": ""
            },
            "type": "contourcarpet"
           }
          ],
          "heatmap": [
           {
            "colorbar": {
             "outlinewidth": 0,
             "ticks": ""
            },
            "colorscale": [
             [
              0,
              "#0d0887"
             ],
             [
              0.1111111111111111,
              "#46039f"
             ],
             [
              0.2222222222222222,
              "#7201a8"
             ],
             [
              0.3333333333333333,
              "#9c179e"
             ],
             [
              0.4444444444444444,
              "#bd3786"
             ],
             [
              0.5555555555555556,
              "#d8576b"
             ],
             [
              0.6666666666666666,
              "#ed7953"
             ],
             [
              0.7777777777777778,
              "#fb9f3a"
             ],
             [
              0.8888888888888888,
              "#fdca26"
             ],
             [
              1,
              "#f0f921"
             ]
            ],
            "type": "heatmap"
           }
          ],
          "heatmapgl": [
           {
            "colorbar": {
             "outlinewidth": 0,
             "ticks": ""
            },
            "colorscale": [
             [
              0,
              "#0d0887"
             ],
             [
              0.1111111111111111,
              "#46039f"
             ],
             [
              0.2222222222222222,
              "#7201a8"
             ],
             [
              0.3333333333333333,
              "#9c179e"
             ],
             [
              0.4444444444444444,
              "#bd3786"
             ],
             [
              0.5555555555555556,
              "#d8576b"
             ],
             [
              0.6666666666666666,
              "#ed7953"
             ],
             [
              0.7777777777777778,
              "#fb9f3a"
             ],
             [
              0.8888888888888888,
              "#fdca26"
             ],
             [
              1,
              "#f0f921"
             ]
            ],
            "type": "heatmapgl"
           }
          ],
          "histogram": [
           {
            "marker": {
             "pattern": {
              "fillmode": "overlay",
              "size": 10,
              "solidity": 0.2
             }
            },
            "type": "histogram"
           }
          ],
          "histogram2d": [
           {
            "colorbar": {
             "outlinewidth": 0,
             "ticks": ""
            },
            "colorscale": [
             [
              0,
              "#0d0887"
             ],
             [
              0.1111111111111111,
              "#46039f"
             ],
             [
              0.2222222222222222,
              "#7201a8"
             ],
             [
              0.3333333333333333,
              "#9c179e"
             ],
             [
              0.4444444444444444,
              "#bd3786"
             ],
             [
              0.5555555555555556,
              "#d8576b"
             ],
             [
              0.6666666666666666,
              "#ed7953"
             ],
             [
              0.7777777777777778,
              "#fb9f3a"
             ],
             [
              0.8888888888888888,
              "#fdca26"
             ],
             [
              1,
              "#f0f921"
             ]
            ],
            "type": "histogram2d"
           }
          ],
          "histogram2dcontour": [
           {
            "colorbar": {
             "outlinewidth": 0,
             "ticks": ""
            },
            "colorscale": [
             [
              0,
              "#0d0887"
             ],
             [
              0.1111111111111111,
              "#46039f"
             ],
             [
              0.2222222222222222,
              "#7201a8"
             ],
             [
              0.3333333333333333,
              "#9c179e"
             ],
             [
              0.4444444444444444,
              "#bd3786"
             ],
             [
              0.5555555555555556,
              "#d8576b"
             ],
             [
              0.6666666666666666,
              "#ed7953"
             ],
             [
              0.7777777777777778,
              "#fb9f3a"
             ],
             [
              0.8888888888888888,
              "#fdca26"
             ],
             [
              1,
              "#f0f921"
             ]
            ],
            "type": "histogram2dcontour"
           }
          ],
          "mesh3d": [
           {
            "colorbar": {
             "outlinewidth": 0,
             "ticks": ""
            },
            "type": "mesh3d"
           }
          ],
          "parcoords": [
           {
            "line": {
             "colorbar": {
              "outlinewidth": 0,
              "ticks": ""
             }
            },
            "type": "parcoords"
           }
          ],
          "pie": [
           {
            "automargin": true,
            "type": "pie"
           }
          ],
          "scatter": [
           {
            "fillpattern": {
             "fillmode": "overlay",
             "size": 10,
             "solidity": 0.2
            },
            "type": "scatter"
           }
          ],
          "scatter3d": [
           {
            "line": {
             "colorbar": {
              "outlinewidth": 0,
              "ticks": ""
             }
            },
            "marker": {
             "colorbar": {
              "outlinewidth": 0,
              "ticks": ""
             }
            },
            "type": "scatter3d"
           }
          ],
          "scattercarpet": [
           {
            "marker": {
             "colorbar": {
              "outlinewidth": 0,
              "ticks": ""
             }
            },
            "type": "scattercarpet"
           }
          ],
          "scattergeo": [
           {
            "marker": {
             "colorbar": {
              "outlinewidth": 0,
              "ticks": ""
             }
            },
            "type": "scattergeo"
           }
          ],
          "scattergl": [
           {
            "marker": {
             "colorbar": {
              "outlinewidth": 0,
              "ticks": ""
             }
            },
            "type": "scattergl"
           }
          ],
          "scattermapbox": [
           {
            "marker": {
             "colorbar": {
              "outlinewidth": 0,
              "ticks": ""
             }
            },
            "type": "scattermapbox"
           }
          ],
          "scatterpolar": [
           {
            "marker": {
             "colorbar": {
              "outlinewidth": 0,
              "ticks": ""
             }
            },
            "type": "scatterpolar"
           }
          ],
          "scatterpolargl": [
           {
            "marker": {
             "colorbar": {
              "outlinewidth": 0,
              "ticks": ""
             }
            },
            "type": "scatterpolargl"
           }
          ],
          "scatterternary": [
           {
            "marker": {
             "colorbar": {
              "outlinewidth": 0,
              "ticks": ""
             }
            },
            "type": "scatterternary"
           }
          ],
          "surface": [
           {
            "colorbar": {
             "outlinewidth": 0,
             "ticks": ""
            },
            "colorscale": [
             [
              0,
              "#0d0887"
             ],
             [
              0.1111111111111111,
              "#46039f"
             ],
             [
              0.2222222222222222,
              "#7201a8"
             ],
             [
              0.3333333333333333,
              "#9c179e"
             ],
             [
              0.4444444444444444,
              "#bd3786"
             ],
             [
              0.5555555555555556,
              "#d8576b"
             ],
             [
              0.6666666666666666,
              "#ed7953"
             ],
             [
              0.7777777777777778,
              "#fb9f3a"
             ],
             [
              0.8888888888888888,
              "#fdca26"
             ],
             [
              1,
              "#f0f921"
             ]
            ],
            "type": "surface"
           }
          ],
          "table": [
           {
            "cells": {
             "fill": {
              "color": "#EBF0F8"
             },
             "line": {
              "color": "white"
             }
            },
            "header": {
             "fill": {
              "color": "#C8D4E3"
             },
             "line": {
              "color": "white"
             }
            },
            "type": "table"
           }
          ]
         },
         "layout": {
          "annotationdefaults": {
           "arrowcolor": "#2a3f5f",
           "arrowhead": 0,
           "arrowwidth": 1
          },
          "autotypenumbers": "strict",
          "coloraxis": {
           "colorbar": {
            "outlinewidth": 0,
            "ticks": ""
           }
          },
          "colorscale": {
           "diverging": [
            [
             0,
             "#8e0152"
            ],
            [
             0.1,
             "#c51b7d"
            ],
            [
             0.2,
             "#de77ae"
            ],
            [
             0.3,
             "#f1b6da"
            ],
            [
             0.4,
             "#fde0ef"
            ],
            [
             0.5,
             "#f7f7f7"
            ],
            [
             0.6,
             "#e6f5d0"
            ],
            [
             0.7,
             "#b8e186"
            ],
            [
             0.8,
             "#7fbc41"
            ],
            [
             0.9,
             "#4d9221"
            ],
            [
             1,
             "#276419"
            ]
           ],
           "sequential": [
            [
             0,
             "#0d0887"
            ],
            [
             0.1111111111111111,
             "#46039f"
            ],
            [
             0.2222222222222222,
             "#7201a8"
            ],
            [
             0.3333333333333333,
             "#9c179e"
            ],
            [
             0.4444444444444444,
             "#bd3786"
            ],
            [
             0.5555555555555556,
             "#d8576b"
            ],
            [
             0.6666666666666666,
             "#ed7953"
            ],
            [
             0.7777777777777778,
             "#fb9f3a"
            ],
            [
             0.8888888888888888,
             "#fdca26"
            ],
            [
             1,
             "#f0f921"
            ]
           ],
           "sequentialminus": [
            [
             0,
             "#0d0887"
            ],
            [
             0.1111111111111111,
             "#46039f"
            ],
            [
             0.2222222222222222,
             "#7201a8"
            ],
            [
             0.3333333333333333,
             "#9c179e"
            ],
            [
             0.4444444444444444,
             "#bd3786"
            ],
            [
             0.5555555555555556,
             "#d8576b"
            ],
            [
             0.6666666666666666,
             "#ed7953"
            ],
            [
             0.7777777777777778,
             "#fb9f3a"
            ],
            [
             0.8888888888888888,
             "#fdca26"
            ],
            [
             1,
             "#f0f921"
            ]
           ]
          },
          "colorway": [
           "#636efa",
           "#EF553B",
           "#00cc96",
           "#ab63fa",
           "#FFA15A",
           "#19d3f3",
           "#FF6692",
           "#B6E880",
           "#FF97FF",
           "#FECB52"
          ],
          "font": {
           "color": "#2a3f5f"
          },
          "geo": {
           "bgcolor": "white",
           "lakecolor": "white",
           "landcolor": "#E5ECF6",
           "showlakes": true,
           "showland": true,
           "subunitcolor": "white"
          },
          "hoverlabel": {
           "align": "left"
          },
          "hovermode": "closest",
          "mapbox": {
           "style": "light"
          },
          "paper_bgcolor": "white",
          "plot_bgcolor": "#E5ECF6",
          "polar": {
           "angularaxis": {
            "gridcolor": "white",
            "linecolor": "white",
            "ticks": ""
           },
           "bgcolor": "#E5ECF6",
           "radialaxis": {
            "gridcolor": "white",
            "linecolor": "white",
            "ticks": ""
           }
          },
          "scene": {
           "xaxis": {
            "backgroundcolor": "#E5ECF6",
            "gridcolor": "white",
            "gridwidth": 2,
            "linecolor": "white",
            "showbackground": true,
            "ticks": "",
            "zerolinecolor": "white"
           },
           "yaxis": {
            "backgroundcolor": "#E5ECF6",
            "gridcolor": "white",
            "gridwidth": 2,
            "linecolor": "white",
            "showbackground": true,
            "ticks": "",
            "zerolinecolor": "white"
           },
           "zaxis": {
            "backgroundcolor": "#E5ECF6",
            "gridcolor": "white",
            "gridwidth": 2,
            "linecolor": "white",
            "showbackground": true,
            "ticks": "",
            "zerolinecolor": "white"
           }
          },
          "shapedefaults": {
           "line": {
            "color": "#2a3f5f"
           }
          },
          "ternary": {
           "aaxis": {
            "gridcolor": "white",
            "linecolor": "white",
            "ticks": ""
           },
           "baxis": {
            "gridcolor": "white",
            "linecolor": "white",
            "ticks": ""
           },
           "bgcolor": "#E5ECF6",
           "caxis": {
            "gridcolor": "white",
            "linecolor": "white",
            "ticks": ""
           }
          },
          "title": {
           "x": 0.05
          },
          "xaxis": {
           "automargin": true,
           "gridcolor": "white",
           "linecolor": "white",
           "ticks": "",
           "title": {
            "standoff": 15
           },
           "zerolinecolor": "white",
           "zerolinewidth": 2
          },
          "yaxis": {
           "automargin": true,
           "gridcolor": "white",
           "linecolor": "white",
           "ticks": "",
           "title": {
            "standoff": 15
           },
           "zerolinecolor": "white",
           "zerolinewidth": 2
          }
         }
        },
        "title": {
         "text": "3D PCA with County Color Coding"
        },
        "width": 1100
       }
      }
     },
     "metadata": {},
     "output_type": "display_data"
    }
   ],
   "source": [
    "# Apply 3D PCA\n",
    "pca_3d = PCA(n_components=3)\n",
    "pca_result_3d = pca_3d.fit_transform(normalized_df)\n",
    "\n",
    "# Create a DataFrame for 3D PCA results\n",
    "pca_df_3d = pd.DataFrame(data=pca_result_3d, columns=['PC1', 'PC2', 'PC3'])\n",
    "pca_df_3d['County'] = branch_level_data['County']\n",
    "\n",
    "# Plot 3D PCA with Plotly\n",
    "fig = px.scatter_3d(pca_df_3d, x='PC1', y='PC2', z='PC3', color='County', labels={'County': 'County'}, \n",
    "                    title='3D PCA with County Color Coding', opacity=0.7, width=1100, height=800,\n",
    "                    color_discrete_sequence=px.colors.qualitative.Set1)\n",
    "fig.update_layout(margin=dict(l=0, r=0, b=0, t=0))\n",
    "fig.update_traces(marker_size=5)\n",
    "fig.update_layout(legend_title_text='County', legend=dict(yanchor=\"top\", y=0.79, xanchor=\"left\", x=0.01))\n",
    "\n",
    "# Show the interactive 3D plot\n",
    "fig.show()"
   ]
  },
  {
   "cell_type": "code",
   "execution_count": 16,
   "metadata": {},
   "outputs": [
    {
     "name": "stdout",
     "output_type": "stream",
     "text": [
      "Explained Variance Ratio: [0.73354733 0.10260918 0.080207  ]\n"
     ]
    }
   ],
   "source": [
    "# Print the explained variance ratio\n",
    "explained_variance_ratio = pca_3d.explained_variance_ratio_\n",
    "print(\"Explained Variance Ratio:\", explained_variance_ratio)"
   ]
  },
  {
   "cell_type": "code",
   "execution_count": 17,
   "metadata": {},
   "outputs": [
    {
     "name": "stdout",
     "output_type": "stream",
     "text": [
      "Cumulative Explained Variance: [0.73354733 0.83615651 0.91636351]\n"
     ]
    }
   ],
   "source": [
    "# Visualize the cumulative explained variance\n",
    "cumulative_variance = explained_variance_ratio.cumsum()\n",
    "print(\"Cumulative Explained Variance:\", cumulative_variance)"
   ]
  },
  {
   "cell_type": "code",
   "execution_count": 18,
   "metadata": {},
   "outputs": [
    {
     "name": "stdout",
     "output_type": "stream",
     "text": [
      "Feature Loadings for PC1:\n",
      "Home Banking         0.375052\n",
      "Draft                0.369809\n",
      "Fee                  0.369386\n",
      "Dividend             0.362099\n",
      "ATM                  0.340491\n",
      "Credit/Debit Card    0.334605\n",
      "Cash                 0.320927\n",
      "ACH                  0.313852\n",
      "Bill Payment         0.160074\n",
      "Name: PC1, dtype: float64\n",
      "\n",
      "Feature Loadings for PC2:\n",
      "Bill Payment         0.866065\n",
      "ACH                  0.299259\n",
      "Draft                0.050294\n",
      "Home Banking         0.023659\n",
      "Cash                -0.019683\n",
      "Dividend            -0.099272\n",
      "Fee                 -0.121951\n",
      "Credit/Debit Card   -0.228182\n",
      "ATM                 -0.283029\n",
      "Name: PC2, dtype: float64\n",
      "\n",
      "Feature Loadings for PC3:\n",
      "Credit/Debit Card    0.473294\n",
      "Bill Payment         0.382239\n",
      "Dividend             0.262590\n",
      "Fee                  0.137018\n",
      "ATM                  0.096695\n",
      "Home Banking        -0.014182\n",
      "Draft               -0.217140\n",
      "Cash                -0.480137\n",
      "ACH                 -0.504902\n",
      "Name: PC3, dtype: float64\n"
     ]
    }
   ],
   "source": [
    "# Get the feature loadings for PC1, PC2, and PC3\n",
    "loadings_df = pd.DataFrame(pca_3d.components_, columns=normalized_df.columns, index=['PC1', 'PC2', 'PC3'])\n",
    "\n",
    "# Display the feature loadings\n",
    "print(\"Feature Loadings for PC1:\")\n",
    "print(loadings_df.loc['PC1'].sort_values(ascending=False))\n",
    "\n",
    "print(\"\\nFeature Loadings for PC2:\")\n",
    "print(loadings_df.loc['PC2'].sort_values(ascending=False))\n",
    "\n",
    "print(\"\\nFeature Loadings for PC3:\")\n",
    "print(loadings_df.loc['PC3'].sort_values(ascending=False))"
   ]
  },
  {
   "cell_type": "code",
   "execution_count": 19,
   "metadata": {},
   "outputs": [
    {
     "data": {
      "text/html": [
       "<div>\n",
       "<style scoped>\n",
       "    .dataframe tbody tr th:only-of-type {\n",
       "        vertical-align: middle;\n",
       "    }\n",
       "\n",
       "    .dataframe tbody tr th {\n",
       "        vertical-align: top;\n",
       "    }\n",
       "\n",
       "    .dataframe thead th {\n",
       "        text-align: right;\n",
       "    }\n",
       "</style>\n",
       "<table border=\"1\" class=\"dataframe\">\n",
       "  <thead>\n",
       "    <tr style=\"text-align: right;\">\n",
       "      <th></th>\n",
       "      <th>PC1</th>\n",
       "      <th>PC2</th>\n",
       "      <th>PC3</th>\n",
       "      <th>County</th>\n",
       "      <th>Revenue_Per_County</th>\n",
       "    </tr>\n",
       "  </thead>\n",
       "  <tbody>\n",
       "    <tr>\n",
       "      <th>0</th>\n",
       "      <td>-3.928480</td>\n",
       "      <td>0.158439</td>\n",
       "      <td>-0.286203</td>\n",
       "      <td>Orange</td>\n",
       "      <td>6968835122</td>\n",
       "    </tr>\n",
       "    <tr>\n",
       "      <th>1</th>\n",
       "      <td>0.451635</td>\n",
       "      <td>0.401322</td>\n",
       "      <td>-0.372388</td>\n",
       "      <td>Seminole</td>\n",
       "      <td>1830400546</td>\n",
       "    </tr>\n",
       "    <tr>\n",
       "      <th>2</th>\n",
       "      <td>2.569815</td>\n",
       "      <td>0.302398</td>\n",
       "      <td>-0.817412</td>\n",
       "      <td>Orange</td>\n",
       "      <td>6968835122</td>\n",
       "    </tr>\n",
       "    <tr>\n",
       "      <th>3</th>\n",
       "      <td>1.357435</td>\n",
       "      <td>0.353113</td>\n",
       "      <td>-0.546204</td>\n",
       "      <td>Lake</td>\n",
       "      <td>1003940427</td>\n",
       "    </tr>\n",
       "    <tr>\n",
       "      <th>4</th>\n",
       "      <td>-3.407836</td>\n",
       "      <td>0.081765</td>\n",
       "      <td>-0.280570</td>\n",
       "      <td>Orange</td>\n",
       "      <td>6968835122</td>\n",
       "    </tr>\n",
       "  </tbody>\n",
       "</table>\n",
       "</div>"
      ],
      "text/plain": [
       "        PC1       PC2       PC3    County Revenue_Per_County\n",
       "0 -3.928480  0.158439 -0.286203    Orange         6968835122\n",
       "1  0.451635  0.401322 -0.372388  Seminole         1830400546\n",
       "2  2.569815  0.302398 -0.817412    Orange         6968835122\n",
       "3  1.357435  0.353113 -0.546204      Lake         1003940427\n",
       "4 -3.407836  0.081765 -0.280570    Orange         6968835122"
      ]
     },
     "execution_count": 19,
     "metadata": {},
     "output_type": "execute_result"
    }
   ],
   "source": [
    "pca_df_3d['Revenue_Per_County'] = branch_level_data['Revenue_Per_County']\n",
    "pca_df_3d.head()"
   ]
  },
  {
   "cell_type": "code",
   "execution_count": 20,
   "metadata": {},
   "outputs": [
    {
     "name": "stdout",
     "output_type": "stream",
     "text": [
      "Mean Squared Error: 6.396534929290373e+18\n",
      "Coefficient of Determination (R^2): 0.0794782305544427\n",
      "      Coefficient\n",
      "PC1  1.410960e+08\n",
      "PC2 -4.586442e+08\n",
      "PC3 -5.321143e+07\n"
     ]
    }
   ],
   "source": [
    "from sklearn.linear_model import LinearRegression\n",
    "from sklearn.metrics import r2_score\n",
    "from sklearn.metrics import mean_squared_error\n",
    "from sklearn.model_selection import train_test_split\n",
    "\n",
    "\n",
    "X = pca_df_3d.drop(columns=['Revenue_Per_County','County'])\n",
    "y = pca_df_3d['Revenue_Per_County']\n",
    "\n",
    "# Convert 'Revenue_Per_County' to numeric, in case it's not\n",
    "y = pd.to_numeric(y, errors='coerce')\n",
    "\n",
    "# Split the data into training and testing sets\n",
    "X_train, X_test, y_train, y_test = train_test_split(X, y, test_size=0.2, random_state=0)\n",
    "\n",
    "# Create and fit the model\n",
    "model = LinearRegression()\n",
    "model.fit(X_train, y_train)\n",
    "\n",
    "# Predict and evaluate the model\n",
    "y_pred = model.predict(X_test)\n",
    "print('Mean Squared Error:', mean_squared_error(y_test, y_pred))\n",
    "print('Coefficient of Determination (R^2):', r2_score(y_test, y_pred))\n",
    "\n",
    "# Optionally, print the coefficients for each feature\n",
    "feature_coefficients = pd.DataFrame(model.coef_, X.columns, columns=['Coefficient'])\n",
    "print(feature_coefficients)"
   ]
  },
  {
   "cell_type": "code",
   "execution_count": 21,
   "metadata": {},
   "outputs": [
    {
     "name": "stdout",
     "output_type": "stream",
     "text": [
      "  Variable  VIF\n",
      "0      PC1  1.0\n",
      "1      PC2  1.0\n",
      "2      PC3  1.0\n"
     ]
    }
   ],
   "source": [
    "from statsmodels.stats.outliers_influence import variance_inflation_factor\n",
    "\n",
    "vif_data = pd.DataFrame()\n",
    "vif_data[\"Variable\"] = X.columns\n",
    "vif_data[\"VIF\"] = [variance_inflation_factor(X.values, i) for i in range(X.shape[1])]\n",
    "print(vif_data)"
   ]
  }
 ],
 "metadata": {
  "kernelspec": {
   "display_name": "Python 3 (ipykernel)",
   "language": "python",
   "name": "python3"
  },
  "language_info": {
   "codemirror_mode": {
    "name": "ipython",
    "version": 3
   },
   "file_extension": ".py",
   "mimetype": "text/x-python",
   "name": "python",
   "nbconvert_exporter": "python",
   "pygments_lexer": "ipython3",
   "version": "3.9.18"
  }
 },
 "nbformat": 4,
 "nbformat_minor": 5
}
