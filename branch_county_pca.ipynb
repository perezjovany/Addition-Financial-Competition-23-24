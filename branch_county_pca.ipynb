{
 "cells": [
  {
   "cell_type": "markdown",
   "id": "312e15d1-a3a2-414f-b6b9-34c8a422418c",
   "metadata": {},
   "source": [
    "•\tEDA: Explore multicollinearity using variance inflation factors, pinpoint heteroscedasticity, and delineate variable relationships."
   ]
  },
  {
   "cell_type": "markdown",
   "metadata": {},
   "source": [
    "# Import Packages and Data"
   ]
  },
  {
   "cell_type": "code",
   "execution_count": 34,
   "id": "24b2a348-9588-405e-b9b6-2baee96510cb",
   "metadata": {
    "tags": []
   },
   "outputs": [],
   "source": [
    "import pandas as pd\n",
    "import numpy as np\n",
    "import statsmodels.api as sm\n",
    "import matplotlib.pyplot as plt\n",
    "import seaborn as sns\n",
    "import warnings\n",
    "import plotly.express as px\n",
    "\n",
    "warnings.filterwarnings(\"ignore\", category=FutureWarning)"
   ]
  },
  {
   "cell_type": "code",
   "execution_count": 35,
   "id": "4c43e6fd-1908-4012-8a9a-3a4e9513a7cb",
   "metadata": {
    "tags": []
   },
   "outputs": [
    {
     "data": {
      "text/html": [
       "<div>\n",
       "<style scoped>\n",
       "    .dataframe tbody tr th:only-of-type {\n",
       "        vertical-align: middle;\n",
       "    }\n",
       "\n",
       "    .dataframe tbody tr th {\n",
       "        vertical-align: top;\n",
       "    }\n",
       "\n",
       "    .dataframe thead th {\n",
       "        text-align: right;\n",
       "    }\n",
       "</style>\n",
       "<table border=\"1\" class=\"dataframe\">\n",
       "  <thead>\n",
       "    <tr style=\"text-align: right;\">\n",
       "      <th></th>\n",
       "      <th>EOM_TRANS_DATE</th>\n",
       "      <th>BranchCategory</th>\n",
       "      <th>ATM</th>\n",
       "      <th>Bill Payment</th>\n",
       "      <th>Cash</th>\n",
       "      <th>Draft</th>\n",
       "      <th>ACH</th>\n",
       "      <th>Fee</th>\n",
       "      <th>Credit/Debit Card</th>\n",
       "      <th>Home Banking</th>\n",
       "      <th>Dividend</th>\n",
       "    </tr>\n",
       "  </thead>\n",
       "  <tbody>\n",
       "    <tr>\n",
       "      <th>0</th>\n",
       "      <td>2022-01-31</td>\n",
       "      <td>Addition Financial Arena</td>\n",
       "      <td>0</td>\n",
       "      <td>3</td>\n",
       "      <td>0</td>\n",
       "      <td>28</td>\n",
       "      <td>5</td>\n",
       "      <td>20</td>\n",
       "      <td>6</td>\n",
       "      <td>4</td>\n",
       "      <td>14</td>\n",
       "    </tr>\n",
       "    <tr>\n",
       "      <th>1</th>\n",
       "      <td>2022-01-31</td>\n",
       "      <td>Altamonte Springs</td>\n",
       "      <td>98</td>\n",
       "      <td>394</td>\n",
       "      <td>64</td>\n",
       "      <td>469</td>\n",
       "      <td>1589</td>\n",
       "      <td>416</td>\n",
       "      <td>1642</td>\n",
       "      <td>646</td>\n",
       "      <td>3650</td>\n",
       "    </tr>\n",
       "    <tr>\n",
       "      <th>2</th>\n",
       "      <td>2022-01-31</td>\n",
       "      <td>Apopka</td>\n",
       "      <td>198</td>\n",
       "      <td>540</td>\n",
       "      <td>132</td>\n",
       "      <td>705</td>\n",
       "      <td>2219</td>\n",
       "      <td>560</td>\n",
       "      <td>1983</td>\n",
       "      <td>724</td>\n",
       "      <td>5731</td>\n",
       "    </tr>\n",
       "    <tr>\n",
       "      <th>3</th>\n",
       "      <td>2022-01-31</td>\n",
       "      <td>Boone High School</td>\n",
       "      <td>1</td>\n",
       "      <td>10</td>\n",
       "      <td>2</td>\n",
       "      <td>8</td>\n",
       "      <td>30</td>\n",
       "      <td>9</td>\n",
       "      <td>80</td>\n",
       "      <td>21</td>\n",
       "      <td>59</td>\n",
       "    </tr>\n",
       "    <tr>\n",
       "      <th>4</th>\n",
       "      <td>2022-01-31</td>\n",
       "      <td>Clermont</td>\n",
       "      <td>143</td>\n",
       "      <td>482</td>\n",
       "      <td>103</td>\n",
       "      <td>499</td>\n",
       "      <td>1940</td>\n",
       "      <td>539</td>\n",
       "      <td>1834</td>\n",
       "      <td>580</td>\n",
       "      <td>4551</td>\n",
       "    </tr>\n",
       "  </tbody>\n",
       "</table>\n",
       "</div>"
      ],
      "text/plain": [
       "  EOM_TRANS_DATE            BranchCategory  ATM  Bill Payment  Cash  Draft  \\\n",
       "0     2022-01-31  Addition Financial Arena    0             3     0     28   \n",
       "1     2022-01-31         Altamonte Springs   98           394    64    469   \n",
       "2     2022-01-31                    Apopka  198           540   132    705   \n",
       "3     2022-01-31         Boone High School    1            10     2      8   \n",
       "4     2022-01-31                  Clermont  143           482   103    499   \n",
       "\n",
       "    ACH  Fee  Credit/Debit Card  Home Banking  Dividend  \n",
       "0     5   20                  6             4        14  \n",
       "1  1589  416               1642           646      3650  \n",
       "2  2219  560               1983           724      5731  \n",
       "3    30    9                 80            21        59  \n",
       "4  1940  539               1834           580      4551  "
      ]
     },
     "execution_count": 35,
     "metadata": {},
     "output_type": "execute_result"
    }
   ],
   "source": [
    "branch_level_data = pd.read_csv('data/Branch_Level_Dataset.csv')\n",
    "branch_level_data.head(5)"
   ]
  },
  {
   "cell_type": "markdown",
   "metadata": {},
   "source": [
    "# Data Preprocessing"
   ]
  },
  {
   "cell_type": "code",
   "execution_count": 36,
   "id": "193c3ac0-dff8-4a41-a1cb-c7a66c16721e",
   "metadata": {
    "tags": []
   },
   "outputs": [
    {
     "name": "stdout",
     "output_type": "stream",
     "text": [
      "  EOM_TRANS_DATE            BranchCategory  ATM  Bill Payment  Cash  Draft  \\\n",
      "0     2022-01-31  Addition Financial Arena    0             3     0     28   \n",
      "1     2022-01-31         Altamonte Springs   98           394    64    469   \n",
      "2     2022-01-31                    Apopka  198           540   132    705   \n",
      "4     2022-01-31                  Clermont  143           482   103    499   \n",
      "6     2022-01-31           Downtown Campus   27            35    12     62   \n",
      "\n",
      "    ACH  Fee  Credit/Debit Card  Home Banking  Dividend  \n",
      "0     5   20                  6             4        14  \n",
      "1  1589  416               1642           646      3650  \n",
      "2  2219  560               1983           724      5731  \n",
      "4  1940  539               1834           580      4551  \n",
      "6   134   78                227            47       275  \n",
      "EOM_TRANS_DATE       0\n",
      "BranchCategory       0\n",
      "ATM                  0\n",
      "Bill Payment         0\n",
      "Cash                 0\n",
      "Draft                0\n",
      "ACH                  0\n",
      "Fee                  0\n",
      "Credit/Debit Card    0\n",
      "Home Banking         0\n",
      "Dividend             0\n",
      "dtype: int64\n"
     ]
    }
   ],
   "source": [
    "# Remove rows where BranchCategory is 'High School' or 'Virtual Branch'\n",
    "branch_level_data = branch_level_data[~branch_level_data['BranchCategory'].str.contains(\"High School|Virtual Branch\")]\n",
    "\n",
    "# Check for null values in the DataFrame\n",
    "null_values = branch_level_data.isnull().sum()\n",
    "\n",
    "# Displaying the DataFrame and the null values information\n",
    "print(branch_level_data.head())\n",
    "print(null_values)\n"
   ]
  },
  {
   "cell_type": "code",
   "execution_count": 37,
   "id": "d19c195b-3778-45c9-91ef-5f5fb853032b",
   "metadata": {
    "tags": []
   },
   "outputs": [
    {
     "name": "stdout",
     "output_type": "stream",
     "text": [
      "     County Revenue_Per_County\n",
      "1   Alachua         1082349199\n",
      "2     Baker           89157684\n",
      "3       Bay         1193216378\n",
      "4  Bradford           85933027\n",
      "5   Brevard          958971976\n"
     ]
    }
   ],
   "source": [
    "import pandas as pd\n",
    "\n",
    "# Load the Excel file\n",
    "file_path = 'data/countyrevenuesbycategory.xlsx'\n",
    "df_revenue = pd.read_excel(file_path)\n",
    "\n",
    "# Selecting only the 'County' and 'TOTAL - All Revenue Account Codes' columns\n",
    "# Assuming these are the first and the third-last columns in your DataFrame\n",
    "df_revenue = df_revenue.iloc[:, [0, -3]]\n",
    "\n",
    "# Renaming the columns for clarity\n",
    "df_revenue.columns = ['County', 'Revenue_Per_County']\n",
    "\n",
    "# Dropping the first row if it contains headers from the original table\n",
    "df_revenue = df_revenue.drop(0)\n",
    "\n",
    "# Displaying the modified DataFrame\n",
    "print(df_revenue.head())\n",
    "\n"
   ]
  },
  {
   "cell_type": "code",
   "execution_count": 38,
   "id": "4f9ee000-de44-44e8-ab8e-8d93337bdf93",
   "metadata": {
    "tags": []
   },
   "outputs": [
    {
     "data": {
      "text/html": [
       "<div>\n",
       "<style scoped>\n",
       "    .dataframe tbody tr th:only-of-type {\n",
       "        vertical-align: middle;\n",
       "    }\n",
       "\n",
       "    .dataframe tbody tr th {\n",
       "        vertical-align: top;\n",
       "    }\n",
       "\n",
       "    .dataframe thead th {\n",
       "        text-align: right;\n",
       "    }\n",
       "</style>\n",
       "<table border=\"1\" class=\"dataframe\">\n",
       "  <thead>\n",
       "    <tr style=\"text-align: right;\">\n",
       "      <th></th>\n",
       "      <th>EOM_TRANS_DATE</th>\n",
       "      <th>BranchCategory</th>\n",
       "      <th>ATM</th>\n",
       "      <th>Bill Payment</th>\n",
       "      <th>Cash</th>\n",
       "      <th>Draft</th>\n",
       "      <th>ACH</th>\n",
       "      <th>Fee</th>\n",
       "      <th>Credit/Debit Card</th>\n",
       "      <th>Home Banking</th>\n",
       "      <th>Dividend</th>\n",
       "      <th>County</th>\n",
       "      <th>Revenue_Per_County</th>\n",
       "    </tr>\n",
       "  </thead>\n",
       "  <tbody>\n",
       "    <tr>\n",
       "      <th>0</th>\n",
       "      <td>2022-01-31</td>\n",
       "      <td>Addition Financial Arena</td>\n",
       "      <td>0</td>\n",
       "      <td>3</td>\n",
       "      <td>0</td>\n",
       "      <td>28</td>\n",
       "      <td>5</td>\n",
       "      <td>20</td>\n",
       "      <td>6</td>\n",
       "      <td>4</td>\n",
       "      <td>14</td>\n",
       "      <td>Orange</td>\n",
       "      <td>6968835122</td>\n",
       "    </tr>\n",
       "    <tr>\n",
       "      <th>1</th>\n",
       "      <td>2022-01-31</td>\n",
       "      <td>Altamonte Springs</td>\n",
       "      <td>98</td>\n",
       "      <td>394</td>\n",
       "      <td>64</td>\n",
       "      <td>469</td>\n",
       "      <td>1589</td>\n",
       "      <td>416</td>\n",
       "      <td>1642</td>\n",
       "      <td>646</td>\n",
       "      <td>3650</td>\n",
       "      <td>Seminole</td>\n",
       "      <td>1830400546</td>\n",
       "    </tr>\n",
       "    <tr>\n",
       "      <th>2</th>\n",
       "      <td>2022-01-31</td>\n",
       "      <td>Apopka</td>\n",
       "      <td>198</td>\n",
       "      <td>540</td>\n",
       "      <td>132</td>\n",
       "      <td>705</td>\n",
       "      <td>2219</td>\n",
       "      <td>560</td>\n",
       "      <td>1983</td>\n",
       "      <td>724</td>\n",
       "      <td>5731</td>\n",
       "      <td>Orange</td>\n",
       "      <td>6968835122</td>\n",
       "    </tr>\n",
       "    <tr>\n",
       "      <th>3</th>\n",
       "      <td>2022-01-31</td>\n",
       "      <td>Clermont</td>\n",
       "      <td>143</td>\n",
       "      <td>482</td>\n",
       "      <td>103</td>\n",
       "      <td>499</td>\n",
       "      <td>1940</td>\n",
       "      <td>539</td>\n",
       "      <td>1834</td>\n",
       "      <td>580</td>\n",
       "      <td>4551</td>\n",
       "      <td>Lake</td>\n",
       "      <td>1003940427</td>\n",
       "    </tr>\n",
       "    <tr>\n",
       "      <th>4</th>\n",
       "      <td>2022-01-31</td>\n",
       "      <td>Downtown Campus</td>\n",
       "      <td>27</td>\n",
       "      <td>35</td>\n",
       "      <td>12</td>\n",
       "      <td>62</td>\n",
       "      <td>134</td>\n",
       "      <td>78</td>\n",
       "      <td>227</td>\n",
       "      <td>47</td>\n",
       "      <td>275</td>\n",
       "      <td>Orange</td>\n",
       "      <td>6968835122</td>\n",
       "    </tr>\n",
       "  </tbody>\n",
       "</table>\n",
       "</div>"
      ],
      "text/plain": [
       "  EOM_TRANS_DATE            BranchCategory  ATM  Bill Payment  Cash  Draft  \\\n",
       "0     2022-01-31  Addition Financial Arena    0             3     0     28   \n",
       "1     2022-01-31         Altamonte Springs   98           394    64    469   \n",
       "2     2022-01-31                    Apopka  198           540   132    705   \n",
       "3     2022-01-31                  Clermont  143           482   103    499   \n",
       "4     2022-01-31           Downtown Campus   27            35    12     62   \n",
       "\n",
       "    ACH  Fee  Credit/Debit Card  Home Banking  Dividend    County  \\\n",
       "0     5   20                  6             4        14    Orange   \n",
       "1  1589  416               1642           646      3650  Seminole   \n",
       "2  2219  560               1983           724      5731    Orange   \n",
       "3  1940  539               1834           580      4551      Lake   \n",
       "4   134   78                227            47       275    Orange   \n",
       "\n",
       "  Revenue_Per_County  \n",
       "0         6968835122  \n",
       "1         1830400546  \n",
       "2         6968835122  \n",
       "3         1003940427  \n",
       "4         6968835122  "
      ]
     },
     "execution_count": 38,
     "metadata": {},
     "output_type": "execute_result"
    }
   ],
   "source": [
    "import pandas as pd\n",
    "\n",
    "# Map BranchCategory to County\n",
    "city_to_county_mapping = {\n",
    "    'Addition Financial Arena': 'Orange',\n",
    "    'Altamonte Springs': 'Seminole',\n",
    "    'Apopka': 'Orange',\n",
    "    'Clermont': 'Lake',\n",
    "    'Downtown Campus': 'Orange',\n",
    "    'East Orlando': 'Orange',\n",
    "    'Eustis': 'Lake',\n",
    "    'Fern Park': 'Seminole',\n",
    "    'Kissimmee': 'Osceola',\n",
    "    'Lake Mary': 'Seminole',\n",
    "    'Lake Nona': 'Orange',\n",
    "    'Leesburg': 'Lake',\n",
    "    'Longwood': 'Seminole',\n",
    "    'Merritt Island': 'Brevard',\n",
    "    'MetroWest': 'Orange',\n",
    "    'Mills': 'Orange',\n",
    "    'Orange City': 'Volusia',\n",
    "    'Oviedo': 'Seminole',\n",
    "    'Pine Hills': 'Orange',\n",
    "    'Poinciana': 'Polk',\n",
    "    'Sanford': 'Seminole',\n",
    "    'Seminole State': 'Seminole',\n",
    "    'South Orlando': 'Orange',\n",
    "    'St. Cloud': 'Osceola',\n",
    "    'The Loop': 'Osceola',\n",
    "    'UCF Campus': 'Orange',\n",
    "    'UCF Commons': 'Orange',\n",
    "    'Winter Garden': 'Orange'\n",
    "}\n",
    "\n",
    "branch_level_data['County'] = branch_level_data['BranchCategory'].map(city_to_county_mapping)\n",
    "\n",
    "# Load revenue data\n",
    "file_path = 'data/countyrevenuesbycategory.xlsx'\n",
    "df_revenue = pd.read_excel(file_path)\n",
    "\n",
    "# Selecting only 'County' and 'TOTAL - All Revenue Account Codes' columns\n",
    "df_revenue = df_revenue.iloc[:, [0, -3]]\n",
    "df_revenue.columns = ['County', 'Revenue_Per_County']\n",
    "df_revenue = df_revenue.drop(0)\n",
    "\n",
    "# Merging the DataFrames\n",
    "branch_level_data = pd.merge(branch_level_data, df_revenue, on='County', how='left')\n",
    "\n",
    "# Displaying the combined DataFrame\n",
    "branch_level_data.head()\n"
   ]
  },
  {
   "cell_type": "code",
   "execution_count": 39,
   "metadata": {},
   "outputs": [
    {
     "data": {
      "text/html": [
       "<div>\n",
       "<style scoped>\n",
       "    .dataframe tbody tr th:only-of-type {\n",
       "        vertical-align: middle;\n",
       "    }\n",
       "\n",
       "    .dataframe tbody tr th {\n",
       "        vertical-align: top;\n",
       "    }\n",
       "\n",
       "    .dataframe thead th {\n",
       "        text-align: right;\n",
       "    }\n",
       "</style>\n",
       "<table border=\"1\" class=\"dataframe\">\n",
       "  <thead>\n",
       "    <tr style=\"text-align: right;\">\n",
       "      <th></th>\n",
       "      <th>ATM</th>\n",
       "      <th>Bill Payment</th>\n",
       "      <th>Cash</th>\n",
       "      <th>Draft</th>\n",
       "      <th>ACH</th>\n",
       "      <th>Fee</th>\n",
       "      <th>Credit/Debit Card</th>\n",
       "      <th>Home Banking</th>\n",
       "      <th>Dividend</th>\n",
       "      <th>Revenue_Per_County</th>\n",
       "    </tr>\n",
       "  </thead>\n",
       "  <tbody>\n",
       "    <tr>\n",
       "      <th>0</th>\n",
       "      <td>0</td>\n",
       "      <td>3</td>\n",
       "      <td>0</td>\n",
       "      <td>28</td>\n",
       "      <td>5</td>\n",
       "      <td>20</td>\n",
       "      <td>6</td>\n",
       "      <td>4</td>\n",
       "      <td>14</td>\n",
       "      <td>6968835122</td>\n",
       "    </tr>\n",
       "    <tr>\n",
       "      <th>1</th>\n",
       "      <td>98</td>\n",
       "      <td>394</td>\n",
       "      <td>64</td>\n",
       "      <td>469</td>\n",
       "      <td>1589</td>\n",
       "      <td>416</td>\n",
       "      <td>1642</td>\n",
       "      <td>646</td>\n",
       "      <td>3650</td>\n",
       "      <td>1830400546</td>\n",
       "    </tr>\n",
       "    <tr>\n",
       "      <th>2</th>\n",
       "      <td>198</td>\n",
       "      <td>540</td>\n",
       "      <td>132</td>\n",
       "      <td>705</td>\n",
       "      <td>2219</td>\n",
       "      <td>560</td>\n",
       "      <td>1983</td>\n",
       "      <td>724</td>\n",
       "      <td>5731</td>\n",
       "      <td>6968835122</td>\n",
       "    </tr>\n",
       "    <tr>\n",
       "      <th>3</th>\n",
       "      <td>143</td>\n",
       "      <td>482</td>\n",
       "      <td>103</td>\n",
       "      <td>499</td>\n",
       "      <td>1940</td>\n",
       "      <td>539</td>\n",
       "      <td>1834</td>\n",
       "      <td>580</td>\n",
       "      <td>4551</td>\n",
       "      <td>1003940427</td>\n",
       "    </tr>\n",
       "    <tr>\n",
       "      <th>4</th>\n",
       "      <td>27</td>\n",
       "      <td>35</td>\n",
       "      <td>12</td>\n",
       "      <td>62</td>\n",
       "      <td>134</td>\n",
       "      <td>78</td>\n",
       "      <td>227</td>\n",
       "      <td>47</td>\n",
       "      <td>275</td>\n",
       "      <td>6968835122</td>\n",
       "    </tr>\n",
       "  </tbody>\n",
       "</table>\n",
       "</div>"
      ],
      "text/plain": [
       "   ATM  Bill Payment  Cash  Draft   ACH  Fee  Credit/Debit Card  Home Banking  \\\n",
       "0    0             3     0     28     5   20                  6             4   \n",
       "1   98           394    64    469  1589  416               1642           646   \n",
       "2  198           540   132    705  2219  560               1983           724   \n",
       "3  143           482   103    499  1940  539               1834           580   \n",
       "4   27            35    12     62   134   78                227            47   \n",
       "\n",
       "   Dividend Revenue_Per_County  \n",
       "0        14         6968835122  \n",
       "1      3650         1830400546  \n",
       "2      5731         6968835122  \n",
       "3      4551         1003940427  \n",
       "4       275         6968835122  "
      ]
     },
     "execution_count": 39,
     "metadata": {},
     "output_type": "execute_result"
    }
   ],
   "source": [
    "# Dropping unnecessary columns\n",
    "pre_normalized_df = branch_level_data.drop(['EOM_TRANS_DATE', 'BranchCategory', 'County'], axis=1)\n",
    "pre_normalized_df.head()"
   ]
  },
  {
   "cell_type": "code",
   "execution_count": 40,
   "metadata": {},
   "outputs": [
    {
     "data": {
      "text/html": [
       "<div>\n",
       "<style scoped>\n",
       "    .dataframe tbody tr th:only-of-type {\n",
       "        vertical-align: middle;\n",
       "    }\n",
       "\n",
       "    .dataframe tbody tr th {\n",
       "        vertical-align: top;\n",
       "    }\n",
       "\n",
       "    .dataframe thead th {\n",
       "        text-align: right;\n",
       "    }\n",
       "</style>\n",
       "<table border=\"1\" class=\"dataframe\">\n",
       "  <thead>\n",
       "    <tr style=\"text-align: right;\">\n",
       "      <th></th>\n",
       "      <th>ATM_norm</th>\n",
       "      <th>Bill Payment_norm</th>\n",
       "      <th>Cash_norm</th>\n",
       "      <th>Draft_norm</th>\n",
       "      <th>ACH_norm</th>\n",
       "      <th>Fee_norm</th>\n",
       "      <th>Credit/Debit Card_norm</th>\n",
       "      <th>Home Banking_norm</th>\n",
       "      <th>Dividend_norm</th>\n",
       "      <th>Revenue_Per_County_norm</th>\n",
       "    </tr>\n",
       "  </thead>\n",
       "  <tbody>\n",
       "    <tr>\n",
       "      <th>0</th>\n",
       "      <td>-1.449119</td>\n",
       "      <td>-0.617278</td>\n",
       "      <td>-1.138159</td>\n",
       "      <td>-1.348628</td>\n",
       "      <td>-1.026666</td>\n",
       "      <td>-1.596365</td>\n",
       "      <td>-1.436047</td>\n",
       "      <td>-1.445617</td>\n",
       "      <td>-1.484872</td>\n",
       "      <td>1.174476</td>\n",
       "    </tr>\n",
       "    <tr>\n",
       "      <th>1</th>\n",
       "      <td>-0.279600</td>\n",
       "      <td>0.138588</td>\n",
       "      <td>0.004137</td>\n",
       "      <td>0.433753</td>\n",
       "      <td>0.592510</td>\n",
       "      <td>0.099428</td>\n",
       "      <td>-0.040356</td>\n",
       "      <td>0.380911</td>\n",
       "      <td>0.030027</td>\n",
       "      <td>-0.718847</td>\n",
       "    </tr>\n",
       "    <tr>\n",
       "      <th>2</th>\n",
       "      <td>0.913787</td>\n",
       "      <td>0.420829</td>\n",
       "      <td>1.217827</td>\n",
       "      <td>1.387589</td>\n",
       "      <td>1.236501</td>\n",
       "      <td>0.716080</td>\n",
       "      <td>0.250555</td>\n",
       "      <td>0.602826</td>\n",
       "      <td>0.897052</td>\n",
       "      <td>1.174476</td>\n",
       "    </tr>\n",
       "    <tr>\n",
       "      <th>3</th>\n",
       "      <td>0.257424</td>\n",
       "      <td>0.308706</td>\n",
       "      <td>0.700224</td>\n",
       "      <td>0.555003</td>\n",
       "      <td>0.951305</td>\n",
       "      <td>0.626152</td>\n",
       "      <td>0.123441</td>\n",
       "      <td>0.193137</td>\n",
       "      <td>0.405418</td>\n",
       "      <td>-1.023367</td>\n",
       "    </tr>\n",
       "    <tr>\n",
       "      <th>4</th>\n",
       "      <td>-1.126905</td>\n",
       "      <td>-0.555417</td>\n",
       "      <td>-0.923979</td>\n",
       "      <td>-1.211211</td>\n",
       "      <td>-0.894802</td>\n",
       "      <td>-1.347991</td>\n",
       "      <td>-1.247509</td>\n",
       "      <td>-1.323280</td>\n",
       "      <td>-1.376130</td>\n",
       "      <td>1.174476</td>\n",
       "    </tr>\n",
       "  </tbody>\n",
       "</table>\n",
       "</div>"
      ],
      "text/plain": [
       "   ATM_norm  Bill Payment_norm  Cash_norm  Draft_norm  ACH_norm  Fee_norm  \\\n",
       "0 -1.449119          -0.617278  -1.138159   -1.348628 -1.026666 -1.596365   \n",
       "1 -0.279600           0.138588   0.004137    0.433753  0.592510  0.099428   \n",
       "2  0.913787           0.420829   1.217827    1.387589  1.236501  0.716080   \n",
       "3  0.257424           0.308706   0.700224    0.555003  0.951305  0.626152   \n",
       "4 -1.126905          -0.555417  -0.923979   -1.211211 -0.894802 -1.347991   \n",
       "\n",
       "   Credit/Debit Card_norm  Home Banking_norm  Dividend_norm  \\\n",
       "0               -1.436047          -1.445617      -1.484872   \n",
       "1               -0.040356           0.380911       0.030027   \n",
       "2                0.250555           0.602826       0.897052   \n",
       "3                0.123441           0.193137       0.405418   \n",
       "4               -1.247509          -1.323280      -1.376130   \n",
       "\n",
       "   Revenue_Per_County_norm  \n",
       "0                 1.174476  \n",
       "1                -0.718847  \n",
       "2                 1.174476  \n",
       "3                -1.023367  \n",
       "4                 1.174476  "
      ]
     },
     "execution_count": 40,
     "metadata": {},
     "output_type": "execute_result"
    }
   ],
   "source": [
    "from sklearn.preprocessing import StandardScaler\n",
    "\n",
    "# Create the Scaler object\n",
    "scaler = StandardScaler()\n",
    "\n",
    "# Fit the data on the scaler object\n",
    "normalized_df = scaler.fit_transform(pre_normalized_df)\n",
    "\n",
    "# Convert the normalized DataFrame into a DataFrame\n",
    "normalized_df = pd.DataFrame(normalized_df, columns=pre_normalized_df.columns)\n",
    "normalized_df.columns = [col + '_norm' for col in normalized_df.columns]\n",
    "normalized_df.head()"
   ]
  },
  {
   "cell_type": "markdown",
   "metadata": {},
   "source": [
    "# PCA Analysis"
   ]
  },
  {
   "cell_type": "code",
   "execution_count": 41,
   "metadata": {},
   "outputs": [
    {
     "data": {
      "image/png": "[encoded data removed]",
      "text/plain": [
       "<Figure size 1000x600 with 1 Axes>"
      ]
     },
     "metadata": {},
     "output_type": "display_data"
    }
   ],
   "source": [
    "# Apply 2D PCA\n",
    "from sklearn.decomposition import PCA\n",
    "\n",
    "\n",
    "pca_2d = PCA(n_components=2)\n",
    "pca_result_2d = pca_2d.fit_transform(normalized_df)\n",
    "\n",
    "# Create a DataFrame for 2D PCA results\n",
    "pca_df_2d = pd.DataFrame(data=pca_result_2d, columns=['PC1', 'PC2'])\n",
    "pca_df_2d['County'] = branch_level_data['County']\n",
    "\n",
    "# Plot 2D PCA\n",
    "plt.figure(figsize=(10, 6))\n",
    "sns.scatterplot(x='PC1', y='PC2', hue='County', data=pca_df_2d, palette='Set1')\n",
    "plt.title('2D PCA with County Color Coding')\n",
    "plt.show()"
   ]
  },
  {
   "cell_type": "code",
   "execution_count": 42,
   "metadata": {},
   "outputs": [
    {
     "name": "stdout",
     "output_type": "stream",
     "text": [
      "Feature Loadings for PC1:\n",
      "Home Banking_norm          0.373792\n",
      "Draft_norm                 0.368642\n",
      "Fee_norm                   0.368490\n",
      "Dividend_norm              0.361914\n",
      "ATM_norm                   0.340146\n",
      "Credit/Debit Card_norm     0.333748\n",
      "Cash_norm                  0.320335\n",
      "ACH_norm                   0.312615\n",
      "Bill Payment_norm          0.157848\n",
      "Revenue_Per_County_norm    0.072590\n",
      "Name: PC1, dtype: float64\n",
      "\n",
      "Feature Loadings for PC2:\n",
      "Bill Payment_norm          0.583762\n",
      "ACH_norm                   0.184610\n",
      "Draft_norm                 0.052828\n",
      "Home Banking_norm          0.050569\n",
      "Cash_norm                 -0.020902\n",
      "Fee_norm                  -0.043528\n",
      "Dividend_norm             -0.074373\n",
      "Credit/Debit Card_norm    -0.087620\n",
      "ATM_norm                  -0.159068\n",
      "Revenue_Per_County_norm   -0.760888\n",
      "Name: PC2, dtype: float64\n"
     ]
    }
   ],
   "source": [
    "# Get the feature loadings for PC1 and PC2\n",
    "loadings_df = pd.DataFrame(pca_2d.components_, columns=normalized_df.columns, index=['PC1', 'PC2'])\n",
    "\n",
    "# Display the feature loadings\n",
    "print(\"Feature Loadings for PC1:\")\n",
    "print(loadings_df.loc['PC1'].sort_values(ascending=False))\n",
    "\n",
    "print(\"\\nFeature Loadings for PC2:\")\n",
    "print(loadings_df.loc['PC2'].sort_values(ascending=False))"
   ]
  },
  {
   "cell_type": "code",
   "execution_count": 43,
   "metadata": {},
   "outputs": [
    {
     "data": {
      "application/vnd.plotly.v1+json": {
       "config": {
        "plotlyServerURL": "https://plot.ly"
       },
       "data": [
        {
         "hovertemplate": "County=Orange<br>PC1=%{x}<br>PC2=%{y}<br>PC3=%{z}<extra></extra>",
         "legendgroup": "Orange",
         "marker": {
          "color": "rgb(228,26,28)",
          "opacity": 0.7,
          "size": 5,
          "symbol": "circle"
         },
         "mode": "markers",
         "name": "Orange",
         "scene": "scene",
         "showlegend": true,
         "type": "scatter3d",
         "x": [
          -3.833077526369285,
          2.6481678493527325,
          -3.3136908344103753,
          4.299149961900868,
          -0.9395765558171749,
          1.4242769710006415,
          4.461909448360255,
          2.315439526217368,
          2.917637046000208,
          -2.218418464729688,
          -3.7881427016138423,
          3.4403544426281583,
          -3.839689243920654,
          3.2101637378172923,
          -3.293597055611683,
          5.148225535727195,
          -0.4995004907064287,
          1.8701226007923304,
          5.0622519970608915,
          2.580518664718962,
          3.586509388188868,
          -2.0507467853085872,
          -3.7855572622136244,
          3.8949578412968067,
          -3.83921787133882,
          2.2128227254782447,
          -3.4064668228191324,
          3.912963858259534,
          -0.9294837187207234,
          1.4178567122400627,
          3.476439142266882,
          1.7838412989126606,
          2.5329432892167745,
          -2.356157861613501,
          -3.8084121541573683,
          2.783280276368714,
          -3.861337024969081,
          1.4423516012202469,
          -3.4386080454480266,
          2.3911181149057232,
          -1.4551683391411983,
          0.5893640249224468,
          2.0857835534247577,
          1.1531861977319262,
          1.513911377089857,
          -2.615446290103656,
          -3.838065921268746,
          1.4756236785628036,
          -3.85899008012473,
          3.543043443377423,
          -3.3179089873422507,
          4.721019545395498,
          -0.5350096744805957,
          1.6947753094944065,
          4.587958118739625,
          2.389274667683636,
          3.0967012687162865,
          -2.1978989158421456,
          -3.84722057098074,
          3.7678055146088094,
          -3.845237155404686,
          2.7171776952296054,
          -3.3014519819943926,
          4.012727625627801,
          -0.8763035709491168,
          1.5318545684715952,
          3.5024503015376443,
          1.8935482317862524,
          2.575180977902818,
          -2.0740702230543477,
          -3.8204493096304097,
          3.070881297676706,
          -3.8482591937823125,
          0.3159124858004757,
          -3.4921140875561045,
          1.515841560688049,
          -1.7171586172448008,
          -0.2916311908978374,
          1.2697394872293404,
          -0.03786429272407134,
          0.5233739433237498,
          -2.734315819676799,
          -3.829066555708006,
          0.630444584873948,
          -3.8472158223628647,
          2.183743450696023,
          -3.3652587893922012,
          3.79550497826958,
          -0.8846575702842718,
          0.9257707293290787,
          3.6909282506922056,
          1.1394042365983768,
          2.2664399578908574,
          -2.2693504988007995,
          -3.83061074897405,
          2.8488640149428,
          -3.858531756742357,
          3.174805246146892,
          -3.2952209100184833,
          4.653378783154844,
          -0.6044933611506051,
          2.0051088248085667,
          4.262787880775472,
          3.17570129370567,
          3.2109615865210857,
          -2.0702174777569726,
          -3.8406881107740247,
          3.904974703684388,
          -3.875165988559736,
          2.9425503712700602,
          -3.283129420427266,
          4.653414535483764,
          -0.595846629442554,
          1.3461937999015658,
          4.428165460570939,
          1.7251653008285581,
          2.9139191400506808,
          -2.1182607296737803,
          -3.8572307497150136,
          3.548411966417738,
          -3.879238915199647,
          2.5432812297121017,
          -3.227862537734419,
          4.140816670194061,
          -0.8387649962968825,
          1.2712267293967716,
          3.829758198527639,
          1.5600061694926637,
          2.531880943154026,
          -2.221490159241136,
          -3.865179442484437,
          3.030948492229828,
          -3.874016272620956,
          1.200161460131449,
          -3.4350325307577743,
          1.840751834587082,
          -1.4787598467755945,
          0.1811144452585035,
          1.8824782250422656,
          0.7880167217788557,
          0.9934856666411498,
          -2.6152949901265075,
          -3.8895635368151233,
          1.1486962219029782,
          -3.9029160533791334,
          2.460043735529034,
          -3.276104776095262,
          3.9294939283362535,
          -0.7261713559551294,
          1.17172430797175,
          3.6818241389970034,
          1.8014638468359214,
          2.4893660247261042,
          -2.134703109273809,
          -3.8989808173476055,
          2.748016403975986,
          -3.9106298812246774,
          3.078957975774463,
          -3.207924645288103,
          4.457451746215457,
          -0.6743235302148298,
          1.6039633025474649,
          4.138485043874319,
          1.9531191337505158,
          2.6905796997414986,
          -2.095989971958207,
          -3.909051893611725,
          3.2293787344023683,
          2.9967247959322227,
          -3.2237617414865856,
          4.0929263473883095,
          -0.5643681594488581,
          1.5778852253578781,
          3.7076748755915316,
          2.828684042275774,
          3.3226548186703573,
          -1.997221043477224,
          3.4724254533016348,
          0.6804360437835189,
          -3.3360468539599375,
          1.472348883971124,
          -1.6335145971925962,
          -0.37252595011009093,
          1.4118607176530964,
          0.4214995344768775,
          0.48963407248069113,
          -2.5775662838896634,
          0.8805293915522643,
          3.0102402784529123,
          -3.2666791687812444,
          4.552857442218039,
          -0.7634974518225512,
          1.4787019116780504,
          4.3503746515425865,
          1.9747356595264234,
          2.821234319144404,
          -2.047081467790408,
          3.634086112916898,
          3.664908049150484,
          -3.075864635772062,
          4.678316999172981,
          -0.4730248873110039,
          2.0125970486860956,
          4.3584255121518165,
          3.1128369241161162,
          3.41963226351246,
          -2.00428995418306,
          3.855436053706372,
          2.9430900564648845,
          -3.2356496172465588,
          4.237730435378569,
          -0.7056781194895616,
          1.2686078883770486,
          3.6831616865302195,
          1.9150835247116946,
          2.7164470747369127,
          -2.158512002291896,
          2.8952917430807763
         ],
         "y": [
          -1.027825278493573,
          -0.6065714617304373,
          -1.045072677648503,
          -0.25451710348640555,
          -0.7641207813828716,
          -0.974767369320359,
          -0.2120948579172842,
          -1.183454829516219,
          -0.7323308001015222,
          -0.8626581719243199,
          -1.027876433868775,
          -0.5867937455030868,
          -1.0365662059907526,
          -0.33647267627470373,
          -1.0086331545239464,
          0.01626857850509491,
          -0.7047073980500093,
          -0.8163199960402922,
          0.06247219982542727,
          -0.9945800067996037,
          -0.40167587621012063,
          -0.7455747661673773,
          -1.0313933191585123,
          -0.06327037013671226,
          -1.0343861143180875,
          -0.9192792278638158,
          -1.049857488370975,
          -0.7458051111436542,
          -0.9517201708756993,
          -1.1430941126090266,
          -0.6311684042296222,
          -1.2930951985812786,
          -0.93698746984275,
          -0.9685859843710761,
          -1.0339841747929466,
          -0.8002809275347201,
          -1.0328541461759586,
          -1.5197979249335087,
          -1.0761023522439503,
          -1.4295730833420144,
          -1.1991254628643104,
          -1.4639162516711512,
          -1.5512590507893707,
          -1.6125692264098517,
          -1.5152932278188824,
          -1.0989208342293257,
          -1.0351375139565162,
          -1.4969660122165565,
          -1.0327549701376462,
          -0.6176128239061426,
          -1.063303813083581,
          -0.23269617463541709,
          -0.8476011533135207,
          -1.0050940415944516,
          -0.22226265045732163,
          -1.1928325158704112,
          -0.6570396759243378,
          -0.8836096960950687,
          -1.0343932405556246,
          -0.5808734035042817,
          -1.0310850579188142,
          -0.9983198107164557,
          -1.062714681317622,
          -0.7834743864894957,
          -1.0093501844159936,
          -1.1275013221881163,
          -0.7089210067383116,
          -1.3170077532216595,
          -0.9401700543213547,
          -0.9733674764515023,
          -1.0327822618899476,
          -0.8930542452740411,
          -1.0307560204928936,
          -1.546938125820246,
          -1.0610068394268002,
          -1.557592451872627,
          -1.2610859479355585,
          -1.4855821508557352,
          -1.6151629703902284,
          -1.5948926116605284,
          -1.5653429233216418,
          -1.116211327735131,
          -1.033947107469469,
          -1.560301999630859,
          -1.0305294615763614,
          -1.030591156078522,
          -1.0537186687864633,
          -0.8077523817631628,
          -1.0460568579511909,
          -1.1471491699805614,
          -0.7992334817119524,
          -1.2372048800696045,
          -1.0292947073135081,
          -1.0217295443125844,
          -1.0353111693106307,
          -0.9441145221980493,
          -1.0328218293709834,
          -0.5380992748664981,
          -1.0281102908558204,
          -0.2018115101415751,
          -0.783545997032912,
          -0.8981053114726386,
          -0.31082848705486743,
          -1.2021317744511983,
          -0.5813998183222883,
          -0.8781857733927257,
          -1.0360553497592815,
          -0.44649295944253514,
          -1.0324507249670167,
          -0.8207227150730461,
          -1.0456427790437677,
          -0.5495852994790698,
          -0.9184873365440903,
          -0.990026307582362,
          -0.5156441846731483,
          -1.204194877211683,
          -0.7594795677003242,
          -0.9570208366735468,
          -1.034427356761238,
          -0.7199217861964816,
          -1.0339712427857304,
          -0.9317119965513123,
          -1.0413305369081194,
          -0.660290606321691,
          -0.953235265984248,
          -1.0321235753576983,
          -0.6743004294462328,
          -1.1942518003051574,
          -0.89856538713979,
          -0.9775339982727481,
          -1.0338513210644444,
          -0.8502860106018288,
          -1.0329494750480464,
          -1.6604468554762883,
          -1.0879441521392594,
          -1.5820290494561693,
          -1.2763632776741223,
          -1.540854008882109,
          -1.669833815952055,
          -1.619989463262255,
          -1.5962158073785844,
          -1.1071941746917826,
          -1.035852981925601,
          -1.6453032478320027,
          -1.0349756885127757,
          -0.9379457163425796,
          -1.0393769552517615,
          -0.7490086038109052,
          -0.9600049863231358,
          -1.1193395634158443,
          -0.7663578982130865,
          -1.269393394709485,
          -0.9431632122569683,
          -0.984835589098903,
          -1.0362722655177248,
          -0.8591021727690451,
          -1.0348435163318386,
          -0.5944166146932524,
          -1.0484635949465133,
          -0.3913045435164097,
          -0.8214174001681565,
          -0.8824805773328057,
          -0.3986338460013489,
          -0.9900989954153845,
          -0.6137063188160339,
          -0.9184912958684788,
          -1.0350299166714305,
          -0.47890688327439923,
          -1.2355914801587642,
          -1.0772262388442033,
          -1.12003265630842,
          -1.1080922007471066,
          -1.3467661200552468,
          -1.0454738209401726,
          -1.6103008929562659,
          -1.2964993217002645,
          -1.0428000799754347,
          -1.166014567163858,
          -1.5649301795447192,
          -1.078066148401207,
          -1.4981766773904859,
          -1.2339091398483992,
          -1.4363157722600937,
          -1.528710810433222,
          -1.5855083204537537,
          -1.4717304153582316,
          -1.140537196371645,
          -1.5385767005649365,
          -0.9966669245468504,
          -1.0404426142347698,
          -0.8005740801448612,
          -0.9955779149238739,
          -1.2335949769885552,
          -0.8700202592231089,
          -1.3122506470114312,
          -1.0075101790163108,
          -0.9402130045842311,
          -0.9007276158532616,
          -1.165619777199517,
          -1.0744266809404794,
          -1.0601633474212948,
          -1.0794405673080913,
          -1.3263516156937079,
          -0.9932368849312304,
          -1.582407531740752,
          -1.1536333220418267,
          -0.9638187640039259,
          -1.0446516742298058,
          -0.864422998279636,
          -1.046572223271983,
          -0.6060035773004172,
          -0.8941721480394415,
          -0.964006986027418,
          -0.4779649835521434,
          -1.187939233849112,
          -0.7973776438111644,
          -0.94412099116893,
          -0.7228176052513012
         ],
         "z": [
          1.0760726153684486,
          1.0179823104646826,
          0.9912614761857267,
          1.1517231638783199,
          1.03558800418559,
          0.6821860490350871,
          1.3915439800214866,
          0.4204417981713911,
          0.785875235766461,
          1.0745365462372085,
          1.0699235934975462,
          0.9352804764461045,
          1.0643135197152682,
          1.1882427231933852,
          1.0088179655277658,
          1.3482865217531543,
          1.0018534506491514,
          0.7995425486217125,
          1.530994654193719,
          0.5101939016243777,
          1.1047801371753305,
          1.154983882148522,
          1.0625641443280458,
          1.3841793271112834,
          1.0689131074819236,
          0.4677285862676041,
          0.9723852278200777,
          0.41786691494626105,
          0.7347124572895048,
          0.37618236652946696,
          0.7698023772444174,
          0.1466648203024124,
          0.4108304453859608,
          0.9304537709580692,
          1.0646166361605396,
          0.5368129560574674,
          1.0730610534826266,
          -0.6117133866937833,
          0.9147532964165842,
          -0.6729059915330589,
          0.34497473475718526,
          -0.30552266112421106,
          -0.7214216218436074,
          -0.5103044561134771,
          -0.5945814028271559,
          0.6819982036602896,
          1.0637095498889804,
          -0.637438762949564,
          1.0736990273424791,
          1.0687994300020613,
          0.9653592653773483,
          1.2481709902457825,
          0.9539175533266158,
          0.6783997879637728,
          1.4484950472989364,
          0.42997736431427086,
          0.9865313791675222,
          1.0807306505228451,
          1.0694664290646883,
          1.024553913913602,
          1.0752268454341498,
          0.3906572747043831,
          0.9535772876828305,
          0.3699930859642694,
          0.6811437406861415,
          0.46024302251725635,
          0.6773272921498167,
          0.14339202186185104,
          0.446829073694786,
          0.9312607827518138,
          1.0664650834578344,
          0.3930949189130162,
          1.0762365576309307,
          -0.5059570098922364,
          0.9418968925988239,
          -0.7959391521825819,
          0.30500589744648077,
          -0.24758415144158277,
          -0.7246005524053395,
          -0.42147914710055584,
          -0.5683620926731487,
          0.703468716172977,
          1.0674286328074514,
          -0.5771830705352456,
          1.0767039508571556,
          0.4101532518948863,
          0.9919731496566129,
          0.44392994053853974,
          0.6451484874069914,
          0.4524819423822066,
          0.6076471454709962,
          0.32528531314875947,
          0.3912724101110766,
          0.8556891143876333,
          1.0646379944218307,
          0.43253651735740306,
          1.0751669426260462,
          1.3425954319870068,
          1.0177035918974044,
          1.4690583021291361,
          1.072868007086851,
          0.9367329061700322,
          1.4293477768759333,
          0.5957066916144699,
          1.190557729988627,
          1.0400394665536312,
          1.064596873154775,
          1.3665043576283271,
          1.0765151132693642,
          0.6701763779299034,
          0.9667236861344133,
          0.810916971296788,
          0.8203988030604857,
          0.6199719897182836,
          1.0038810194281935,
          0.396624602663933,
          0.7252694763610859,
          0.9442648404476526,
          1.0703268237661994,
          0.6848986859631992,
          1.0744457526535998,
          0.5035281625276523,
          0.9654144999935533,
          0.5173900747078118,
          0.7336607882742198,
          0.5270938118518579,
          0.6418306467585363,
          0.3127591316956224,
          0.48050069417868163,
          0.8752874677484793,
          1.0714291910594407,
          0.4751663402376221,
          1.0756609310361376,
          -0.6909379447566255,
          0.9095321588280949,
          -0.7772528049071736,
          0.2752729882342513,
          -0.3222710343794859,
          -0.7559370895330108,
          -0.44829596157013063,
          -0.5750472793036585,
          0.6995796585346725,
          1.0723151233862303,
          -0.6792880430121602,
          1.0757952891404188,
          0.48671357584834557,
          0.9855291576726236,
          0.552951747911225,
          0.7199456179270444,
          0.425334742653112,
          0.6345172152068543,
          0.24429927737541918,
          0.4981613066635113,
          0.8887173133354356,
          1.0727683904505574,
          0.545597266398662,
          1.077210337762352,
          0.7721596855810176,
          0.947302964122011,
          0.692880040957287,
          0.8538034493631688,
          0.6265275214639521,
          0.9211130350544798,
          0.4808156006219284,
          0.7657019764870756,
          0.9268985237328405,
          1.0765972972509603,
          0.8731905034756561,
          -0.020972195847373587,
          0.930651046713696,
          -0.1288274632529624,
          0.4953259128315809,
          0.012969960942748923,
          0.1228958106980202,
          -0.18611814136895735,
          -0.06592561409146748,
          0.7702533461117503,
          -0.000056649258755813874,
          -0.6354319073279187,
          0.8883124501862698,
          -0.7687834869143398,
          0.2984508234008401,
          -0.2141913874346502,
          -0.6625971583632626,
          -0.4826364677950589,
          -0.4750537621201452,
          0.6496339914017379,
          -0.6408035345518942,
          0.4107131229364755,
          0.9636611906963516,
          0.38700506158277703,
          0.7049236012213884,
          0.2633360755851193,
          0.4200631862157179,
          0.19627250618001088,
          0.3704477734007725,
          0.9702098612143782,
          0.42124845762433216,
          -0.009418772504367168,
          0.9028202351141031,
          -0.10052743714204986,
          0.4820128291648442,
          0.05411265754243719,
          0.1451472301851342,
          -0.20497207187391867,
          0.016900675743373176,
          0.8482612833407079,
          0.10170249292249223,
          0.5490080843092512,
          0.9662170951669794,
          0.7201946779126993,
          0.8347277595140641,
          0.7351169678787955,
          1.0301567784288153,
          0.42116575715920695,
          0.6998605374989884,
          0.9562487969758738,
          0.7358310118963283
         ]
        },
        {
         "hovertemplate": "County=Seminole<br>PC1=%{x}<br>PC2=%{y}<br>PC3=%{z}<extra></extra>",
         "legendgroup": "Seminole",
         "marker": {
          "color": "rgb(55,126,184)",
          "opacity": 0.7,
          "size": 5,
          "symbol": "circle"
         },
         "mode": "markers",
         "name": "Seminole",
         "scene": "scene",
         "showlegend": true,
         "type": "scatter3d",
         "x": [
          0.39746001467737946,
          0.08639434050374191,
          1.5160947600960333,
          -1.8098500591406563,
          -1.1258482248621833,
          1.3193059128989337,
          -3.975138014852358,
          0.8209161012745692,
          0.416429233980287,
          2.137629345046796,
          -1.5496398556251787,
          -0.6676593947472389,
          1.6446161037499039,
          -3.96892817318084,
          -0.015779113925693217,
          -0.04591462970693961,
          0.8188272645938821,
          -1.911707652205206,
          -1.2535075190307197,
          1.0637598745708206,
          -3.971325169404005,
          -0.6390984604724899,
          -0.8807507769385885,
          -0.6699693991507759,
          -2.3490826029886236,
          -1.8195150740432864,
          0.29010994667774376,
          -3.992576142212978,
          0.7361404778877203,
          0.6186812758749891,
          1.8322045375049063,
          -1.6296481830123757,
          -0.8598453400387756,
          1.5852384137731028,
          -3.959175233620842,
          0.5531201223593709,
          -0.005699025691500147,
          1.453631684365431,
          -1.656763806772862,
          -1.0395616419770028,
          1.1813117161367572,
          -3.964068069157684,
          -1.1034602700467324,
          -1.452924698187541,
          -1.0544787187068088,
          -2.6709302513425937,
          -2.1574126898409016,
          -0.6038226320685408,
          -3.987039566230727,
          0.06597916009431866,
          -0.22257276154483902,
          0.7078686742915096,
          -1.965921066743993,
          -1.2006775495840576,
          0.6865309166142,
          -3.9243298679334493,
          1.1234122793749983,
          0.5095390628561807,
          1.3080089451116876,
          -1.6205571352849422,
          -1.0149152448122467,
          1.857931558540419,
          -3.940708875466695,
          0.5547497217182764,
          0.2349751226052586,
          1.6475202508908287,
          -1.7034666903204045,
          -0.9628294985022188,
          1.6136789897607204,
          -3.9308861200161913,
          0.3395297400148488,
          0.06111634598512001,
          0.8399635285133977,
          -1.9192922690446106,
          -1.1743865687831265,
          0.9028030595859268,
          -3.912095775793393,
          -0.6160702439483297,
          -1.0442073921374215,
          -0.924295582011484,
          -2.4206115448768277,
          -2.02448037176922,
          0.013810252762560392,
          -3.98232338383185,
          0.5375024899865274,
          0.11805240962462812,
          0.945667242144402,
          -1.7431722054177488,
          -1.1921311680409248,
          1.179269459971457,
          -3.8908179796870486,
          0.5727591049910551,
          0.2833255480946147,
          1.2981826304260757,
          -1.8069888226495605,
          -0.9744875134675263,
          1.4717683953421878,
          -3.9257534072272673,
          0.7794085587257636,
          0.3813957574869148,
          1.3824562679831405,
          -1.4321847627806061,
          -1.0909097505878533,
          2.5496405950567556,
          -3.893542973473259,
          -0.8657282806048451,
          -1.3155084772452108,
          -1.0443845809963186,
          -2.588765890950867,
          -2.12402121053948,
          -0.4632051088562815,
          -3.9726215162101384,
          0.5748774540030458,
          0.35231710211122735,
          1.0402456424459026,
          -1.6891001389074174,
          -0.9475141484073403,
          1.6675025792426241,
          -3.920714620514738,
          1.1484803962702839,
          0.7019091815688595,
          1.7848144704679354,
          -1.4224870639888865,
          -0.6140407342712273,
          2.7651147608227586,
          -3.9093018591608955,
          0.35790376645463073,
          0.1491908098968033,
          1.4978916737480534,
          -1.801739947040725,
          -1.0988923955233216,
          1.5384122200699741,
          -3.8907233095672606
         ],
         "y": [
          0.8207878196625623,
          0.8501608976914627,
          4.866816426055709,
          0.601697396370885,
          0.7860529145562949,
          0.4156241875882565,
          0.41185002052949315,
          0.9546294263614772,
          1.0095160897050128,
          5.529864247730384,
          0.679661408781594,
          0.858825566368096,
          0.675677578303448,
          0.42228787661494305,
          0.5381008405183361,
          0.5566530439038739,
          3.217912712831573,
          0.4779355179343124,
          0.6291778293240574,
          0.3101238646562637,
          0.4123670615374489,
          0.18720112096534364,
          0.16255201658492502,
          0.21554126583306132,
          0.30409885303591316,
          0.25430211028292976,
          -0.021357418328670278,
          0.4051337461030994,
          0.7730068175661852,
          0.7816410667121987,
          5.503646009872454,
          0.5640804616865959,
          0.78093071464259,
          0.38734893250795,
          0.4133248598392939,
          0.44029678538812844,
          0.6379402743429194,
          3.590593481366435,
          0.47429526939407524,
          0.676196306587444,
          0.32055835692856777,
          0.4216073830834484,
          0.08572961209980386,
          0.13727011428992966,
          0.12332659386264096,
          0.21255740750421426,
          0.24248778628844822,
          -0.044649531338793444,
          0.3993444927828919,
          0.4979492534738908,
          0.5769463411973134,
          2.58773292705036,
          0.44625664746329347,
          0.5199757664035081,
          0.2508688429261902,
          0.4035811212433452,
          0.7786495016089522,
          0.8115283454637164,
          3.329057696660237,
          0.623212228362627,
          0.7689271413014047,
          0.49609566805827293,
          0.42037655151457637,
          0.6836187038685076,
          0.6037129585975295,
          4.6634052745965775,
          0.5279638112028072,
          0.6603784498962035,
          0.4082439259230995,
          0.4223070802141058,
          0.5351898514658484,
          0.5785376965376349,
          2.7783794456091164,
          0.5115044094659349,
          0.5759348352510282,
          0.36995921512179647,
          0.4085941112960071,
          0.01776597485046116,
          0.09823461291239838,
          0.1261730026906143,
          0.214548722690099,
          0.2222118570827816,
          -0.12396942100922281,
          0.39392242591087406,
          0.48898380536907055,
          0.6367603473515739,
          2.646150433597467,
          0.494130641958812,
          0.5468356662334676,
          0.36668523096580863,
          0.41995260667894324,
          0.7169907145480391,
          0.7989448917099077,
          3.3722603479465847,
          0.5866481828829098,
          0.6782911245905009,
          0.5509152690811454,
          0.42408399284045706,
          0.36015525031004414,
          0.3912623228642595,
          3.0208709146671184,
          0.3242351130375146,
          0.4489911966548397,
          -0.02772982861088738,
          0.3980945007884921,
          0.10220207065658873,
          0.1363650205431321,
          0.1966407499600349,
          0.2359158643395207,
          0.23685112009787687,
          -0.0007564978989583175,
          0.40203119801324605,
          0.49810428357448727,
          0.47405446935096746,
          2.814129598027148,
          0.47176456956934537,
          0.5516528573289138,
          0.2402538277142383,
          0.41135068609363756,
          0.3385395232576366,
          0.45611872887115507,
          3.4150067589650184,
          0.4130295249227435,
          0.5111360817603376,
          0.05516068903483413,
          0.4083230654487657,
          0.6334172735134369,
          0.6723849170140581,
          4.293077177780193,
          0.5060949432056361,
          0.6113972487682464,
          0.3645159690572035,
          0.39415471276296415
         ],
         "z": [
          -0.09980153397406331,
          0.06182833074733047,
          3.924010596954663,
          -0.062046656163658884,
          0.10113782246186934,
          -0.5382204291765301,
          -0.10084996869669038,
          -0.02712379953229736,
          0.11622989247128786,
          4.5041637545325885,
          -0.020237620918100403,
          0.0854473490704164,
          -0.30545595240240975,
          -0.08662013120095402,
          -0.5040173754185518,
          -0.3707175733346199,
          2.165029023938904,
          -0.26658391167386064,
          -0.16396473572503653,
          -0.7516486459162377,
          -0.10009677300506699,
          -1.100417635900214,
          -1.0478324084273802,
          -1.0521514686105766,
          -0.5573949563638834,
          -0.7400757460119597,
          -1.4670727488841429,
          -0.11757146846146117,
          -0.09474152432253465,
          -0.006953345998047273,
          4.593920579981079,
          -0.10695882764232806,
          0.11359098717268645,
          -0.5506432092429221,
          -0.09998555491429147,
          -0.652428630692408,
          -0.2878607392400594,
          2.509349278313129,
          -0.2566563647153716,
          -0.08144170490877754,
          -0.7088027985321342,
          -0.09461845970946142,
          -1.1655817735877232,
          -1.0016474928669397,
          -1.1146479287670064,
          -0.642454510324737,
          -0.7123401160842661,
          -1.4104747537332267,
          -0.12597706929160718,
          -0.4887912617382138,
          -0.2929510794853534,
          1.5529650451966943,
          -0.2712699587561511,
          -0.3063984140206679,
          -0.7751360711213685,
          -0.11674793623427769,
          -0.020891761008574858,
          0.08576051300499134,
          2.507738907815956,
          0.01348937467844255,
          0.1401599846058343,
          -0.32175371405742903,
          -0.09103969384970105,
          -0.2637722670066604,
          -0.2944075877380851,
          3.672343828954488,
          -0.17084886545162897,
          -0.12273283702791483,
          -0.5817497021472928,
          -0.09539491867778112,
          -0.5051327863966092,
          -0.37201260964266003,
          1.6971434129159033,
          -0.20806048408769592,
          -0.2645317112109605,
          -0.6667865879827031,
          -0.1066392261093462,
          -1.293548017096525,
          -1.0794428726883345,
          -1.122385032236887,
          -0.62991611131317,
          -0.7624173007567115,
          -1.52628105373556,
          -0.13469235761862472,
          -0.5372704499970188,
          -0.24696543544591096,
          1.6232163470254988,
          -0.2281973209610057,
          -0.22443175513454272,
          -0.6496918246880717,
          -0.09490927592316048,
          -0.35895244470037097,
          -0.14009316085852053,
          2.3179354469621125,
          -0.18788566162237122,
          -0.1592978250080319,
          -0.5410194409075821,
          -0.0996445742225907,
          -0.7798163665120635,
          -0.6463000775628256,
          1.8739321628928312,
          -0.4808808072106946,
          -0.42026957191273817,
          -1.2067633790642527,
          -0.12435263641141969,
          -1.2119497708404618,
          -1.051074155029228,
          -1.0587736037226474,
          -0.6413148257172139,
          -0.7600845618165892,
          -1.4057548137604523,
          -0.12578730350512063,
          -0.5569543492556289,
          -0.5058252383716132,
          1.7901668314820829,
          -0.2889926912034666,
          -0.2907438627261391,
          -0.8690403888624297,
          -0.1130022123092824,
          -0.8531443149151582,
          -0.5700655117093845,
          2.2890018593981125,
          -0.3849442305908124,
          -0.40794579769214145,
          -1.1440662188718296,
          -0.11914642324192477,
          -0.34072480649220205,
          -0.21334520376317553,
          3.2684971779114007,
          -0.22122371584223818,
          -0.16687710159641708,
          -0.5944117117051955,
          -0.13162514351897278
         ]
        },
        {
         "hovertemplate": "County=Lake<br>PC1=%{x}<br>PC2=%{y}<br>PC3=%{z}<extra></extra>",
         "legendgroup": "Lake",
         "marker": {
          "color": "rgb(77,175,74)",
          "opacity": 0.7,
          "size": 5,
          "symbol": "circle"
         },
         "mode": "markers",
         "name": "Lake",
         "scene": "scene",
         "showlegend": true,
         "type": "scatter3d",
         "x": [
          1.2791488979195447,
          -2.004384809512082,
          -1.3965251465844009,
          1.6675765773062288,
          -1.7043019906499088,
          -1.14287522069333,
          1.0454705126406922,
          -2.118882962330539,
          -1.5966824452402228,
          0.03768907590455033,
          -2.520153764110348,
          -2.1815807070727318,
          1.4888676994046037,
          -1.818422209142108,
          -1.1932385859313124,
          1.042186204017146,
          -2.018344540526473,
          -1.50570647291335,
          -0.6313464716125033,
          -2.8030726640909998,
          -2.2998977710524566,
          0.7827639094362394,
          -2.054484434793943,
          -1.6895556352857317,
          1.6135127807679748,
          -1.6077639898694431,
          -0.7675179913058803,
          1.341739843140602,
          -1.8907409160825923,
          -1.334859559363526,
          1.0133499109608164,
          -2.045104370181731,
          -1.4589917172745752,
          -0.3946646453139374,
          -2.553180007365994,
          -2.230195207924716,
          0.9411855319095814,
          -2.033349103910772,
          -1.6008169270731332,
          1.312568878180535,
          -1.7613180097268175,
          -1.3675891537349907,
          1.5813901729559678,
          -1.6877220207014294,
          -1.258272502419042,
          -0.523262098948219,
          -2.6170896034477527,
          -2.4391537943484605,
          1.4049203013843548,
          -1.9577156174393966,
          -1.5349581687923388,
          1.5057603009324954,
          -1.7224035761328544,
          -1.3555631422812353,
          0.993366141043736,
          -1.7879575793322127,
          -1.3260013001802913
         ],
         "y": [
          1.0497779954523319,
          0.7994218279582519,
          0.8199046011657511,
          1.2616689063701332,
          0.8723755767536046,
          0.9541599769368804,
          0.8558207250197357,
          0.6849948726188655,
          0.7342904599364447,
          0.39661386244360325,
          0.5164635988359358,
          0.519562066612522,
          1.078357786841155,
          0.8199967119661917,
          0.8327898545242062,
          0.8112762843059701,
          0.7066155508108133,
          0.713649058892878,
          0.28484833650122177,
          0.44965047170826505,
          0.47575114358279513,
          0.7051526249785648,
          0.653417915069619,
          0.6568280025118073,
          1.0373295319221194,
          0.8099741633124848,
          0.8918698204853621,
          0.9478680098675528,
          0.7413916356771286,
          0.7604507235794773,
          0.7291532752843711,
          0.7181336912676884,
          0.7180908580174304,
          0.2872346280866198,
          0.440477595110293,
          0.445600371335602,
          0.8087340443683924,
          0.7542121351913555,
          0.7006400524304883,
          1.0081844653882794,
          0.7391388557987448,
          0.8232020325847103,
          0.545502680478645,
          0.5560878969253181,
          0.5742739940069206,
          0.37234282889003745,
          0.4636752622103422,
          0.47120546528469964,
          0.7580738666849193,
          0.6925441880201963,
          0.6990822055309995,
          0.7234856379273791,
          0.611519643017112,
          0.6469546193463367,
          0.913038017829571,
          0.738110037902665,
          0.7025622838315261
         ],
         "z": [
          -0.31567676526235083,
          -0.3046736288021909,
          -0.3045879982920099,
          -0.1963462765112586,
          -0.25109071379444936,
          -0.2043982106626624,
          -0.7206024076271433,
          -0.4611294757916195,
          -0.45315067912795404,
          -1.51641548279245,
          -0.7557643895163628,
          -0.8364975717290452,
          -0.24145441547614538,
          -0.2312215354174329,
          -0.2586118256936844,
          -0.7163456243649631,
          -0.4201401196219184,
          -0.5048109051388028,
          -1.50665337047355,
          -0.8099598938769161,
          -0.8581762925093335,
          -0.8071528755443539,
          -0.48205162876058477,
          -0.5492865263266808,
          -0.24762891319900704,
          -0.19344056195854842,
          -0.13376007761668685,
          -0.4881818091519121,
          -0.3759628925414166,
          -0.3975828475061246,
          -0.873338569869291,
          -0.4134666419189818,
          -0.5046031489166551,
          -1.5150661691468397,
          -0.8475804314886469,
          -0.8941677112503275,
          -0.6608263602133482,
          -0.3712785529475452,
          -0.4633178936909836,
          -0.6388879235882714,
          -0.412841456492901,
          -0.384054731454329,
          -1.1439730712558722,
          -0.6799056231974334,
          -0.6838489130102423,
          -1.4735702556460015,
          -0.8382210451836772,
          -0.8584998749240579,
          -0.8311588894027966,
          -0.46900484023898853,
          -0.5162186520091566,
          -0.9576169339041175,
          -0.5984935472979928,
          -0.6110097234507365,
          -0.5337133667780045,
          -0.39176663786908256,
          -0.4632766034224929
         ]
        },
        {
         "hovertemplate": "County=Osceola<br>PC1=%{x}<br>PC2=%{y}<br>PC3=%{z}<extra></extra>",
         "legendgroup": "Osceola",
         "marker": {
          "color": "rgb(152,78,163)",
          "opacity": 0.7,
          "size": 5,
          "symbol": "circle"
         },
         "mode": "markers",
         "name": "Osceola",
         "scene": "scene",
         "showlegend": true,
         "type": "scatter3d",
         "x": [
          3.4912305986060086,
          5.403054253988095,
          -1.5004825667267259,
          3.9872167472229703,
          6.294372897428982,
          -1.497978271564689,
          3.326247454950418,
          5.049064443616213,
          -1.5955169846196482,
          2.146580415620862,
          3.4082110231618596,
          -1.952387260808458,
          4.034003666599727,
          6.038050019441408,
          -1.1450288710739607,
          3.4295758992062515,
          5.049196654140673,
          -1.4579383409085525,
          1.0106354835797315,
          2.1957570749975757,
          -2.4922991147563667,
          2.6966369680929225,
          4.751767759695998,
          -1.7008580440887453,
          4.238531483804155,
          6.532345120012577,
          -1.1254400624845715,
          3.416347824706421,
          5.901000944544028,
          -1.192464131704841,
          3.157463123373018,
          5.149551004873181,
          -1.490067887814369,
          1.719513478874918,
          2.381763900851826,
          -2.056591562622333,
          3.2116508930639878,
          5.018467752746027,
          -1.308869905273886,
          3.474614664431851,
          5.316153473415693,
          -1.2816048945595184,
          3.883308817943138,
          5.722652893872683,
          -1.08029924557588,
          1.133916486475641,
          2.328238268871383,
          -2.0945533010449053,
          3.513132053479811,
          5.552486286153964,
          -1.2106440159899494,
          3.8545500705895543,
          6.105342900324034,
          -0.8792475651934546,
          3.480505051275977,
          5.263026536958005,
          -1.232839967526658
         ],
         "y": [
          0.8552067155248564,
          1.2892473426578561,
          0.5785040110670879,
          1.1443319353579198,
          1.8236239378985037,
          0.7496805233490442,
          0.604543815506856,
          1.0022806265966115,
          0.5368331810932557,
          0.10688233120491955,
          0.06840454685009975,
          0.3062598302307893,
          0.7793599435746751,
          1.2012870464263734,
          0.5535218406204298,
          0.5557180327149166,
          0.7482307450175567,
          0.5026204298079796,
          -0.04715475351427765,
          -0.146795868984624,
          0.2978913784071981,
          0.4306490050022433,
          0.7096629099262497,
          0.46071529138349016,
          1.0272039934713195,
          1.4451895831598505,
          0.6501741796006464,
          0.6952405826034449,
          1.041463970857587,
          0.44844351651441994,
          0.5864841239759773,
          0.8929329208168609,
          0.5359201459951356,
          -0.08031459435996884,
          -0.20723230373109044,
          0.26487656871472,
          0.5719565768271678,
          0.8083762854655372,
          0.46640247345455743,
          1.0167178471073868,
          1.2717568277792288,
          0.6410119794626435,
          0.19479821126949906,
          0.413998310355039,
          0.3719006700360328,
          0.04186448918712965,
          -0.03746504124634381,
          0.28277392966577486,
          0.5691243582889703,
          0.6538328552350063,
          0.5296356122646267,
          0.37499050602043216,
          0.43034510590580694,
          0.4530741544314726,
          0.7328028227101245,
          0.9582829336740363,
          0.5487902796128998
         ],
         "z": [
          -0.42457344817549747,
          -0.21422248514094344,
          -0.22357875481848885,
          -0.2454751415163771,
          0.1662637441020598,
          -0.11912668349368748,
          -0.8579924954779113,
          -0.767634065530728,
          -0.35109248881443317,
          -1.8182334704061043,
          -2.3861446640532655,
          -0.7689419460547647,
          -0.48464118922407395,
          -0.20820800249182703,
          -0.2526532626561789,
          -0.8636287939550371,
          -1.075855845960318,
          -0.3784227264136004,
          -1.894334848280751,
          -2.40635042603693,
          -0.7318189847105714,
          -1.0208143826878233,
          -1.0249394868559711,
          -0.4813013027107138,
          -0.029442318726581904,
          0.24251149430542737,
          -0.14579267131962706,
          -0.6540434159120776,
          -0.5727554882876047,
          -0.4752624022642882,
          -0.8850264022586845,
          -0.9384587295285275,
          -0.4036258103517727,
          -1.927005821917704,
          -2.4355450468608817,
          -0.8300275900056308,
          -0.8990483844072215,
          -0.9551980322273891,
          -0.46457490918629646,
          -0.46714081512776245,
          -0.5854279129301374,
          -0.3168026893598785,
          -1.4643379192249293,
          -1.6205505385177232,
          -0.6829628067448134,
          -1.8617280488739785,
          -2.4054972130304555,
          -0.8544556581810131,
          -0.8498359243150587,
          -1.1938694078058216,
          -0.3712585349869556,
          -1.3191536213578559,
          -1.6847116248637046,
          -0.5588648061453763,
          -0.5883496430185983,
          -0.7131426392659347,
          -0.3510975484185278
         ]
        },
        {
         "hovertemplate": "County=Brevard<br>PC1=%{x}<br>PC2=%{y}<br>PC3=%{z}<extra></extra>",
         "legendgroup": "Brevard",
         "marker": {
          "color": "rgb(255,127,0)",
          "opacity": 0.7,
          "size": 5,
          "symbol": "circle"
         },
         "mode": "markers",
         "name": "Brevard",
         "scene": "scene",
         "showlegend": true,
         "type": "scatter3d",
         "x": [
          -2.972466146100634,
          -2.939288206891748,
          -3.0687933120620783,
          -3.4224094664505924,
          -2.828989607628449,
          -3.0368921486427647,
          -3.4503637141748382,
          -3.088161889859296,
          -2.90230571409598,
          -2.9450917735019377,
          -3.0887432776998534,
          -3.390208977678977,
          -3.1198825260974643,
          -3.099205070972814,
          -2.9602171131701724,
          -3.424652848857782,
          -3.0777626742862925,
          -2.979108647534439,
          -3.026614352283035
         ],
         "y": [
          0.6940437454091036,
          0.7294504430647192,
          0.6807499871118685,
          0.5878835094938876,
          0.6791483003319828,
          0.6423224779257771,
          0.5828625929909569,
          0.6542555481338787,
          0.7146209355329827,
          0.7079307105976553,
          0.6589984210727994,
          0.5668516299933042,
          0.6676591115580993,
          0.7140271169524249,
          0.6459735484983699,
          0.5737975597202571,
          0.6527295024392838,
          0.6764739441052008,
          0.6826435892376316
         ],
         "z": [
          -0.3263211044184767,
          -0.2882170721483494,
          -0.3394189036414002,
          -0.4983438059789196,
          -0.3149422409872166,
          -0.39584611966202576,
          -0.497311872542664,
          -0.3667422574346549,
          -0.287483098890425,
          -0.29728791497320156,
          -0.3945350848842263,
          -0.535737946939624,
          -0.40104933288105615,
          -0.3310625531872996,
          -0.39884302072711586,
          -0.5306890374936027,
          -0.4025418704992648,
          -0.3880964874237895,
          -0.3454242015261368
         ]
        },
        {
         "hovertemplate": "County=Volusia<br>PC1=%{x}<br>PC2=%{y}<br>PC3=%{z}<extra></extra>",
         "legendgroup": "Volusia",
         "marker": {
          "color": "rgb(255,255,51)",
          "opacity": 0.7,
          "size": 5,
          "symbol": "circle"
         },
         "mode": "markers",
         "name": "Volusia",
         "scene": "scene",
         "showlegend": true,
         "type": "scatter3d",
         "x": [
          -0.8245478849905609,
          -0.49091643011295694,
          -1.0621471000811062,
          -1.6810928114257133,
          -0.7726204086154386,
          -0.9020019366848656,
          -2.0426059244637385,
          -1.1735522764354955,
          -0.9629019520337755,
          -0.941448184952913,
          -1.0808321635201925,
          -1.819289498090512,
          -1.0654010744037925,
          -0.8551021215237117,
          -0.816573894841762,
          -2.054910720824341,
          -0.8328101259522712,
          -0.5499303245707983,
          -0.9135315038254561
         ],
         "y": [
          0.8511747358953768,
          1.0653453995611872,
          0.8144398757074875,
          0.5185054838347368,
          0.937128403599483,
          0.8058970957972379,
          0.4616595026253452,
          0.6871476232248873,
          0.9658803349795743,
          0.9138613896101224,
          0.7825098518052864,
          0.44810231904104475,
          0.7448270507723534,
          0.8945242395601375,
          0.6206969208087674,
          0.5240644825972278,
          0.7179550539909014,
          0.6903719011726395,
          0.8844757919502584
         ],
         "z": [
          -0.41431812582423605,
          -0.2343872174725788,
          -0.4786840031150564,
          -1.0272120193926233,
          -0.28322900362948605,
          -0.5140981295819119,
          -1.0357308610632785,
          -0.6552515165728159,
          -0.1554739874580539,
          -0.3695157307025877,
          -0.5610331957876413,
          -1.0488321661316178,
          -0.5562168177148273,
          -0.4408698442582328,
          -0.7817556612995925,
          -0.9854874667664051,
          -0.6378004236407988,
          -0.7633604344218508,
          -0.4040672685434047
         ]
        },
        {
         "hovertemplate": "County=Polk<br>PC1=%{x}<br>PC2=%{y}<br>PC3=%{z}<extra></extra>",
         "legendgroup": "Polk",
         "marker": {
          "color": "rgb(166,86,40)",
          "opacity": 0.7,
          "size": 5,
          "symbol": "circle"
         },
         "mode": "markers",
         "name": "Polk",
         "scene": "scene",
         "showlegend": true,
         "type": "scatter3d",
         "x": [
          -0.9620695798239213,
          -0.8450364029478032,
          -0.9290616748509342,
          -1.4548886576156828,
          -0.8426236785251656,
          -0.8761895519239552,
          -1.735227671506274,
          -1.2555613629093259,
          -0.41225014754385353,
          -0.7972208074428622,
          -1.0886372494778145,
          -1.4325994716146977,
          -1.0364938004630087,
          -0.7744767064836455,
          -0.5236797714062461,
          -1.5924852478942972,
          -0.5867888831576602,
          -0.3969768255481032,
          -0.6583279688954371
         ],
         "y": [
          0.59419828621391,
          0.7696162063127292,
          0.5381885972514836,
          0.3557848004390433,
          0.5547460761857423,
          0.4804346734628473,
          0.2941562667726642,
          0.469598690696151,
          0.6281977715794386,
          0.5049802077771791,
          0.5070361672205059,
          0.3254762665880307,
          0.506655856434462,
          0.5987245533400256,
          0.3634126974861924,
          0.28579223792050823,
          0.5112293212074256,
          0.45361458765412166,
          0.5366439921410212
         ],
         "z": [
          -0.40900744245475856,
          -0.2302263976557838,
          -0.5269779734264206,
          -0.8388230176856611,
          -0.4338521426262209,
          -0.5947024858259773,
          -0.9338541593731331,
          -0.5843986384847242,
          -0.3253925697874311,
          -0.5763910052527673,
          -0.5758729000703003,
          -0.9051525079178583,
          -0.5834921947255207,
          -0.47908354615768256,
          -0.8251500937361217,
          -0.9957350197474965,
          -0.5609145167836769,
          -0.7218933463710486,
          -0.5740517274655672
         ]
        }
       ],
       "layout": {
        "height": 800,
        "legend": {
         "title": {
          "text": "County"
         },
         "tracegroupgap": 0,
         "x": 0.01,
         "xanchor": "left",
         "y": 0.79,
         "yanchor": "top"
        },
        "margin": {
         "b": 0,
         "l": 0,
         "r": 0,
         "t": 0
        },
        "scene": {
         "domain": {
          "x": [
           0,
           1
          ],
          "y": [
           0,
           1
          ]
         },
         "xaxis": {
          "title": {
           "text": "PC1"
          }
         },
         "yaxis": {
          "title": {
           "text": "PC2"
          }
         },
         "zaxis": {
          "title": {
           "text": "PC3"
          }
         }
        },
        "template": {
         "data": {
          "bar": [
           {
            "error_x": {
             "color": "#2a3f5f"
            },
            "error_y": {
             "color": "#2a3f5f"
            },
            "marker": {
             "line": {
              "color": "#E5ECF6",
              "width": 0.5
             },
             "pattern": {
              "fillmode": "overlay",
              "size": 10,
              "solidity": 0.2
             }
            },
            "type": "bar"
           }
          ],
          "barpolar": [
           {
            "marker": {
             "line": {
              "color": "#E5ECF6",
              "width": 0.5
             },
             "pattern": {
              "fillmode": "overlay",
              "size": 10,
              "solidity": 0.2
             }
            },
            "type": "barpolar"
           }
          ],
          "carpet": [
           {
            "aaxis": {
             "endlinecolor": "#2a3f5f",
             "gridcolor": "white",
             "linecolor": "white",
             "minorgridcolor": "white",
             "startlinecolor": "#2a3f5f"
            },
            "baxis": {
             "endlinecolor": "#2a3f5f",
             "gridcolor": "white",
             "linecolor": "white",
             "minorgridcolor": "white",
             "startlinecolor": "#2a3f5f"
            },
            "type": "carpet"
           }
          ],
          "choropleth": [
           {
            "colorbar": {
             "outlinewidth": 0,
             "ticks": ""
            },
            "type": "choropleth"
           }
          ],
          "contour": [
           {
            "colorbar": {
             "outlinewidth": 0,
             "ticks": ""
            },
            "colorscale": [
             [
              0,
              "#0d0887"
             ],
             [
              0.1111111111111111,
              "#46039f"
             ],
             [
              0.2222222222222222,
              "#7201a8"
             ],
             [
              0.3333333333333333,
              "#9c179e"
             ],
             [
              0.4444444444444444,
              "#bd3786"
             ],
             [
              0.5555555555555556,
              "#d8576b"
             ],
             [
              0.6666666666666666,
              "#ed7953"
             ],
             [
              0.7777777777777778,
              "#fb9f3a"
             ],
             [
              0.8888888888888888,
              "#fdca26"
             ],
             [
              1,
              "#f0f921"
             ]
            ],
            "type": "contour"
           }
          ],
          "contourcarpet": [
           {
            "colorbar": {
             "outlinewidth": 0,
             "ticks": ""
            },
            "type": "contourcarpet"
           }
          ],
          "heatmap": [
           {
            "colorbar": {
             "outlinewidth": 0,
             "ticks": ""
            },
            "colorscale": [
             [
              0,
              "#0d0887"
             ],
             [
              0.1111111111111111,
              "#46039f"
             ],
             [
              0.2222222222222222,
              "#7201a8"
             ],
             [
              0.3333333333333333,
              "#9c179e"
             ],
             [
              0.4444444444444444,
              "#bd3786"
             ],
             [
              0.5555555555555556,
              "#d8576b"
             ],
             [
              0.6666666666666666,
              "#ed7953"
             ],
             [
              0.7777777777777778,
              "#fb9f3a"
             ],
             [
              0.8888888888888888,
              "#fdca26"
             ],
             [
              1,
              "#f0f921"
             ]
            ],
            "type": "heatmap"
           }
          ],
          "heatmapgl": [
           {
            "colorbar": {
             "outlinewidth": 0,
             "ticks": ""
            },
            "colorscale": [
             [
              0,
              "#0d0887"
             ],
             [
              0.1111111111111111,
              "#46039f"
             ],
             [
              0.2222222222222222,
              "#7201a8"
             ],
             [
              0.3333333333333333,
              "#9c179e"
             ],
             [
              0.4444444444444444,
              "#bd3786"
             ],
             [
              0.5555555555555556,
              "#d8576b"
             ],
             [
              0.6666666666666666,
              "#ed7953"
             ],
             [
              0.7777777777777778,
              "#fb9f3a"
             ],
             [
              0.8888888888888888,
              "#fdca26"
             ],
             [
              1,
              "#f0f921"
             ]
            ],
            "type": "heatmapgl"
           }
          ],
          "histogram": [
           {
            "marker": {
             "pattern": {
              "fillmode": "overlay",
              "size": 10,
              "solidity": 0.2
             }
            },
            "type": "histogram"
           }
          ],
          "histogram2d": [
           {
            "colorbar": {
             "outlinewidth": 0,
             "ticks": ""
            },
            "colorscale": [
             [
              0,
              "#0d0887"
             ],
             [
              0.1111111111111111,
              "#46039f"
             ],
             [
              0.2222222222222222,
              "#7201a8"
             ],
             [
              0.3333333333333333,
              "#9c179e"
             ],
             [
              0.4444444444444444,
              "#bd3786"
             ],
             [
              0.5555555555555556,
              "#d8576b"
             ],
             [
              0.6666666666666666,
              "#ed7953"
             ],
             [
              0.7777777777777778,
              "#fb9f3a"
             ],
             [
              0.8888888888888888,
              "#fdca26"
             ],
             [
              1,
              "#f0f921"
             ]
            ],
            "type": "histogram2d"
           }
          ],
          "histogram2dcontour": [
           {
            "colorbar": {
             "outlinewidth": 0,
             "ticks": ""
            },
            "colorscale": [
             [
              0,
              "#0d0887"
             ],
             [
              0.1111111111111111,
              "#46039f"
             ],
             [
              0.2222222222222222,
              "#7201a8"
             ],
             [
              0.3333333333333333,
              "#9c179e"
             ],
             [
              0.4444444444444444,
              "#bd3786"
             ],
             [
              0.5555555555555556,
              "#d8576b"
             ],
             [
              0.6666666666666666,
              "#ed7953"
             ],
             [
              0.7777777777777778,
              "#fb9f3a"
             ],
             [
              0.8888888888888888,
              "#fdca26"
             ],
             [
              1,
              "#f0f921"
             ]
            ],
            "type": "histogram2dcontour"
           }
          ],
          "mesh3d": [
           {
            "colorbar": {
             "outlinewidth": 0,
             "ticks": ""
            },
            "type": "mesh3d"
           }
          ],
          "parcoords": [
           {
            "line": {
             "colorbar": {
              "outlinewidth": 0,
              "ticks": ""
             }
            },
            "type": "parcoords"
           }
          ],
          "pie": [
           {
            "automargin": true,
            "type": "pie"
           }
          ],
          "scatter": [
           {
            "fillpattern": {
             "fillmode": "overlay",
             "size": 10,
             "solidity": 0.2
            },
            "type": "scatter"
           }
          ],
          "scatter3d": [
           {
            "line": {
             "colorbar": {
              "outlinewidth": 0,
              "ticks": ""
             }
            },
            "marker": {
             "colorbar": {
              "outlinewidth": 0,
              "ticks": ""
             }
            },
            "type": "scatter3d"
           }
          ],
          "scattercarpet": [
           {
            "marker": {
             "colorbar": {
              "outlinewidth": 0,
              "ticks": ""
             }
            },
            "type": "scattercarpet"
           }
          ],
          "scattergeo": [
           {
            "marker": {
             "colorbar": {
              "outlinewidth": 0,
              "ticks": ""
             }
            },
            "type": "scattergeo"
           }
          ],
          "scattergl": [
           {
            "marker": {
             "colorbar": {
              "outlinewidth": 0,
              "ticks": ""
             }
            },
            "type": "scattergl"
           }
          ],
          "scattermapbox": [
           {
            "marker": {
             "colorbar": {
              "outlinewidth": 0,
              "ticks": ""
             }
            },
            "type": "scattermapbox"
           }
          ],
          "scatterpolar": [
           {
            "marker": {
             "colorbar": {
              "outlinewidth": 0,
              "ticks": ""
             }
            },
            "type": "scatterpolar"
           }
          ],
          "scatterpolargl": [
           {
            "marker": {
             "colorbar": {
              "outlinewidth": 0,
              "ticks": ""
             }
            },
            "type": "scatterpolargl"
           }
          ],
          "scatterternary": [
           {
            "marker": {
             "colorbar": {
              "outlinewidth": 0,
              "ticks": ""
             }
            },
            "type": "scatterternary"
           }
          ],
          "surface": [
           {
            "colorbar": {
             "outlinewidth": 0,
             "ticks": ""
            },
            "colorscale": [
             [
              0,
              "#0d0887"
             ],
             [
              0.1111111111111111,
              "#46039f"
             ],
             [
              0.2222222222222222,
              "#7201a8"
             ],
             [
              0.3333333333333333,
              "#9c179e"
             ],
             [
              0.4444444444444444,
              "#bd3786"
             ],
             [
              0.5555555555555556,
              "#d8576b"
             ],
             [
              0.6666666666666666,
              "#ed7953"
             ],
             [
              0.7777777777777778,
              "#fb9f3a"
             ],
             [
              0.8888888888888888,
              "#fdca26"
             ],
             [
              1,
              "#f0f921"
             ]
            ],
            "type": "surface"
           }
          ],
          "table": [
           {
            "cells": {
             "fill": {
              "color": "#EBF0F8"
             },
             "line": {
              "color": "white"
             }
            },
            "header": {
             "fill": {
              "color": "#C8D4E3"
             },
             "line": {
              "color": "white"
             }
            },
            "type": "table"
           }
          ]
         },
         "layout": {
          "annotationdefaults": {
           "arrowcolor": "#2a3f5f",
           "arrowhead": 0,
           "arrowwidth": 1
          },
          "autotypenumbers": "strict",
          "coloraxis": {
           "colorbar": {
            "outlinewidth": 0,
            "ticks": ""
           }
          },
          "colorscale": {
           "diverging": [
            [
             0,
             "#8e0152"
            ],
            [
             0.1,
             "#c51b7d"
            ],
            [
             0.2,
             "#de77ae"
            ],
            [
             0.3,
             "#f1b6da"
            ],
            [
             0.4,
             "#fde0ef"
            ],
            [
             0.5,
             "#f7f7f7"
            ],
            [
             0.6,
             "#e6f5d0"
            ],
            [
             0.7,
             "#b8e186"
            ],
            [
             0.8,
             "#7fbc41"
            ],
            [
             0.9,
             "#4d9221"
            ],
            [
             1,
             "#276419"
            ]
           ],
           "sequential": [
            [
             0,
             "#0d0887"
            ],
            [
             0.1111111111111111,
             "#46039f"
            ],
            [
             0.2222222222222222,
             "#7201a8"
            ],
            [
             0.3333333333333333,
             "#9c179e"
            ],
            [
             0.4444444444444444,
             "#bd3786"
            ],
            [
             0.5555555555555556,
             "#d8576b"
            ],
            [
             0.6666666666666666,
             "#ed7953"
            ],
            [
             0.7777777777777778,
             "#fb9f3a"
            ],
            [
             0.8888888888888888,
             "#fdca26"
            ],
            [
             1,
             "#f0f921"
            ]
           ],
           "sequentialminus": [
            [
             0,
             "#0d0887"
            ],
            [
             0.1111111111111111,
             "#46039f"
            ],
            [
             0.2222222222222222,
             "#7201a8"
            ],
            [
             0.3333333333333333,
             "#9c179e"
            ],
            [
             0.4444444444444444,
             "#bd3786"
            ],
            [
             0.5555555555555556,
             "#d8576b"
            ],
            [
             0.6666666666666666,
             "#ed7953"
            ],
            [
             0.7777777777777778,
             "#fb9f3a"
            ],
            [
             0.8888888888888888,
             "#fdca26"
            ],
            [
             1,
             "#f0f921"
            ]
           ]
          },
          "colorway": [
           "#636efa",
           "#EF553B",
           "#00cc96",
           "#ab63fa",
           "#FFA15A",
           "#19d3f3",
           "#FF6692",
           "#B6E880",
           "#FF97FF",
           "#FECB52"
          ],
          "font": {
           "color": "#2a3f5f"
          },
          "geo": {
           "bgcolor": "white",
           "lakecolor": "white",
           "landcolor": "#E5ECF6",
           "showlakes": true,
           "showland": true,
           "subunitcolor": "white"
          },
          "hoverlabel": {
           "align": "left"
          },
          "hovermode": "closest",
          "mapbox": {
           "style": "light"
          },
          "paper_bgcolor": "white",
          "plot_bgcolor": "#E5ECF6",
          "polar": {
           "angularaxis": {
            "gridcolor": "white",
            "linecolor": "white",
            "ticks": ""
           },
           "bgcolor": "#E5ECF6",
           "radialaxis": {
            "gridcolor": "white",
            "linecolor": "white",
            "ticks": ""
           }
          },
          "scene": {
           "xaxis": {
            "backgroundcolor": "#E5ECF6",
            "gridcolor": "white",
            "gridwidth": 2,
            "linecolor": "white",
            "showbackground": true,
            "ticks": "",
            "zerolinecolor": "white"
           },
           "yaxis": {
            "backgroundcolor": "#E5ECF6",
            "gridcolor": "white",
            "gridwidth": 2,
            "linecolor": "white",
            "showbackground": true,
            "ticks": "",
            "zerolinecolor": "white"
           },
           "zaxis": {
            "backgroundcolor": "#E5ECF6",
            "gridcolor": "white",
            "gridwidth": 2,
            "linecolor": "white",
            "showbackground": true,
            "ticks": "",
            "zerolinecolor": "white"
           }
          },
          "shapedefaults": {
           "line": {
            "color": "#2a3f5f"
           }
          },
          "ternary": {
           "aaxis": {
            "gridcolor": "white",
            "linecolor": "white",
            "ticks": ""
           },
           "baxis": {
            "gridcolor": "white",
            "linecolor": "white",
            "ticks": ""
           },
           "bgcolor": "#E5ECF6",
           "caxis": {
            "gridcolor": "white",
            "linecolor": "white",
            "ticks": ""
           }
          },
          "title": {
           "x": 0.05
          },
          "xaxis": {
           "automargin": true,
           "gridcolor": "white",
           "linecolor": "white",
           "ticks": "",
           "title": {
            "standoff": 15
           },
           "zerolinecolor": "white",
           "zerolinewidth": 2
          },
          "yaxis": {
           "automargin": true,
           "gridcolor": "white",
           "linecolor": "white",
           "ticks": "",
           "title": {
            "standoff": 15
           },
           "zerolinecolor": "white",
           "zerolinewidth": 2
          }
         }
        },
        "title": {
         "text": "3D PCA with County Color Coding"
        },
        "width": 1100
       }
      }
     },
     "metadata": {},
     "output_type": "display_data"
    }
   ],
   "source": [
    "# Apply 3D PCA\n",
    "pca_3d = PCA(n_components=3)\n",
    "pca_result_3d = pca_3d.fit_transform(normalized_df)\n",
    "\n",
    "# Create a DataFrame for 3D PCA results\n",
    "pca_df_3d = pd.DataFrame(data=pca_result_3d, columns=['PC1', 'PC2', 'PC3'])\n",
    "pca_df_3d['County'] = branch_level_data['County']\n",
    "\n",
    "# Plot 3D PCA with Plotly\n",
    "fig = px.scatter_3d(pca_df_3d, x='PC1', y='PC2', z='PC3', color='County', labels={'County': 'County'}, \n",
    "                    title='3D PCA with County Color Coding', opacity=0.7, width=1100, height=800,\n",
    "                    color_discrete_sequence=px.colors.qualitative.Set1)\n",
    "fig.update_layout(margin=dict(l=0, r=0, b=0, t=0))\n",
    "fig.update_traces(marker_size=5)\n",
    "fig.update_layout(legend_title_text='County', legend=dict(yanchor=\"top\", y=0.79, xanchor=\"left\", x=0.01))\n",
    "\n",
    "# Show the interactive 3D plot\n",
    "fig.show()"
   ]
  },
  {
   "cell_type": "code",
   "execution_count": 44,
   "metadata": {},
   "outputs": [
    {
     "name": "stdout",
     "output_type": "stream",
     "text": [
      "Feature Loadings for PC1:\n",
      "Home Banking_norm          0.373792\n",
      "Draft_norm                 0.368642\n",
      "Fee_norm                   0.368490\n",
      "Dividend_norm              0.361914\n",
      "ATM_norm                   0.340146\n",
      "Credit/Debit Card_norm     0.333748\n",
      "Cash_norm                  0.320335\n",
      "ACH_norm                   0.312615\n",
      "Bill Payment_norm          0.157848\n",
      "Revenue_Per_County_norm    0.072590\n",
      "Name: PC1, dtype: float64\n",
      "\n",
      "Feature Loadings for PC2:\n",
      "Bill Payment_norm          0.583762\n",
      "ACH_norm                   0.184610\n",
      "Draft_norm                 0.052828\n",
      "Home Banking_norm          0.050569\n",
      "Cash_norm                 -0.020902\n",
      "Fee_norm                  -0.043528\n",
      "Dividend_norm             -0.074373\n",
      "Credit/Debit Card_norm    -0.087620\n",
      "ATM_norm                  -0.159068\n",
      "Revenue_Per_County_norm   -0.760888\n",
      "Name: PC2, dtype: float64\n",
      "\n",
      "Feature Loadings for PC3:\n",
      "Revenue_Per_County_norm    0.621193\n",
      "Bill Payment_norm          0.575591\n",
      "ACH_norm                   0.311414\n",
      "Cash_norm                  0.065945\n",
      "Draft_norm                 0.052462\n",
      "Home Banking_norm         -0.012684\n",
      "Dividend_norm             -0.090404\n",
      "Fee_norm                  -0.143157\n",
      "ATM_norm                  -0.247460\n",
      "Credit/Debit Card_norm    -0.297774\n",
      "Name: PC3, dtype: float64\n"
     ]
    }
   ],
   "source": [
    "# Get the feature loadings for PC1, PC2, and PC3\n",
    "loadings_df = pd.DataFrame(pca_3d.components_, columns=normalized_df.columns, index=['PC1', 'PC2', 'PC3'])\n",
    "\n",
    "# Display the feature loadings\n",
    "print(\"Feature Loadings for PC1:\")\n",
    "print(loadings_df.loc['PC1'].sort_values(ascending=False))\n",
    "\n",
    "print(\"\\nFeature Loadings for PC2:\")\n",
    "print(loadings_df.loc['PC2'].sort_values(ascending=False))\n",
    "\n",
    "print(\"\\nFeature Loadings for PC3:\")\n",
    "print(loadings_df.loc['PC3'].sort_values(ascending=False))"
   ]
  }
 ],
 "metadata": {
  "kernelspec": {
   "display_name": "Python 3 (ipykernel)",
   "language": "python",
   "name": "python3"
  },
  "language_info": {
   "codemirror_mode": {
    "name": "ipython",
    "version": 3
   },
   "file_extension": ".py",
   "mimetype": "text/x-python",
   "name": "python",
   "nbconvert_exporter": "python",
   "pygments_lexer": "ipython3",
   "version": "3.9.18"
  }
 },
 "nbformat": 4,
 "nbformat_minor": 5
}
