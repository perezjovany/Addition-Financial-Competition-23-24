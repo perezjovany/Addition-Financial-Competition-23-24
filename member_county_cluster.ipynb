{
 "cells": [
  {
   "cell_type": "markdown",
   "metadata": {},
   "source": [
    "Purpose: This file attempts to aggregate member's account data based on their counties and explores how many and what cluster each county falls into."
   ]
  },
  {
   "cell_type": "markdown",
   "metadata": {},
   "source": [
    "# Importing Packages and Data"
   ]
  },
  {
   "cell_type": "code",
   "execution_count": 2,
   "metadata": {},
   "outputs": [],
   "source": [
    "import pandas as pd\n",
    "import numpy as np\n",
    "import plotly.express as px\n",
    "from sklearn.cluster import KMeans\n",
    "from sklearn.preprocessing import StandardScaler\n",
    "import warnings\n",
    "warnings.filterwarnings(\"ignore\", category=FutureWarning)"
   ]
  },
  {
   "cell_type": "code",
   "execution_count": 3,
   "metadata": {},
   "outputs": [
    {
     "data": {
      "text/html": [
       "<div>\n",
       "<style scoped>\n",
       "    .dataframe tbody tr th:only-of-type {\n",
       "        vertical-align: middle;\n",
       "    }\n",
       "\n",
       "    .dataframe tbody tr th {\n",
       "        vertical-align: top;\n",
       "    }\n",
       "\n",
       "    .dataframe thead th {\n",
       "        text-align: right;\n",
       "    }\n",
       "</style>\n",
       "<table border=\"1\" class=\"dataframe\">\n",
       "  <thead>\n",
       "    <tr style=\"text-align: right;\">\n",
       "      <th></th>\n",
       "      <th>Unique_Member_Identifier</th>\n",
       "      <th>EOM_TRANS_DATE</th>\n",
       "      <th>age</th>\n",
       "      <th>BranchCategory</th>\n",
       "      <th>address_zip</th>\n",
       "      <th>n_accts</th>\n",
       "      <th>n_checking_accts</th>\n",
       "      <th>n_savings_accts</th>\n",
       "      <th>n_open_loans</th>\n",
       "      <th>n_open_cds</th>\n",
       "      <th>...</th>\n",
       "      <th>ATMCount</th>\n",
       "      <th>BillPaymentCount</th>\n",
       "      <th>CashCount</th>\n",
       "      <th>DraftCount</th>\n",
       "      <th>ACHCount</th>\n",
       "      <th>FeeCount</th>\n",
       "      <th>Credit_DebitCount</th>\n",
       "      <th>Home_Banking</th>\n",
       "      <th>WireCount</th>\n",
       "      <th>DividendCount</th>\n",
       "    </tr>\n",
       "  </thead>\n",
       "  <tbody>\n",
       "    <tr>\n",
       "      <th>0</th>\n",
       "      <td>360faa7e8e345d2725f92460ca39696ad885b876805328...</td>\n",
       "      <td>2022-01-31</td>\n",
       "      <td>85</td>\n",
       "      <td>Winter Garden</td>\n",
       "      <td>34760</td>\n",
       "      <td>1</td>\n",
       "      <td>0</td>\n",
       "      <td>1</td>\n",
       "      <td>0</td>\n",
       "      <td>0</td>\n",
       "      <td>...</td>\n",
       "      <td>0</td>\n",
       "      <td>0</td>\n",
       "      <td>0</td>\n",
       "      <td>0</td>\n",
       "      <td>0</td>\n",
       "      <td>0</td>\n",
       "      <td>0</td>\n",
       "      <td>0</td>\n",
       "      <td>0</td>\n",
       "      <td>1</td>\n",
       "    </tr>\n",
       "    <tr>\n",
       "      <th>1</th>\n",
       "      <td>4ef271022b929dd2ea56f3c0e9a7efae346a07e40f6ea1...</td>\n",
       "      <td>2022-01-31</td>\n",
       "      <td>59</td>\n",
       "      <td>Lake Nona</td>\n",
       "      <td>34771</td>\n",
       "      <td>2</td>\n",
       "      <td>1</td>\n",
       "      <td>1</td>\n",
       "      <td>0</td>\n",
       "      <td>0</td>\n",
       "      <td>...</td>\n",
       "      <td>0</td>\n",
       "      <td>0</td>\n",
       "      <td>0</td>\n",
       "      <td>0</td>\n",
       "      <td>0</td>\n",
       "      <td>0</td>\n",
       "      <td>0</td>\n",
       "      <td>0</td>\n",
       "      <td>0</td>\n",
       "      <td>1</td>\n",
       "    </tr>\n",
       "    <tr>\n",
       "      <th>2</th>\n",
       "      <td>f868c8fb32d526c00024e408fdd712e881de936372bef8...</td>\n",
       "      <td>2022-01-31</td>\n",
       "      <td>38</td>\n",
       "      <td>MetroWest</td>\n",
       "      <td>32765</td>\n",
       "      <td>2</td>\n",
       "      <td>0</td>\n",
       "      <td>1</td>\n",
       "      <td>0</td>\n",
       "      <td>0</td>\n",
       "      <td>...</td>\n",
       "      <td>0</td>\n",
       "      <td>0</td>\n",
       "      <td>0</td>\n",
       "      <td>0</td>\n",
       "      <td>0</td>\n",
       "      <td>0</td>\n",
       "      <td>0</td>\n",
       "      <td>0</td>\n",
       "      <td>0</td>\n",
       "      <td>1</td>\n",
       "    </tr>\n",
       "    <tr>\n",
       "      <th>3</th>\n",
       "      <td>4fe6ec028a8a5234bb02fbe97488fb9431109a292ee8bc...</td>\n",
       "      <td>2022-01-31</td>\n",
       "      <td>67</td>\n",
       "      <td>Kissimmee</td>\n",
       "      <td>34744</td>\n",
       "      <td>1</td>\n",
       "      <td>0</td>\n",
       "      <td>1</td>\n",
       "      <td>1</td>\n",
       "      <td>0</td>\n",
       "      <td>...</td>\n",
       "      <td>0</td>\n",
       "      <td>0</td>\n",
       "      <td>0</td>\n",
       "      <td>0</td>\n",
       "      <td>0</td>\n",
       "      <td>0</td>\n",
       "      <td>0</td>\n",
       "      <td>0</td>\n",
       "      <td>0</td>\n",
       "      <td>1</td>\n",
       "    </tr>\n",
       "    <tr>\n",
       "      <th>4</th>\n",
       "      <td>f46df5083939ce116be51669af3315c474655c936204c2...</td>\n",
       "      <td>2022-01-31</td>\n",
       "      <td>47</td>\n",
       "      <td>East Orlando</td>\n",
       "      <td>32825</td>\n",
       "      <td>3</td>\n",
       "      <td>2</td>\n",
       "      <td>1</td>\n",
       "      <td>0</td>\n",
       "      <td>0</td>\n",
       "      <td>...</td>\n",
       "      <td>0</td>\n",
       "      <td>0</td>\n",
       "      <td>0</td>\n",
       "      <td>0</td>\n",
       "      <td>0</td>\n",
       "      <td>1</td>\n",
       "      <td>2</td>\n",
       "      <td>2</td>\n",
       "      <td>0</td>\n",
       "      <td>1</td>\n",
       "    </tr>\n",
       "  </tbody>\n",
       "</table>\n",
       "<p>5 rows × 22 columns</p>\n",
       "</div>"
      ],
      "text/plain": [
       "                            Unique_Member_Identifier EOM_TRANS_DATE  age  \\\n",
       "0  360faa7e8e345d2725f92460ca39696ad885b876805328...     2022-01-31   85   \n",
       "1  4ef271022b929dd2ea56f3c0e9a7efae346a07e40f6ea1...     2022-01-31   59   \n",
       "2  f868c8fb32d526c00024e408fdd712e881de936372bef8...     2022-01-31   38   \n",
       "3  4fe6ec028a8a5234bb02fbe97488fb9431109a292ee8bc...     2022-01-31   67   \n",
       "4  f46df5083939ce116be51669af3315c474655c936204c2...     2022-01-31   47   \n",
       "\n",
       "  BranchCategory address_zip  n_accts  n_checking_accts  n_savings_accts  \\\n",
       "0  Winter Garden       34760        1                 0                1   \n",
       "1      Lake Nona       34771        2                 1                1   \n",
       "2      MetroWest       32765        2                 0                1   \n",
       "3      Kissimmee       34744        1                 0                1   \n",
       "4   East Orlando       32825        3                 2                1   \n",
       "\n",
       "   n_open_loans  n_open_cds  ...  ATMCount  BillPaymentCount  CashCount  \\\n",
       "0             0           0  ...         0                 0          0   \n",
       "1             0           0  ...         0                 0          0   \n",
       "2             0           0  ...         0                 0          0   \n",
       "3             1           0  ...         0                 0          0   \n",
       "4             0           0  ...         0                 0          0   \n",
       "\n",
       "   DraftCount  ACHCount  FeeCount  Credit_DebitCount  Home_Banking  WireCount  \\\n",
       "0           0         0         0                  0             0          0   \n",
       "1           0         0         0                  0             0          0   \n",
       "2           0         0         0                  0             0          0   \n",
       "3           0         0         0                  0             0          0   \n",
       "4           0         0         1                  2             2          0   \n",
       "\n",
       "   DividendCount  \n",
       "0              1  \n",
       "1              1  \n",
       "2              1  \n",
       "3              1  \n",
       "4              1  \n",
       "\n",
       "[5 rows x 22 columns]"
      ]
     },
     "execution_count": 3,
     "metadata": {},
     "output_type": "execute_result"
    }
   ],
   "source": [
    "member_level_df = pd.read_csv('data/Member_Level_Dataset.csv')\n",
    "member_level_df.head()"
   ]
  },
  {
   "cell_type": "markdown",
   "metadata": {},
   "source": [
    "# Data Preprocessing"
   ]
  },
  {
   "cell_type": "code",
   "execution_count": 4,
   "metadata": {},
   "outputs": [],
   "source": [
    "# Remove the rows that contains 'Virtual Branch' in the 'BranchCategory' column\n",
    "no_virtual_df = member_level_df[member_level_df['BranchCategory'] != 'Virtual Branch']"
   ]
  },
  {
   "cell_type": "code",
   "execution_count": 5,
   "metadata": {},
   "outputs": [
    {
     "name": "stderr",
     "output_type": "stream",
     "text": [
      "C:\\Users\\perez\\AppData\\Local\\Temp\\ipykernel_232\\2725168190.py:2: UserWarning: Boolean Series key will be reindexed to match DataFrame index.\n",
      "  no_highschool_df = no_virtual_df[~member_level_df['BranchCategory'].str.contains('High School')]\n"
     ]
    }
   ],
   "source": [
    "# Remove the rows that contains 'High School' in the name in 'BranchCategory' column\n",
    "no_highschool_df = no_virtual_df[~member_level_df['BranchCategory'].str.contains('High School')]"
   ]
  },
  {
   "cell_type": "code",
   "execution_count": 6,
   "metadata": {},
   "outputs": [],
   "source": [
    "# Drop empty rows\n",
    "no_highschool_df = no_highschool_df.dropna()"
   ]
  },
  {
   "cell_type": "code",
   "execution_count": 7,
   "metadata": {},
   "outputs": [
    {
     "data": {
      "text/html": [
       "<div>\n",
       "<style scoped>\n",
       "    .dataframe tbody tr th:only-of-type {\n",
       "        vertical-align: middle;\n",
       "    }\n",
       "\n",
       "    .dataframe tbody tr th {\n",
       "        vertical-align: top;\n",
       "    }\n",
       "\n",
       "    .dataframe thead th {\n",
       "        text-align: right;\n",
       "    }\n",
       "</style>\n",
       "<table border=\"1\" class=\"dataframe\">\n",
       "  <thead>\n",
       "    <tr style=\"text-align: right;\">\n",
       "      <th></th>\n",
       "      <th>Unique_Member_Identifier</th>\n",
       "      <th>EOM_TRANS_DATE</th>\n",
       "      <th>age</th>\n",
       "      <th>BranchCategory</th>\n",
       "      <th>address_zip</th>\n",
       "      <th>n_accts</th>\n",
       "      <th>n_checking_accts</th>\n",
       "      <th>n_savings_accts</th>\n",
       "      <th>n_open_loans</th>\n",
       "      <th>n_open_cds</th>\n",
       "      <th>...</th>\n",
       "      <th>ATMCount</th>\n",
       "      <th>BillPaymentCount</th>\n",
       "      <th>CashCount</th>\n",
       "      <th>DraftCount</th>\n",
       "      <th>ACHCount</th>\n",
       "      <th>FeeCount</th>\n",
       "      <th>Credit_DebitCount</th>\n",
       "      <th>Home_Banking</th>\n",
       "      <th>WireCount</th>\n",
       "      <th>DividendCount</th>\n",
       "    </tr>\n",
       "  </thead>\n",
       "  <tbody>\n",
       "    <tr>\n",
       "      <th>0</th>\n",
       "      <td>360faa7e8e345d2725f92460ca39696ad885b876805328...</td>\n",
       "      <td>2022-01-31</td>\n",
       "      <td>85</td>\n",
       "      <td>Winter Garden</td>\n",
       "      <td>34760</td>\n",
       "      <td>1</td>\n",
       "      <td>0</td>\n",
       "      <td>1</td>\n",
       "      <td>0</td>\n",
       "      <td>0</td>\n",
       "      <td>...</td>\n",
       "      <td>0</td>\n",
       "      <td>0</td>\n",
       "      <td>0</td>\n",
       "      <td>0</td>\n",
       "      <td>0</td>\n",
       "      <td>0</td>\n",
       "      <td>0</td>\n",
       "      <td>0</td>\n",
       "      <td>0</td>\n",
       "      <td>1</td>\n",
       "    </tr>\n",
       "    <tr>\n",
       "      <th>1</th>\n",
       "      <td>4ef271022b929dd2ea56f3c0e9a7efae346a07e40f6ea1...</td>\n",
       "      <td>2022-01-31</td>\n",
       "      <td>59</td>\n",
       "      <td>Lake Nona</td>\n",
       "      <td>34771</td>\n",
       "      <td>2</td>\n",
       "      <td>1</td>\n",
       "      <td>1</td>\n",
       "      <td>0</td>\n",
       "      <td>0</td>\n",
       "      <td>...</td>\n",
       "      <td>0</td>\n",
       "      <td>0</td>\n",
       "      <td>0</td>\n",
       "      <td>0</td>\n",
       "      <td>0</td>\n",
       "      <td>0</td>\n",
       "      <td>0</td>\n",
       "      <td>0</td>\n",
       "      <td>0</td>\n",
       "      <td>1</td>\n",
       "    </tr>\n",
       "    <tr>\n",
       "      <th>2</th>\n",
       "      <td>f868c8fb32d526c00024e408fdd712e881de936372bef8...</td>\n",
       "      <td>2022-01-31</td>\n",
       "      <td>38</td>\n",
       "      <td>MetroWest</td>\n",
       "      <td>32765</td>\n",
       "      <td>2</td>\n",
       "      <td>0</td>\n",
       "      <td>1</td>\n",
       "      <td>0</td>\n",
       "      <td>0</td>\n",
       "      <td>...</td>\n",
       "      <td>0</td>\n",
       "      <td>0</td>\n",
       "      <td>0</td>\n",
       "      <td>0</td>\n",
       "      <td>0</td>\n",
       "      <td>0</td>\n",
       "      <td>0</td>\n",
       "      <td>0</td>\n",
       "      <td>0</td>\n",
       "      <td>1</td>\n",
       "    </tr>\n",
       "    <tr>\n",
       "      <th>3</th>\n",
       "      <td>4fe6ec028a8a5234bb02fbe97488fb9431109a292ee8bc...</td>\n",
       "      <td>2022-01-31</td>\n",
       "      <td>67</td>\n",
       "      <td>Kissimmee</td>\n",
       "      <td>34744</td>\n",
       "      <td>1</td>\n",
       "      <td>0</td>\n",
       "      <td>1</td>\n",
       "      <td>1</td>\n",
       "      <td>0</td>\n",
       "      <td>...</td>\n",
       "      <td>0</td>\n",
       "      <td>0</td>\n",
       "      <td>0</td>\n",
       "      <td>0</td>\n",
       "      <td>0</td>\n",
       "      <td>0</td>\n",
       "      <td>0</td>\n",
       "      <td>0</td>\n",
       "      <td>0</td>\n",
       "      <td>1</td>\n",
       "    </tr>\n",
       "    <tr>\n",
       "      <th>4</th>\n",
       "      <td>f46df5083939ce116be51669af3315c474655c936204c2...</td>\n",
       "      <td>2022-01-31</td>\n",
       "      <td>47</td>\n",
       "      <td>East Orlando</td>\n",
       "      <td>32825</td>\n",
       "      <td>3</td>\n",
       "      <td>2</td>\n",
       "      <td>1</td>\n",
       "      <td>0</td>\n",
       "      <td>0</td>\n",
       "      <td>...</td>\n",
       "      <td>0</td>\n",
       "      <td>0</td>\n",
       "      <td>0</td>\n",
       "      <td>0</td>\n",
       "      <td>0</td>\n",
       "      <td>1</td>\n",
       "      <td>2</td>\n",
       "      <td>2</td>\n",
       "      <td>0</td>\n",
       "      <td>1</td>\n",
       "    </tr>\n",
       "  </tbody>\n",
       "</table>\n",
       "<p>5 rows × 22 columns</p>\n",
       "</div>"
      ],
      "text/plain": [
       "                            Unique_Member_Identifier EOM_TRANS_DATE  age  \\\n",
       "0  360faa7e8e345d2725f92460ca39696ad885b876805328...     2022-01-31   85   \n",
       "1  4ef271022b929dd2ea56f3c0e9a7efae346a07e40f6ea1...     2022-01-31   59   \n",
       "2  f868c8fb32d526c00024e408fdd712e881de936372bef8...     2022-01-31   38   \n",
       "3  4fe6ec028a8a5234bb02fbe97488fb9431109a292ee8bc...     2022-01-31   67   \n",
       "4  f46df5083939ce116be51669af3315c474655c936204c2...     2022-01-31   47   \n",
       "\n",
       "  BranchCategory address_zip  n_accts  n_checking_accts  n_savings_accts  \\\n",
       "0  Winter Garden       34760        1                 0                1   \n",
       "1      Lake Nona       34771        2                 1                1   \n",
       "2      MetroWest       32765        2                 0                1   \n",
       "3      Kissimmee       34744        1                 0                1   \n",
       "4   East Orlando       32825        3                 2                1   \n",
       "\n",
       "   n_open_loans  n_open_cds  ...  ATMCount  BillPaymentCount  CashCount  \\\n",
       "0             0           0  ...         0                 0          0   \n",
       "1             0           0  ...         0                 0          0   \n",
       "2             0           0  ...         0                 0          0   \n",
       "3             1           0  ...         0                 0          0   \n",
       "4             0           0  ...         0                 0          0   \n",
       "\n",
       "   DraftCount  ACHCount  FeeCount  Credit_DebitCount  Home_Banking  WireCount  \\\n",
       "0           0         0         0                  0             0          0   \n",
       "1           0         0         0                  0             0          0   \n",
       "2           0         0         0                  0             0          0   \n",
       "3           0         0         0                  0             0          0   \n",
       "4           0         0         1                  2             2          0   \n",
       "\n",
       "   DividendCount  \n",
       "0              1  \n",
       "1              1  \n",
       "2              1  \n",
       "3              1  \n",
       "4              1  \n",
       "\n",
       "[5 rows x 22 columns]"
      ]
     },
     "execution_count": 7,
     "metadata": {},
     "output_type": "execute_result"
    }
   ],
   "source": [
    "no_highschool_df.head()"
   ]
  },
  {
   "cell_type": "code",
   "execution_count": 8,
   "metadata": {},
   "outputs": [
    {
     "name": "stdout",
     "output_type": "stream",
     "text": [
      "<class 'pandas.core.frame.DataFrame'>\n",
      "Index: 1620529 entries, 0 to 1661363\n",
      "Data columns (total 22 columns):\n",
      " #   Column                    Non-Null Count    Dtype \n",
      "---  ------                    --------------    ----- \n",
      " 0   Unique_Member_Identifier  1620529 non-null  object\n",
      " 1   EOM_TRANS_DATE            1620529 non-null  object\n",
      " 2   age                       1620529 non-null  int64 \n",
      " 3   BranchCategory            1620529 non-null  object\n",
      " 4   address_zip               1620529 non-null  object\n",
      " 5   n_accts                   1620529 non-null  int64 \n",
      " 6   n_checking_accts          1620529 non-null  int64 \n",
      " 7   n_savings_accts           1620529 non-null  int64 \n",
      " 8   n_open_loans              1620529 non-null  int64 \n",
      " 9   n_open_cds                1620529 non-null  int64 \n",
      " 10  n_open_club_accts         1620529 non-null  int64 \n",
      " 11  n_open_credit_cards       1620529 non-null  int64 \n",
      " 12  ATMCount                  1620529 non-null  int64 \n",
      " 13  BillPaymentCount          1620529 non-null  int64 \n",
      " 14  CashCount                 1620529 non-null  int64 \n",
      " 15  DraftCount                1620529 non-null  int64 \n",
      " 16  ACHCount                  1620529 non-null  int64 \n",
      " 17  FeeCount                  1620529 non-null  int64 \n",
      " 18  Credit_DebitCount         1620529 non-null  int64 \n",
      " 19  Home_Banking              1620529 non-null  int64 \n",
      " 20  WireCount                 1620529 non-null  int64 \n",
      " 21  DividendCount             1620529 non-null  int64 \n",
      "dtypes: int64(18), object(4)\n",
      "memory usage: 284.4+ MB\n"
     ]
    }
   ],
   "source": [
    "no_highschool_df.info()"
   ]
  },
  {
   "cell_type": "code",
   "execution_count": 9,
   "metadata": {},
   "outputs": [
    {
     "data": {
      "text/html": [
       "<div>\n",
       "<style scoped>\n",
       "    .dataframe tbody tr th:only-of-type {\n",
       "        vertical-align: middle;\n",
       "    }\n",
       "\n",
       "    .dataframe tbody tr th {\n",
       "        vertical-align: top;\n",
       "    }\n",
       "\n",
       "    .dataframe thead th {\n",
       "        text-align: right;\n",
       "    }\n",
       "</style>\n",
       "<table border=\"1\" class=\"dataframe\">\n",
       "  <thead>\n",
       "    <tr style=\"text-align: right;\">\n",
       "      <th></th>\n",
       "      <th>age</th>\n",
       "      <th>n_accts</th>\n",
       "      <th>n_checking_accts</th>\n",
       "      <th>n_savings_accts</th>\n",
       "      <th>n_open_loans</th>\n",
       "      <th>n_open_cds</th>\n",
       "      <th>n_open_club_accts</th>\n",
       "      <th>n_open_credit_cards</th>\n",
       "      <th>ATMCount</th>\n",
       "      <th>BillPaymentCount</th>\n",
       "      <th>CashCount</th>\n",
       "      <th>DraftCount</th>\n",
       "      <th>ACHCount</th>\n",
       "      <th>FeeCount</th>\n",
       "      <th>Credit_DebitCount</th>\n",
       "      <th>Home_Banking</th>\n",
       "      <th>WireCount</th>\n",
       "      <th>DividendCount</th>\n",
       "    </tr>\n",
       "  </thead>\n",
       "  <tbody>\n",
       "    <tr>\n",
       "      <th>count</th>\n",
       "      <td>1620529.000</td>\n",
       "      <td>1620529.000</td>\n",
       "      <td>1620529.000</td>\n",
       "      <td>1620529.000</td>\n",
       "      <td>1620529.000</td>\n",
       "      <td>1620529.000</td>\n",
       "      <td>1620529.000</td>\n",
       "      <td>1620529.000</td>\n",
       "      <td>1620529.000</td>\n",
       "      <td>1620529.000</td>\n",
       "      <td>1620529.000</td>\n",
       "      <td>1620529.000</td>\n",
       "      <td>1620529.000</td>\n",
       "      <td>1620529.000</td>\n",
       "      <td>1620529.000</td>\n",
       "      <td>1620529.000</td>\n",
       "      <td>1620529.000</td>\n",
       "      <td>1620529.000</td>\n",
       "    </tr>\n",
       "    <tr>\n",
       "      <th>mean</th>\n",
       "      <td>49.742</td>\n",
       "      <td>2.524</td>\n",
       "      <td>0.939</td>\n",
       "      <td>1.324</td>\n",
       "      <td>0.177</td>\n",
       "      <td>0.220</td>\n",
       "      <td>0.041</td>\n",
       "      <td>0.070</td>\n",
       "      <td>0.033</td>\n",
       "      <td>0.072</td>\n",
       "      <td>0.017</td>\n",
       "      <td>0.082</td>\n",
       "      <td>0.298</td>\n",
       "      <td>0.049</td>\n",
       "      <td>0.484</td>\n",
       "      <td>0.147</td>\n",
       "      <td>0.000</td>\n",
       "      <td>1.049</td>\n",
       "    </tr>\n",
       "    <tr>\n",
       "      <th>std</th>\n",
       "      <td>20.408</td>\n",
       "      <td>1.321</td>\n",
       "      <td>0.620</td>\n",
       "      <td>0.713</td>\n",
       "      <td>0.446</td>\n",
       "      <td>0.842</td>\n",
       "      <td>0.198</td>\n",
       "      <td>0.256</td>\n",
       "      <td>0.210</td>\n",
       "      <td>0.368</td>\n",
       "      <td>0.141</td>\n",
       "      <td>0.461</td>\n",
       "      <td>0.735</td>\n",
       "      <td>0.254</td>\n",
       "      <td>1.103</td>\n",
       "      <td>0.670</td>\n",
       "      <td>0.020</td>\n",
       "      <td>1.043</td>\n",
       "    </tr>\n",
       "    <tr>\n",
       "      <th>min</th>\n",
       "      <td>0.000</td>\n",
       "      <td>1.000</td>\n",
       "      <td>0.000</td>\n",
       "      <td>0.000</td>\n",
       "      <td>0.000</td>\n",
       "      <td>0.000</td>\n",
       "      <td>0.000</td>\n",
       "      <td>0.000</td>\n",
       "      <td>0.000</td>\n",
       "      <td>0.000</td>\n",
       "      <td>0.000</td>\n",
       "      <td>0.000</td>\n",
       "      <td>0.000</td>\n",
       "      <td>0.000</td>\n",
       "      <td>0.000</td>\n",
       "      <td>0.000</td>\n",
       "      <td>0.000</td>\n",
       "      <td>0.000</td>\n",
       "    </tr>\n",
       "    <tr>\n",
       "      <th>25%</th>\n",
       "      <td>33.000</td>\n",
       "      <td>2.000</td>\n",
       "      <td>1.000</td>\n",
       "      <td>1.000</td>\n",
       "      <td>0.000</td>\n",
       "      <td>0.000</td>\n",
       "      <td>0.000</td>\n",
       "      <td>0.000</td>\n",
       "      <td>0.000</td>\n",
       "      <td>0.000</td>\n",
       "      <td>0.000</td>\n",
       "      <td>0.000</td>\n",
       "      <td>0.000</td>\n",
       "      <td>0.000</td>\n",
       "      <td>0.000</td>\n",
       "      <td>0.000</td>\n",
       "      <td>0.000</td>\n",
       "      <td>1.000</td>\n",
       "    </tr>\n",
       "    <tr>\n",
       "      <th>50%</th>\n",
       "      <td>52.000</td>\n",
       "      <td>2.000</td>\n",
       "      <td>1.000</td>\n",
       "      <td>1.000</td>\n",
       "      <td>0.000</td>\n",
       "      <td>0.000</td>\n",
       "      <td>0.000</td>\n",
       "      <td>0.000</td>\n",
       "      <td>0.000</td>\n",
       "      <td>0.000</td>\n",
       "      <td>0.000</td>\n",
       "      <td>0.000</td>\n",
       "      <td>0.000</td>\n",
       "      <td>0.000</td>\n",
       "      <td>0.000</td>\n",
       "      <td>0.000</td>\n",
       "      <td>0.000</td>\n",
       "      <td>1.000</td>\n",
       "    </tr>\n",
       "    <tr>\n",
       "      <th>75%</th>\n",
       "      <td>66.000</td>\n",
       "      <td>3.000</td>\n",
       "      <td>1.000</td>\n",
       "      <td>1.000</td>\n",
       "      <td>0.000</td>\n",
       "      <td>0.000</td>\n",
       "      <td>0.000</td>\n",
       "      <td>0.000</td>\n",
       "      <td>0.000</td>\n",
       "      <td>0.000</td>\n",
       "      <td>0.000</td>\n",
       "      <td>0.000</td>\n",
       "      <td>0.000</td>\n",
       "      <td>0.000</td>\n",
       "      <td>0.000</td>\n",
       "      <td>0.000</td>\n",
       "      <td>0.000</td>\n",
       "      <td>1.000</td>\n",
       "    </tr>\n",
       "    <tr>\n",
       "      <th>max</th>\n",
       "      <td>111.000</td>\n",
       "      <td>34.000</td>\n",
       "      <td>7.000</td>\n",
       "      <td>17.000</td>\n",
       "      <td>4.000</td>\n",
       "      <td>32.000</td>\n",
       "      <td>2.000</td>\n",
       "      <td>1.000</td>\n",
       "      <td>12.000</td>\n",
       "      <td>59.000</td>\n",
       "      <td>9.000</td>\n",
       "      <td>12.000</td>\n",
       "      <td>43.000</td>\n",
       "      <td>28.000</td>\n",
       "      <td>78.000</td>\n",
       "      <td>74.000</td>\n",
       "      <td>3.000</td>\n",
       "      <td>56.000</td>\n",
       "    </tr>\n",
       "  </tbody>\n",
       "</table>\n",
       "</div>"
      ],
      "text/plain": [
       "              age     n_accts  n_checking_accts  n_savings_accts  \\\n",
       "count 1620529.000 1620529.000       1620529.000      1620529.000   \n",
       "mean       49.742       2.524             0.939            1.324   \n",
       "std        20.408       1.321             0.620            0.713   \n",
       "min         0.000       1.000             0.000            0.000   \n",
       "25%        33.000       2.000             1.000            1.000   \n",
       "50%        52.000       2.000             1.000            1.000   \n",
       "75%        66.000       3.000             1.000            1.000   \n",
       "max       111.000      34.000             7.000           17.000   \n",
       "\n",
       "       n_open_loans  n_open_cds  n_open_club_accts  n_open_credit_cards  \\\n",
       "count   1620529.000 1620529.000        1620529.000          1620529.000   \n",
       "mean          0.177       0.220              0.041                0.070   \n",
       "std           0.446       0.842              0.198                0.256   \n",
       "min           0.000       0.000              0.000                0.000   \n",
       "25%           0.000       0.000              0.000                0.000   \n",
       "50%           0.000       0.000              0.000                0.000   \n",
       "75%           0.000       0.000              0.000                0.000   \n",
       "max           4.000      32.000              2.000                1.000   \n",
       "\n",
       "         ATMCount  BillPaymentCount   CashCount  DraftCount    ACHCount  \\\n",
       "count 1620529.000       1620529.000 1620529.000 1620529.000 1620529.000   \n",
       "mean        0.033             0.072       0.017       0.082       0.298   \n",
       "std         0.210             0.368       0.141       0.461       0.735   \n",
       "min         0.000             0.000       0.000       0.000       0.000   \n",
       "25%         0.000             0.000       0.000       0.000       0.000   \n",
       "50%         0.000             0.000       0.000       0.000       0.000   \n",
       "75%         0.000             0.000       0.000       0.000       0.000   \n",
       "max        12.000            59.000       9.000      12.000      43.000   \n",
       "\n",
       "         FeeCount  Credit_DebitCount  Home_Banking   WireCount  DividendCount  \n",
       "count 1620529.000        1620529.000   1620529.000 1620529.000    1620529.000  \n",
       "mean        0.049              0.484         0.147       0.000          1.049  \n",
       "std         0.254              1.103         0.670       0.020          1.043  \n",
       "min         0.000              0.000         0.000       0.000          0.000  \n",
       "25%         0.000              0.000         0.000       0.000          1.000  \n",
       "50%         0.000              0.000         0.000       0.000          1.000  \n",
       "75%         0.000              0.000         0.000       0.000          1.000  \n",
       "max        28.000             78.000        74.000       3.000         56.000  "
      ]
     },
     "execution_count": 9,
     "metadata": {},
     "output_type": "execute_result"
    }
   ],
   "source": [
    "pd.set_option('display.float_format', lambda x: '%.3f' % x)\n",
    "no_highschool_df.describe()"
   ]
  },
  {
   "cell_type": "code",
   "execution_count": 10,
   "metadata": {},
   "outputs": [
    {
     "data": {
      "text/plain": [
       "Unique_Member_Identifier    110564\n",
       "address_zip                   3860\n",
       "age                            109\n",
       "DividendCount                   46\n",
       "Home_Banking                    40\n",
       "Credit_DebitCount               40\n",
       "ACHCount                        34\n",
       "n_accts                         29\n",
       "n_open_cds                      27\n",
       "BranchCategory                  26\n",
       "BillPaymentCount                24\n",
       "EOM_TRANS_DATE                  19\n",
       "FeeCount                        17\n",
       "n_savings_accts                 15\n",
       "DraftCount                      13\n",
       "ATMCount                        12\n",
       "CashCount                        9\n",
       "n_checking_accts                 8\n",
       "n_open_loans                     5\n",
       "WireCount                        4\n",
       "n_open_club_accts                3\n",
       "n_open_credit_cards              2\n",
       "dtype: int64"
      ]
     },
     "execution_count": 10,
     "metadata": {},
     "output_type": "execute_result"
    }
   ],
   "source": [
    "# Displays the number of unique values for each column\n",
    "no_highschool_df.nunique().sort_values(ascending=False)"
   ]
  },
  {
   "cell_type": "code",
   "execution_count": 11,
   "metadata": {},
   "outputs": [
    {
     "name": "stdout",
     "output_type": "stream",
     "text": [
      "Empty DataFrame\n",
      "Columns: [Unique_Member_Identifier, EOM_TRANS_DATE, age, BranchCategory, address_zip, n_accts, n_checking_accts, n_savings_accts, n_open_loans, n_open_cds, n_open_club_accts, n_open_credit_cards, ATMCount, BillPaymentCount, CashCount, DraftCount, ACHCount, FeeCount, Credit_DebitCount, Home_Banking, WireCount, DividendCount, County]\n",
      "Index: []\n",
      "\n",
      "[0 rows x 23 columns]\n"
     ]
    }
   ],
   "source": [
    "# Mapping dictionary with proper case\n",
    "city_to_county_mapping = {\n",
    "    'Addition Financial Arena': 'Orange',\n",
    "    'Altamonte Springs': 'Seminole',\n",
    "    'Apopka': 'Orange',\n",
    "    'Clermont': 'Lake',\n",
    "    'Downtown Campus': 'Orange',\n",
    "    'East Orlando': 'Orange',\n",
    "    'Eustis': 'Lake',\n",
    "    'Fern Park': 'Seminole',\n",
    "    'Kissimmee': 'Osceola',\n",
    "    'Lake Mary': 'Seminole',\n",
    "    'Lake Nona': 'Orange',\n",
    "    'Leesburg': 'Lake',\n",
    "    'Longwood': 'Seminole',\n",
    "    'Merritt Island': 'Brevard',\n",
    "    'MetroWest': 'Orange',\n",
    "    'Mills': 'Orange',\n",
    "    'Orange City': 'Volusia',\n",
    "    'Oviedo': 'Seminole',\n",
    "    'Pine Hills': 'Orange',\n",
    "    'Poinciana': 'Polk',\n",
    "    'Sanford': 'Seminole',\n",
    "    'Seminole State': 'Seminole',\n",
    "    'South Orlando': 'Orange',\n",
    "    'St. Cloud': 'Osceola',\n",
    "    'The Loop': 'Osceola',\n",
    "    'UCF Campus': 'Orange',\n",
    "    'UCF Commons': 'Orange',\n",
    "    'Winter Garden': 'Orange'\n",
    "}\n",
    "\n",
    "county_df = no_highschool_df.copy()\n",
    "\n",
    "# Add a 'County' column based on the 'BranchCategory' column\n",
    "county_df['County'] = county_df['BranchCategory'].map(city_to_county_mapping)\n",
    "\n",
    "# Identify any rows where the county couldn't be mapped\n",
    "unmapped_rows = county_df[county_df['County'].isnull()]\n",
    "print(unmapped_rows)"
   ]
  },
  {
   "cell_type": "code",
   "execution_count": 12,
   "metadata": {},
   "outputs": [
    {
     "data": {
      "text/html": [
       "<div>\n",
       "<style scoped>\n",
       "    .dataframe tbody tr th:only-of-type {\n",
       "        vertical-align: middle;\n",
       "    }\n",
       "\n",
       "    .dataframe tbody tr th {\n",
       "        vertical-align: top;\n",
       "    }\n",
       "\n",
       "    .dataframe thead th {\n",
       "        text-align: right;\n",
       "    }\n",
       "</style>\n",
       "<table border=\"1\" class=\"dataframe\">\n",
       "  <thead>\n",
       "    <tr style=\"text-align: right;\">\n",
       "      <th></th>\n",
       "      <th>Unique_Member_Identifier</th>\n",
       "      <th>EOM_TRANS_DATE</th>\n",
       "      <th>age</th>\n",
       "      <th>BranchCategory</th>\n",
       "      <th>address_zip</th>\n",
       "      <th>n_accts</th>\n",
       "      <th>n_checking_accts</th>\n",
       "      <th>n_savings_accts</th>\n",
       "      <th>n_open_loans</th>\n",
       "      <th>n_open_cds</th>\n",
       "      <th>...</th>\n",
       "      <th>BillPaymentCount</th>\n",
       "      <th>CashCount</th>\n",
       "      <th>DraftCount</th>\n",
       "      <th>ACHCount</th>\n",
       "      <th>FeeCount</th>\n",
       "      <th>Credit_DebitCount</th>\n",
       "      <th>Home_Banking</th>\n",
       "      <th>WireCount</th>\n",
       "      <th>DividendCount</th>\n",
       "      <th>County</th>\n",
       "    </tr>\n",
       "  </thead>\n",
       "  <tbody>\n",
       "    <tr>\n",
       "      <th>0</th>\n",
       "      <td>360faa7e8e345d2725f92460ca39696ad885b876805328...</td>\n",
       "      <td>2022-01-31</td>\n",
       "      <td>85</td>\n",
       "      <td>Winter Garden</td>\n",
       "      <td>34760</td>\n",
       "      <td>1</td>\n",
       "      <td>0</td>\n",
       "      <td>1</td>\n",
       "      <td>0</td>\n",
       "      <td>0</td>\n",
       "      <td>...</td>\n",
       "      <td>0</td>\n",
       "      <td>0</td>\n",
       "      <td>0</td>\n",
       "      <td>0</td>\n",
       "      <td>0</td>\n",
       "      <td>0</td>\n",
       "      <td>0</td>\n",
       "      <td>0</td>\n",
       "      <td>1</td>\n",
       "      <td>Orange</td>\n",
       "    </tr>\n",
       "    <tr>\n",
       "      <th>1</th>\n",
       "      <td>4ef271022b929dd2ea56f3c0e9a7efae346a07e40f6ea1...</td>\n",
       "      <td>2022-01-31</td>\n",
       "      <td>59</td>\n",
       "      <td>Lake Nona</td>\n",
       "      <td>34771</td>\n",
       "      <td>2</td>\n",
       "      <td>1</td>\n",
       "      <td>1</td>\n",
       "      <td>0</td>\n",
       "      <td>0</td>\n",
       "      <td>...</td>\n",
       "      <td>0</td>\n",
       "      <td>0</td>\n",
       "      <td>0</td>\n",
       "      <td>0</td>\n",
       "      <td>0</td>\n",
       "      <td>0</td>\n",
       "      <td>0</td>\n",
       "      <td>0</td>\n",
       "      <td>1</td>\n",
       "      <td>Orange</td>\n",
       "    </tr>\n",
       "    <tr>\n",
       "      <th>2</th>\n",
       "      <td>f868c8fb32d526c00024e408fdd712e881de936372bef8...</td>\n",
       "      <td>2022-01-31</td>\n",
       "      <td>38</td>\n",
       "      <td>MetroWest</td>\n",
       "      <td>32765</td>\n",
       "      <td>2</td>\n",
       "      <td>0</td>\n",
       "      <td>1</td>\n",
       "      <td>0</td>\n",
       "      <td>0</td>\n",
       "      <td>...</td>\n",
       "      <td>0</td>\n",
       "      <td>0</td>\n",
       "      <td>0</td>\n",
       "      <td>0</td>\n",
       "      <td>0</td>\n",
       "      <td>0</td>\n",
       "      <td>0</td>\n",
       "      <td>0</td>\n",
       "      <td>1</td>\n",
       "      <td>Orange</td>\n",
       "    </tr>\n",
       "    <tr>\n",
       "      <th>3</th>\n",
       "      <td>4fe6ec028a8a5234bb02fbe97488fb9431109a292ee8bc...</td>\n",
       "      <td>2022-01-31</td>\n",
       "      <td>67</td>\n",
       "      <td>Kissimmee</td>\n",
       "      <td>34744</td>\n",
       "      <td>1</td>\n",
       "      <td>0</td>\n",
       "      <td>1</td>\n",
       "      <td>1</td>\n",
       "      <td>0</td>\n",
       "      <td>...</td>\n",
       "      <td>0</td>\n",
       "      <td>0</td>\n",
       "      <td>0</td>\n",
       "      <td>0</td>\n",
       "      <td>0</td>\n",
       "      <td>0</td>\n",
       "      <td>0</td>\n",
       "      <td>0</td>\n",
       "      <td>1</td>\n",
       "      <td>Osceola</td>\n",
       "    </tr>\n",
       "    <tr>\n",
       "      <th>4</th>\n",
       "      <td>f46df5083939ce116be51669af3315c474655c936204c2...</td>\n",
       "      <td>2022-01-31</td>\n",
       "      <td>47</td>\n",
       "      <td>East Orlando</td>\n",
       "      <td>32825</td>\n",
       "      <td>3</td>\n",
       "      <td>2</td>\n",
       "      <td>1</td>\n",
       "      <td>0</td>\n",
       "      <td>0</td>\n",
       "      <td>...</td>\n",
       "      <td>0</td>\n",
       "      <td>0</td>\n",
       "      <td>0</td>\n",
       "      <td>0</td>\n",
       "      <td>1</td>\n",
       "      <td>2</td>\n",
       "      <td>2</td>\n",
       "      <td>0</td>\n",
       "      <td>1</td>\n",
       "      <td>Orange</td>\n",
       "    </tr>\n",
       "  </tbody>\n",
       "</table>\n",
       "<p>5 rows × 23 columns</p>\n",
       "</div>"
      ],
      "text/plain": [
       "                            Unique_Member_Identifier EOM_TRANS_DATE  age  \\\n",
       "0  360faa7e8e345d2725f92460ca39696ad885b876805328...     2022-01-31   85   \n",
       "1  4ef271022b929dd2ea56f3c0e9a7efae346a07e40f6ea1...     2022-01-31   59   \n",
       "2  f868c8fb32d526c00024e408fdd712e881de936372bef8...     2022-01-31   38   \n",
       "3  4fe6ec028a8a5234bb02fbe97488fb9431109a292ee8bc...     2022-01-31   67   \n",
       "4  f46df5083939ce116be51669af3315c474655c936204c2...     2022-01-31   47   \n",
       "\n",
       "  BranchCategory address_zip  n_accts  n_checking_accts  n_savings_accts  \\\n",
       "0  Winter Garden       34760        1                 0                1   \n",
       "1      Lake Nona       34771        2                 1                1   \n",
       "2      MetroWest       32765        2                 0                1   \n",
       "3      Kissimmee       34744        1                 0                1   \n",
       "4   East Orlando       32825        3                 2                1   \n",
       "\n",
       "   n_open_loans  n_open_cds  ...  BillPaymentCount  CashCount  DraftCount  \\\n",
       "0             0           0  ...                 0          0           0   \n",
       "1             0           0  ...                 0          0           0   \n",
       "2             0           0  ...                 0          0           0   \n",
       "3             1           0  ...                 0          0           0   \n",
       "4             0           0  ...                 0          0           0   \n",
       "\n",
       "   ACHCount  FeeCount  Credit_DebitCount  Home_Banking  WireCount  \\\n",
       "0         0         0                  0             0          0   \n",
       "1         0         0                  0             0          0   \n",
       "2         0         0                  0             0          0   \n",
       "3         0         0                  0             0          0   \n",
       "4         0         1                  2             2          0   \n",
       "\n",
       "   DividendCount   County  \n",
       "0              1   Orange  \n",
       "1              1   Orange  \n",
       "2              1   Orange  \n",
       "3              1  Osceola  \n",
       "4              1   Orange  \n",
       "\n",
       "[5 rows x 23 columns]"
      ]
     },
     "execution_count": 12,
     "metadata": {},
     "output_type": "execute_result"
    }
   ],
   "source": [
    "county_df.head()"
   ]
  },
  {
   "cell_type": "markdown",
   "metadata": {},
   "source": [
    "Attempting to cluster the different counties and view what pattern emerges."
   ]
  },
  {
   "cell_type": "code",
   "execution_count": 13,
   "metadata": {},
   "outputs": [
    {
     "data": {
      "text/html": [
       "<div>\n",
       "<style scoped>\n",
       "    .dataframe tbody tr th:only-of-type {\n",
       "        vertical-align: middle;\n",
       "    }\n",
       "\n",
       "    .dataframe tbody tr th {\n",
       "        vertical-align: top;\n",
       "    }\n",
       "\n",
       "    .dataframe thead th {\n",
       "        text-align: right;\n",
       "    }\n",
       "</style>\n",
       "<table border=\"1\" class=\"dataframe\">\n",
       "  <thead>\n",
       "    <tr style=\"text-align: right;\">\n",
       "      <th></th>\n",
       "      <th>age</th>\n",
       "      <th>n_accts</th>\n",
       "      <th>n_checking_accts</th>\n",
       "      <th>n_savings_accts</th>\n",
       "      <th>n_open_loans</th>\n",
       "      <th>n_open_cds</th>\n",
       "      <th>n_open_club_accts</th>\n",
       "      <th>n_open_credit_cards</th>\n",
       "      <th>ATMCount</th>\n",
       "      <th>BillPaymentCount</th>\n",
       "      <th>CashCount</th>\n",
       "      <th>DraftCount</th>\n",
       "      <th>ACHCount</th>\n",
       "      <th>FeeCount</th>\n",
       "      <th>Credit_DebitCount</th>\n",
       "      <th>Home_Banking</th>\n",
       "      <th>WireCount</th>\n",
       "      <th>DividendCount</th>\n",
       "      <th>County</th>\n",
       "    </tr>\n",
       "  </thead>\n",
       "  <tbody>\n",
       "    <tr>\n",
       "      <th>0</th>\n",
       "      <td>85</td>\n",
       "      <td>1</td>\n",
       "      <td>0</td>\n",
       "      <td>1</td>\n",
       "      <td>0</td>\n",
       "      <td>0</td>\n",
       "      <td>0</td>\n",
       "      <td>0</td>\n",
       "      <td>0</td>\n",
       "      <td>0</td>\n",
       "      <td>0</td>\n",
       "      <td>0</td>\n",
       "      <td>0</td>\n",
       "      <td>0</td>\n",
       "      <td>0</td>\n",
       "      <td>0</td>\n",
       "      <td>0</td>\n",
       "      <td>1</td>\n",
       "      <td>Orange</td>\n",
       "    </tr>\n",
       "    <tr>\n",
       "      <th>1</th>\n",
       "      <td>59</td>\n",
       "      <td>2</td>\n",
       "      <td>1</td>\n",
       "      <td>1</td>\n",
       "      <td>0</td>\n",
       "      <td>0</td>\n",
       "      <td>0</td>\n",
       "      <td>0</td>\n",
       "      <td>0</td>\n",
       "      <td>0</td>\n",
       "      <td>0</td>\n",
       "      <td>0</td>\n",
       "      <td>0</td>\n",
       "      <td>0</td>\n",
       "      <td>0</td>\n",
       "      <td>0</td>\n",
       "      <td>0</td>\n",
       "      <td>1</td>\n",
       "      <td>Orange</td>\n",
       "    </tr>\n",
       "    <tr>\n",
       "      <th>2</th>\n",
       "      <td>38</td>\n",
       "      <td>2</td>\n",
       "      <td>0</td>\n",
       "      <td>1</td>\n",
       "      <td>0</td>\n",
       "      <td>0</td>\n",
       "      <td>1</td>\n",
       "      <td>0</td>\n",
       "      <td>0</td>\n",
       "      <td>0</td>\n",
       "      <td>0</td>\n",
       "      <td>0</td>\n",
       "      <td>0</td>\n",
       "      <td>0</td>\n",
       "      <td>0</td>\n",
       "      <td>0</td>\n",
       "      <td>0</td>\n",
       "      <td>1</td>\n",
       "      <td>Orange</td>\n",
       "    </tr>\n",
       "    <tr>\n",
       "      <th>3</th>\n",
       "      <td>67</td>\n",
       "      <td>1</td>\n",
       "      <td>0</td>\n",
       "      <td>1</td>\n",
       "      <td>1</td>\n",
       "      <td>0</td>\n",
       "      <td>0</td>\n",
       "      <td>0</td>\n",
       "      <td>0</td>\n",
       "      <td>0</td>\n",
       "      <td>0</td>\n",
       "      <td>0</td>\n",
       "      <td>0</td>\n",
       "      <td>0</td>\n",
       "      <td>0</td>\n",
       "      <td>0</td>\n",
       "      <td>0</td>\n",
       "      <td>1</td>\n",
       "      <td>Osceola</td>\n",
       "    </tr>\n",
       "    <tr>\n",
       "      <th>4</th>\n",
       "      <td>47</td>\n",
       "      <td>3</td>\n",
       "      <td>2</td>\n",
       "      <td>1</td>\n",
       "      <td>0</td>\n",
       "      <td>0</td>\n",
       "      <td>0</td>\n",
       "      <td>0</td>\n",
       "      <td>0</td>\n",
       "      <td>0</td>\n",
       "      <td>0</td>\n",
       "      <td>0</td>\n",
       "      <td>0</td>\n",
       "      <td>1</td>\n",
       "      <td>2</td>\n",
       "      <td>2</td>\n",
       "      <td>0</td>\n",
       "      <td>1</td>\n",
       "      <td>Orange</td>\n",
       "    </tr>\n",
       "  </tbody>\n",
       "</table>\n",
       "</div>"
      ],
      "text/plain": [
       "   age  n_accts  n_checking_accts  n_savings_accts  n_open_loans  n_open_cds  \\\n",
       "0   85        1                 0                1             0           0   \n",
       "1   59        2                 1                1             0           0   \n",
       "2   38        2                 0                1             0           0   \n",
       "3   67        1                 0                1             1           0   \n",
       "4   47        3                 2                1             0           0   \n",
       "\n",
       "   n_open_club_accts  n_open_credit_cards  ATMCount  BillPaymentCount  \\\n",
       "0                  0                    0         0                 0   \n",
       "1                  0                    0         0                 0   \n",
       "2                  1                    0         0                 0   \n",
       "3                  0                    0         0                 0   \n",
       "4                  0                    0         0                 0   \n",
       "\n",
       "   CashCount  DraftCount  ACHCount  FeeCount  Credit_DebitCount  Home_Banking  \\\n",
       "0          0           0         0         0                  0             0   \n",
       "1          0           0         0         0                  0             0   \n",
       "2          0           0         0         0                  0             0   \n",
       "3          0           0         0         0                  0             0   \n",
       "4          0           0         0         1                  2             2   \n",
       "\n",
       "   WireCount  DividendCount   County  \n",
       "0          0              1   Orange  \n",
       "1          0              1   Orange  \n",
       "2          0              1   Orange  \n",
       "3          0              1  Osceola  \n",
       "4          0              1   Orange  "
      ]
     },
     "execution_count": 13,
     "metadata": {},
     "output_type": "execute_result"
    }
   ],
   "source": [
    "# Drop unnecessary columns\n",
    "data_for_clustering = county_df.drop(['Unique_Member_Identifier', 'EOM_TRANS_DATE', 'BranchCategory', 'address_zip'], axis=1)\n",
    "data_for_clustering.head()"
   ]
  },
  {
   "cell_type": "markdown",
   "metadata": {},
   "source": [
    "### Multicollinearity"
   ]
  },
  {
   "cell_type": "code",
   "execution_count": 23,
   "metadata": {},
   "outputs": [
    {
     "ename": "KeyError",
     "evalue": "\"['County'] not found in axis\"",
     "output_type": "error",
     "traceback": [
      "\u001b[1;31m---------------------------------------------------------------------------\u001b[0m",
      "\u001b[1;31mKeyError\u001b[0m                                  Traceback (most recent call last)",
      "\u001b[1;32mc:\\Projects\\Addition-Financial-Competition-23-24\\member_county_cluster.ipynb Cell 18\u001b[0m line \u001b[0;36m9\n\u001b[0;32m      <a href='vscode-notebook-cell:/c%3A/Projects/Addition-Financial-Competition-23-24/member_county_cluster.ipynb#X45sZmlsZQ%3D%3D?line=5'>6</a>\u001b[0m member_level_df_copy \u001b[39m=\u001b[39m data_for_clustering\u001b[39m.\u001b[39mcopy()\n\u001b[0;32m      <a href='vscode-notebook-cell:/c%3A/Projects/Addition-Financial-Competition-23-24/member_county_cluster.ipynb#X45sZmlsZQ%3D%3D?line=7'>8</a>\u001b[0m \u001b[39m# Dropping non-numeric columns for VIF calculation\u001b[39;00m\n\u001b[1;32m----> <a href='vscode-notebook-cell:/c%3A/Projects/Addition-Financial-Competition-23-24/member_county_cluster.ipynb#X45sZmlsZQ%3D%3D?line=8'>9</a>\u001b[0m features \u001b[39m=\u001b[39m member_level_df_copy\u001b[39m.\u001b[39;49mdrop(columns\u001b[39m=\u001b[39;49m[\u001b[39m'\u001b[39;49m\u001b[39mCounty\u001b[39;49m\u001b[39m'\u001b[39;49m])\n\u001b[0;32m     <a href='vscode-notebook-cell:/c%3A/Projects/Addition-Financial-Competition-23-24/member_county_cluster.ipynb#X45sZmlsZQ%3D%3D?line=10'>11</a>\u001b[0m vif_data \u001b[39m=\u001b[39m pd\u001b[39m.\u001b[39mDataFrame()\n\u001b[0;32m     <a href='vscode-notebook-cell:/c%3A/Projects/Addition-Financial-Competition-23-24/member_county_cluster.ipynb#X45sZmlsZQ%3D%3D?line=11'>12</a>\u001b[0m vif_data[\u001b[39m\"\u001b[39m\u001b[39mVariable\u001b[39m\u001b[39m\"\u001b[39m] \u001b[39m=\u001b[39m features\u001b[39m.\u001b[39mcolumns\n",
      "File \u001b[1;32mc:\\Users\\perez\\anaconda3\\lib\\site-packages\\pandas\\core\\frame.py:5347\u001b[0m, in \u001b[0;36mDataFrame.drop\u001b[1;34m(self, labels, axis, index, columns, level, inplace, errors)\u001b[0m\n\u001b[0;32m   5199\u001b[0m \u001b[39mdef\u001b[39;00m \u001b[39mdrop\u001b[39m(\n\u001b[0;32m   5200\u001b[0m     \u001b[39mself\u001b[39m,\n\u001b[0;32m   5201\u001b[0m     labels: IndexLabel \u001b[39m|\u001b[39m \u001b[39mNone\u001b[39;00m \u001b[39m=\u001b[39m \u001b[39mNone\u001b[39;00m,\n\u001b[1;32m   (...)\u001b[0m\n\u001b[0;32m   5208\u001b[0m     errors: IgnoreRaise \u001b[39m=\u001b[39m \u001b[39m\"\u001b[39m\u001b[39mraise\u001b[39m\u001b[39m\"\u001b[39m,\n\u001b[0;32m   5209\u001b[0m ) \u001b[39m-\u001b[39m\u001b[39m>\u001b[39m DataFrame \u001b[39m|\u001b[39m \u001b[39mNone\u001b[39;00m:\n\u001b[0;32m   5210\u001b[0m \u001b[39m    \u001b[39m\u001b[39m\"\"\"\u001b[39;00m\n\u001b[0;32m   5211\u001b[0m \u001b[39m    Drop specified labels from rows or columns.\u001b[39;00m\n\u001b[0;32m   5212\u001b[0m \n\u001b[1;32m   (...)\u001b[0m\n\u001b[0;32m   5345\u001b[0m \u001b[39m            weight  1.0     0.8\u001b[39;00m\n\u001b[0;32m   5346\u001b[0m \u001b[39m    \"\"\"\u001b[39;00m\n\u001b[1;32m-> 5347\u001b[0m     \u001b[39mreturn\u001b[39;00m \u001b[39msuper\u001b[39;49m()\u001b[39m.\u001b[39;49mdrop(\n\u001b[0;32m   5348\u001b[0m         labels\u001b[39m=\u001b[39;49mlabels,\n\u001b[0;32m   5349\u001b[0m         axis\u001b[39m=\u001b[39;49maxis,\n\u001b[0;32m   5350\u001b[0m         index\u001b[39m=\u001b[39;49mindex,\n\u001b[0;32m   5351\u001b[0m         columns\u001b[39m=\u001b[39;49mcolumns,\n\u001b[0;32m   5352\u001b[0m         level\u001b[39m=\u001b[39;49mlevel,\n\u001b[0;32m   5353\u001b[0m         inplace\u001b[39m=\u001b[39;49minplace,\n\u001b[0;32m   5354\u001b[0m         errors\u001b[39m=\u001b[39;49merrors,\n\u001b[0;32m   5355\u001b[0m     )\n",
      "File \u001b[1;32mc:\\Users\\perez\\anaconda3\\lib\\site-packages\\pandas\\core\\generic.py:4711\u001b[0m, in \u001b[0;36mNDFrame.drop\u001b[1;34m(self, labels, axis, index, columns, level, inplace, errors)\u001b[0m\n\u001b[0;32m   4709\u001b[0m \u001b[39mfor\u001b[39;00m axis, labels \u001b[39min\u001b[39;00m axes\u001b[39m.\u001b[39mitems():\n\u001b[0;32m   4710\u001b[0m     \u001b[39mif\u001b[39;00m labels \u001b[39mis\u001b[39;00m \u001b[39mnot\u001b[39;00m \u001b[39mNone\u001b[39;00m:\n\u001b[1;32m-> 4711\u001b[0m         obj \u001b[39m=\u001b[39m obj\u001b[39m.\u001b[39;49m_drop_axis(labels, axis, level\u001b[39m=\u001b[39;49mlevel, errors\u001b[39m=\u001b[39;49merrors)\n\u001b[0;32m   4713\u001b[0m \u001b[39mif\u001b[39;00m inplace:\n\u001b[0;32m   4714\u001b[0m     \u001b[39mself\u001b[39m\u001b[39m.\u001b[39m_update_inplace(obj)\n",
      "File \u001b[1;32mc:\\Users\\perez\\anaconda3\\lib\\site-packages\\pandas\\core\\generic.py:4753\u001b[0m, in \u001b[0;36mNDFrame._drop_axis\u001b[1;34m(self, labels, axis, level, errors, only_slice)\u001b[0m\n\u001b[0;32m   4751\u001b[0m         new_axis \u001b[39m=\u001b[39m axis\u001b[39m.\u001b[39mdrop(labels, level\u001b[39m=\u001b[39mlevel, errors\u001b[39m=\u001b[39merrors)\n\u001b[0;32m   4752\u001b[0m     \u001b[39melse\u001b[39;00m:\n\u001b[1;32m-> 4753\u001b[0m         new_axis \u001b[39m=\u001b[39m axis\u001b[39m.\u001b[39;49mdrop(labels, errors\u001b[39m=\u001b[39;49merrors)\n\u001b[0;32m   4754\u001b[0m     indexer \u001b[39m=\u001b[39m axis\u001b[39m.\u001b[39mget_indexer(new_axis)\n\u001b[0;32m   4756\u001b[0m \u001b[39m# Case for non-unique axis\u001b[39;00m\n\u001b[0;32m   4757\u001b[0m \u001b[39melse\u001b[39;00m:\n",
      "File \u001b[1;32mc:\\Users\\perez\\anaconda3\\lib\\site-packages\\pandas\\core\\indexes\\base.py:6992\u001b[0m, in \u001b[0;36mIndex.drop\u001b[1;34m(self, labels, errors)\u001b[0m\n\u001b[0;32m   6990\u001b[0m \u001b[39mif\u001b[39;00m mask\u001b[39m.\u001b[39many():\n\u001b[0;32m   6991\u001b[0m     \u001b[39mif\u001b[39;00m errors \u001b[39m!=\u001b[39m \u001b[39m\"\u001b[39m\u001b[39mignore\u001b[39m\u001b[39m\"\u001b[39m:\n\u001b[1;32m-> 6992\u001b[0m         \u001b[39mraise\u001b[39;00m \u001b[39mKeyError\u001b[39;00m(\u001b[39mf\u001b[39m\u001b[39m\"\u001b[39m\u001b[39m{\u001b[39;00mlabels[mask]\u001b[39m.\u001b[39mtolist()\u001b[39m}\u001b[39;00m\u001b[39m not found in axis\u001b[39m\u001b[39m\"\u001b[39m)\n\u001b[0;32m   6993\u001b[0m     indexer \u001b[39m=\u001b[39m indexer[\u001b[39m~\u001b[39mmask]\n\u001b[0;32m   6994\u001b[0m \u001b[39mreturn\u001b[39;00m \u001b[39mself\u001b[39m\u001b[39m.\u001b[39mdelete(indexer)\n",
      "\u001b[1;31mKeyError\u001b[0m: \"['County'] not found in axis\""
     ]
    }
   ],
   "source": [
    "import statsmodels.api as sm\n",
    "from statsmodels.stats.outliers_influence import variance_inflation_factor\n",
    "import matplotlib.pyplot as plt\n",
    "\n",
    "# Creating a copy of branch_level_data for VIF calculation\n",
    "member_level_df_copy = data_for_clustering.copy()\n",
    "\n",
    "# Dropping non-numeric columns for VIF calculation\n",
    "features = member_level_df_copy.drop(columns=['County'])\n",
    "\n",
    "vif_data = pd.DataFrame()\n",
    "vif_data[\"Variable\"] = features.columns\n",
    "vif_data[\"VIF\"] = [variance_inflation_factor(features.values, i) for i in range(features.shape[1])]\n",
    "print(vif_data)\n",
    "\n",
    "# Dropping a column from the copy for regression analysis\n",
    "X = features.drop(columns=['ATM'])\n",
    "y = member_level_df_copy['ATM']\n",
    "X = sm.add_constant(X)  # Adding a constant for the intercept\n",
    "\n",
    "model = sm.OLS(y, X).fit()\n",
    "predictions = model.predict(X)\n",
    "residuals = y - predictions\n",
    "\n",
    "# Plotting Residuals vs Predicted Values\n",
    "plt.scatter(predictions, residuals)\n",
    "plt.xlabel('Predicted values')\n",
    "plt.ylabel('Residuals')\n",
    "plt.title('Residuals vs Predicted Values')\n",
    "plt.axhline(y=0, color='r', linestyle='-')  # Adding a horizontal line at y=0 for reference\n",
    "plt.show()\n"
   ]
  },
  {
   "cell_type": "code",
   "execution_count": 14,
   "metadata": {},
   "outputs": [
    {
     "data": {
      "text/html": [
       "<div>\n",
       "<style scoped>\n",
       "    .dataframe tbody tr th:only-of-type {\n",
       "        vertical-align: middle;\n",
       "    }\n",
       "\n",
       "    .dataframe tbody tr th {\n",
       "        vertical-align: top;\n",
       "    }\n",
       "\n",
       "    .dataframe thead th {\n",
       "        text-align: right;\n",
       "    }\n",
       "</style>\n",
       "<table border=\"1\" class=\"dataframe\">\n",
       "  <thead>\n",
       "    <tr style=\"text-align: right;\">\n",
       "      <th></th>\n",
       "      <th>age</th>\n",
       "      <th>n_accts</th>\n",
       "      <th>n_checking_accts</th>\n",
       "      <th>n_savings_accts</th>\n",
       "      <th>n_open_loans</th>\n",
       "      <th>n_open_cds</th>\n",
       "      <th>n_open_club_accts</th>\n",
       "      <th>n_open_credit_cards</th>\n",
       "      <th>ATMCount</th>\n",
       "      <th>BillPaymentCount</th>\n",
       "      <th>CashCount</th>\n",
       "      <th>DraftCount</th>\n",
       "      <th>ACHCount</th>\n",
       "      <th>FeeCount</th>\n",
       "      <th>Credit_DebitCount</th>\n",
       "      <th>Home_Banking</th>\n",
       "      <th>WireCount</th>\n",
       "      <th>DividendCount</th>\n",
       "    </tr>\n",
       "    <tr>\n",
       "      <th>County</th>\n",
       "      <th></th>\n",
       "      <th></th>\n",
       "      <th></th>\n",
       "      <th></th>\n",
       "      <th></th>\n",
       "      <th></th>\n",
       "      <th></th>\n",
       "      <th></th>\n",
       "      <th></th>\n",
       "      <th></th>\n",
       "      <th></th>\n",
       "      <th></th>\n",
       "      <th></th>\n",
       "      <th></th>\n",
       "      <th></th>\n",
       "      <th></th>\n",
       "      <th></th>\n",
       "      <th></th>\n",
       "    </tr>\n",
       "  </thead>\n",
       "  <tbody>\n",
       "    <tr>\n",
       "      <th>Brevard</th>\n",
       "      <td>61.515</td>\n",
       "      <td>2.497</td>\n",
       "      <td>0.789</td>\n",
       "      <td>1.265</td>\n",
       "      <td>0.134</td>\n",
       "      <td>0.425</td>\n",
       "      <td>0.018</td>\n",
       "      <td>0.050</td>\n",
       "      <td>0.022</td>\n",
       "      <td>0.055</td>\n",
       "      <td>0.010</td>\n",
       "      <td>0.076</td>\n",
       "      <td>0.233</td>\n",
       "      <td>0.048</td>\n",
       "      <td>0.313</td>\n",
       "      <td>0.105</td>\n",
       "      <td>0.001</td>\n",
       "      <td>1.106</td>\n",
       "    </tr>\n",
       "    <tr>\n",
       "      <th>Lake</th>\n",
       "      <td>51.769</td>\n",
       "      <td>2.633</td>\n",
       "      <td>0.984</td>\n",
       "      <td>1.340</td>\n",
       "      <td>0.197</td>\n",
       "      <td>0.291</td>\n",
       "      <td>0.017</td>\n",
       "      <td>0.090</td>\n",
       "      <td>0.031</td>\n",
       "      <td>0.077</td>\n",
       "      <td>0.016</td>\n",
       "      <td>0.091</td>\n",
       "      <td>0.304</td>\n",
       "      <td>0.047</td>\n",
       "      <td>0.500</td>\n",
       "      <td>0.145</td>\n",
       "      <td>0.000</td>\n",
       "      <td>1.079</td>\n",
       "    </tr>\n",
       "    <tr>\n",
       "      <th>Orange</th>\n",
       "      <td>49.222</td>\n",
       "      <td>2.541</td>\n",
       "      <td>0.937</td>\n",
       "      <td>1.326</td>\n",
       "      <td>0.164</td>\n",
       "      <td>0.220</td>\n",
       "      <td>0.058</td>\n",
       "      <td>0.067</td>\n",
       "      <td>0.033</td>\n",
       "      <td>0.067</td>\n",
       "      <td>0.017</td>\n",
       "      <td>0.079</td>\n",
       "      <td>0.289</td>\n",
       "      <td>0.049</td>\n",
       "      <td>0.468</td>\n",
       "      <td>0.142</td>\n",
       "      <td>0.000</td>\n",
       "      <td>1.074</td>\n",
       "    </tr>\n",
       "    <tr>\n",
       "      <th>Osceola</th>\n",
       "      <td>48.764</td>\n",
       "      <td>2.454</td>\n",
       "      <td>0.923</td>\n",
       "      <td>1.316</td>\n",
       "      <td>0.195</td>\n",
       "      <td>0.192</td>\n",
       "      <td>0.022</td>\n",
       "      <td>0.067</td>\n",
       "      <td>0.032</td>\n",
       "      <td>0.073</td>\n",
       "      <td>0.016</td>\n",
       "      <td>0.079</td>\n",
       "      <td>0.305</td>\n",
       "      <td>0.050</td>\n",
       "      <td>0.526</td>\n",
       "      <td>0.156</td>\n",
       "      <td>0.000</td>\n",
       "      <td>0.996</td>\n",
       "    </tr>\n",
       "    <tr>\n",
       "      <th>Polk</th>\n",
       "      <td>48.762</td>\n",
       "      <td>2.292</td>\n",
       "      <td>0.856</td>\n",
       "      <td>1.225</td>\n",
       "      <td>0.211</td>\n",
       "      <td>0.177</td>\n",
       "      <td>0.035</td>\n",
       "      <td>0.047</td>\n",
       "      <td>0.037</td>\n",
       "      <td>0.064</td>\n",
       "      <td>0.021</td>\n",
       "      <td>0.083</td>\n",
       "      <td>0.241</td>\n",
       "      <td>0.068</td>\n",
       "      <td>0.486</td>\n",
       "      <td>0.166</td>\n",
       "      <td>0.000</td>\n",
       "      <td>0.899</td>\n",
       "    </tr>\n",
       "  </tbody>\n",
       "</table>\n",
       "</div>"
      ],
      "text/plain": [
       "           age  n_accts  n_checking_accts  n_savings_accts  n_open_loans  \\\n",
       "County                                                                     \n",
       "Brevard 61.515    2.497             0.789            1.265         0.134   \n",
       "Lake    51.769    2.633             0.984            1.340         0.197   \n",
       "Orange  49.222    2.541             0.937            1.326         0.164   \n",
       "Osceola 48.764    2.454             0.923            1.316         0.195   \n",
       "Polk    48.762    2.292             0.856            1.225         0.211   \n",
       "\n",
       "         n_open_cds  n_open_club_accts  n_open_credit_cards  ATMCount  \\\n",
       "County                                                                  \n",
       "Brevard       0.425              0.018                0.050     0.022   \n",
       "Lake          0.291              0.017                0.090     0.031   \n",
       "Orange        0.220              0.058                0.067     0.033   \n",
       "Osceola       0.192              0.022                0.067     0.032   \n",
       "Polk          0.177              0.035                0.047     0.037   \n",
       "\n",
       "         BillPaymentCount  CashCount  DraftCount  ACHCount  FeeCount  \\\n",
       "County                                                                 \n",
       "Brevard             0.055      0.010       0.076     0.233     0.048   \n",
       "Lake                0.077      0.016       0.091     0.304     0.047   \n",
       "Orange              0.067      0.017       0.079     0.289     0.049   \n",
       "Osceola             0.073      0.016       0.079     0.305     0.050   \n",
       "Polk                0.064      0.021       0.083     0.241     0.068   \n",
       "\n",
       "         Credit_DebitCount  Home_Banking  WireCount  DividendCount  \n",
       "County                                                              \n",
       "Brevard              0.313         0.105      0.001          1.106  \n",
       "Lake                 0.500         0.145      0.000          1.079  \n",
       "Orange               0.468         0.142      0.000          1.074  \n",
       "Osceola              0.526         0.156      0.000          0.996  \n",
       "Polk                 0.486         0.166      0.000          0.899  "
      ]
     },
     "execution_count": 14,
     "metadata": {},
     "output_type": "execute_result"
    }
   ],
   "source": [
    "# Group by county and average the values\n",
    "data_for_clustering = data_for_clustering.groupby('County').mean()\n",
    "data_for_clustering.head()"
   ]
  },
  {
   "cell_type": "code",
   "execution_count": 19,
   "metadata": {},
   "outputs": [
    {
     "data": {
      "text/plain": [
       "<seaborn.axisgrid.PairGrid at 0x273201edcd0>"
      ]
     },
     "execution_count": 19,
     "metadata": {},
     "output_type": "execute_result"
    },
    {
     "data": {
      "image/png": "[encoded data removed]",
      "text/plain": [
       "<Figure size 1250x1250 with 30 Axes>"
      ]
     },
     "metadata": {},
     "output_type": "display_data"
    }
   ],
   "source": [
    "import seaborn as sns\n",
    "\n",
    "# Plot the data\n",
    "sns.pairplot(data_for_clustering.iloc[:, 0:5])"
   ]
  },
  {
   "cell_type": "code",
   "execution_count": 16,
   "metadata": {},
   "outputs": [
    {
     "data": {
      "text/html": [
       "<div>\n",
       "<style scoped>\n",
       "    .dataframe tbody tr th:only-of-type {\n",
       "        vertical-align: middle;\n",
       "    }\n",
       "\n",
       "    .dataframe tbody tr th {\n",
       "        vertical-align: top;\n",
       "    }\n",
       "\n",
       "    .dataframe thead th {\n",
       "        text-align: right;\n",
       "    }\n",
       "</style>\n",
       "<table border=\"1\" class=\"dataframe\">\n",
       "  <thead>\n",
       "    <tr style=\"text-align: right;\">\n",
       "      <th></th>\n",
       "      <th>age_norm</th>\n",
       "      <th>n_accts_norm</th>\n",
       "      <th>n_checking_accts_norm</th>\n",
       "      <th>n_savings_accts_norm</th>\n",
       "      <th>n_open_loans_norm</th>\n",
       "      <th>n_open_cds_norm</th>\n",
       "      <th>n_open_club_accts_norm</th>\n",
       "      <th>n_open_credit_cards_norm</th>\n",
       "      <th>ATMCount_norm</th>\n",
       "      <th>BillPaymentCount_norm</th>\n",
       "      <th>CashCount_norm</th>\n",
       "      <th>DraftCount_norm</th>\n",
       "      <th>ACHCount_norm</th>\n",
       "      <th>FeeCount_norm</th>\n",
       "      <th>Credit_DebitCount_norm</th>\n",
       "      <th>Home_Banking_norm</th>\n",
       "      <th>WireCount_norm</th>\n",
       "      <th>DividendCount_norm</th>\n",
       "    </tr>\n",
       "    <tr>\n",
       "      <th>County</th>\n",
       "      <th></th>\n",
       "      <th></th>\n",
       "      <th></th>\n",
       "      <th></th>\n",
       "      <th></th>\n",
       "      <th></th>\n",
       "      <th></th>\n",
       "      <th></th>\n",
       "      <th></th>\n",
       "      <th></th>\n",
       "      <th></th>\n",
       "      <th></th>\n",
       "      <th></th>\n",
       "      <th></th>\n",
       "      <th></th>\n",
       "      <th></th>\n",
       "      <th></th>\n",
       "      <th></th>\n",
       "    </tr>\n",
       "  </thead>\n",
       "  <tbody>\n",
       "    <tr>\n",
       "      <th>Brevard</th>\n",
       "      <td>1.000</td>\n",
       "      <td>0.602</td>\n",
       "      <td>0.000</td>\n",
       "      <td>0.346</td>\n",
       "      <td>0.000</td>\n",
       "      <td>1.000</td>\n",
       "      <td>0.139</td>\n",
       "      <td>0.066</td>\n",
       "      <td>0.000</td>\n",
       "      <td>0.000</td>\n",
       "      <td>0.000</td>\n",
       "      <td>0.000</td>\n",
       "      <td>0.000</td>\n",
       "      <td>0.049</td>\n",
       "      <td>0.000</td>\n",
       "      <td>0.000</td>\n",
       "      <td>1.000</td>\n",
       "      <td>1.000</td>\n",
       "    </tr>\n",
       "    <tr>\n",
       "      <th>Lake</th>\n",
       "      <td>0.236</td>\n",
       "      <td>1.000</td>\n",
       "      <td>1.000</td>\n",
       "      <td>1.000</td>\n",
       "      <td>0.811</td>\n",
       "      <td>0.460</td>\n",
       "      <td>0.115</td>\n",
       "      <td>1.000</td>\n",
       "      <td>0.616</td>\n",
       "      <td>0.640</td>\n",
       "      <td>0.544</td>\n",
       "      <td>0.750</td>\n",
       "      <td>0.643</td>\n",
       "      <td>0.000</td>\n",
       "      <td>0.852</td>\n",
       "      <td>0.667</td>\n",
       "      <td>0.280</td>\n",
       "      <td>0.868</td>\n",
       "    </tr>\n",
       "    <tr>\n",
       "      <th>Orange</th>\n",
       "      <td>0.036</td>\n",
       "      <td>0.730</td>\n",
       "      <td>0.758</td>\n",
       "      <td>0.879</td>\n",
       "      <td>0.388</td>\n",
       "      <td>0.174</td>\n",
       "      <td>1.000</td>\n",
       "      <td>0.472</td>\n",
       "      <td>0.727</td>\n",
       "      <td>0.345</td>\n",
       "      <td>0.658</td>\n",
       "      <td>0.181</td>\n",
       "      <td>0.505</td>\n",
       "      <td>0.084</td>\n",
       "      <td>0.704</td>\n",
       "      <td>0.605</td>\n",
       "      <td>0.349</td>\n",
       "      <td>0.848</td>\n",
       "    </tr>\n",
       "    <tr>\n",
       "      <th>Osceola</th>\n",
       "      <td>0.000</td>\n",
       "      <td>0.474</td>\n",
       "      <td>0.688</td>\n",
       "      <td>0.790</td>\n",
       "      <td>0.787</td>\n",
       "      <td>0.062</td>\n",
       "      <td>0.225</td>\n",
       "      <td>0.471</td>\n",
       "      <td>0.651</td>\n",
       "      <td>0.507</td>\n",
       "      <td>0.557</td>\n",
       "      <td>0.152</td>\n",
       "      <td>0.650</td>\n",
       "      <td>0.164</td>\n",
       "      <td>0.971</td>\n",
       "      <td>0.840</td>\n",
       "      <td>0.159</td>\n",
       "      <td>0.468</td>\n",
       "    </tr>\n",
       "    <tr>\n",
       "      <th>Polk</th>\n",
       "      <td>0.000</td>\n",
       "      <td>0.000</td>\n",
       "      <td>0.343</td>\n",
       "      <td>0.000</td>\n",
       "      <td>1.000</td>\n",
       "      <td>0.000</td>\n",
       "      <td>0.499</td>\n",
       "      <td>0.000</td>\n",
       "      <td>0.980</td>\n",
       "      <td>0.256</td>\n",
       "      <td>1.000</td>\n",
       "      <td>0.344</td>\n",
       "      <td>0.075</td>\n",
       "      <td>1.000</td>\n",
       "      <td>0.787</td>\n",
       "      <td>1.000</td>\n",
       "      <td>0.313</td>\n",
       "      <td>0.000</td>\n",
       "    </tr>\n",
       "  </tbody>\n",
       "</table>\n",
       "</div>"
      ],
      "text/plain": [
       "         age_norm  n_accts_norm  n_checking_accts_norm  n_savings_accts_norm  \\\n",
       "County                                                                         \n",
       "Brevard     1.000         0.602                  0.000                 0.346   \n",
       "Lake        0.236         1.000                  1.000                 1.000   \n",
       "Orange      0.036         0.730                  0.758                 0.879   \n",
       "Osceola     0.000         0.474                  0.688                 0.790   \n",
       "Polk        0.000         0.000                  0.343                 0.000   \n",
       "\n",
       "         n_open_loans_norm  n_open_cds_norm  n_open_club_accts_norm  \\\n",
       "County                                                                \n",
       "Brevard              0.000            1.000                   0.139   \n",
       "Lake                 0.811            0.460                   0.115   \n",
       "Orange               0.388            0.174                   1.000   \n",
       "Osceola              0.787            0.062                   0.225   \n",
       "Polk                 1.000            0.000                   0.499   \n",
       "\n",
       "         n_open_credit_cards_norm  ATMCount_norm  BillPaymentCount_norm  \\\n",
       "County                                                                    \n",
       "Brevard                     0.066          0.000                  0.000   \n",
       "Lake                        1.000          0.616                  0.640   \n",
       "Orange                      0.472          0.727                  0.345   \n",
       "Osceola                     0.471          0.651                  0.507   \n",
       "Polk                        0.000          0.980                  0.256   \n",
       "\n",
       "         CashCount_norm  DraftCount_norm  ACHCount_norm  FeeCount_norm  \\\n",
       "County                                                                   \n",
       "Brevard           0.000            0.000          0.000          0.049   \n",
       "Lake              0.544            0.750          0.643          0.000   \n",
       "Orange            0.658            0.181          0.505          0.084   \n",
       "Osceola           0.557            0.152          0.650          0.164   \n",
       "Polk              1.000            0.344          0.075          1.000   \n",
       "\n",
       "         Credit_DebitCount_norm  Home_Banking_norm  WireCount_norm  \\\n",
       "County                                                               \n",
       "Brevard                   0.000              0.000           1.000   \n",
       "Lake                      0.852              0.667           0.280   \n",
       "Orange                    0.704              0.605           0.349   \n",
       "Osceola                   0.971              0.840           0.159   \n",
       "Polk                      0.787              1.000           0.313   \n",
       "\n",
       "         DividendCount_norm  \n",
       "County                       \n",
       "Brevard               1.000  \n",
       "Lake                  0.868  \n",
       "Orange                0.848  \n",
       "Osceola               0.468  \n",
       "Polk                  0.000  "
      ]
     },
     "execution_count": 16,
     "metadata": {},
     "output_type": "execute_result"
    }
   ],
   "source": [
    "from sklearn.preprocessing import MinMaxScaler\n",
    "\n",
    "scaler = MinMaxScaler()\n",
    "normalized_df = scaler.fit_transform(data_for_clustering)\n",
    "normalized_df = pd.DataFrame(normalized_df, columns=data_for_clustering.columns)\n",
    "normalized_df.columns = [col + '_norm' for col in normalized_df.columns]\n",
    "normalized_df.index = data_for_clustering.index\n",
    "normalized_df.head()"
   ]
  },
  {
   "cell_type": "code",
   "execution_count": 21,
   "metadata": {},
   "outputs": [
    {
     "data": {
      "text/plain": [
       "<seaborn.axisgrid.PairGrid at 0x2732872fd30>"
      ]
     },
     "execution_count": 21,
     "metadata": {},
     "output_type": "execute_result"
    },
    {
     "data": {
      "image/png": "[encoded data removed]",
      "text/plain": [
       "<Figure size 1250x1250 with 30 Axes>"
      ]
     },
     "metadata": {},
     "output_type": "display_data"
    }
   ],
   "source": [
    "sns.pairplot(normalized_df.iloc[:, 0:5])"
   ]
  },
  {
   "cell_type": "markdown",
   "metadata": {},
   "source": [
    "# County Clustering"
   ]
  },
  {
   "cell_type": "code",
   "execution_count": null,
   "metadata": {},
   "outputs": [
    {
     "name": "stderr",
     "output_type": "stream",
     "text": [
      "Running KMeans:   0%|          | 0/7 [00:00<?, ?it/s]"
     ]
    },
    {
     "name": "stderr",
     "output_type": "stream",
     "text": [
      "c:\\Users\\perez\\anaconda3\\lib\\site-packages\\sklearn\\cluster\\_kmeans.py:1436: UserWarning: KMeans is known to have a memory leak on Windows with MKL, when there are less chunks than available threads. You can avoid it by setting the environment variable OMP_NUM_THREADS=1.\n",
      "  warnings.warn(\n",
      "Running KMeans:  14%|█▍        | 1/7 [00:00<00:03,  1.70it/s]c:\\Users\\perez\\anaconda3\\lib\\site-packages\\sklearn\\cluster\\_kmeans.py:1436: UserWarning: KMeans is known to have a memory leak on Windows with MKL, when there are less chunks than available threads. You can avoid it by setting the environment variable OMP_NUM_THREADS=1.\n",
      "  warnings.warn(\n",
      "Running KMeans:  29%|██▊       | 2/7 [00:01<00:02,  1.86it/s]c:\\Users\\perez\\anaconda3\\lib\\site-packages\\sklearn\\cluster\\_kmeans.py:1436: UserWarning: KMeans is known to have a memory leak on Windows with MKL, when there are less chunks than available threads. You can avoid it by setting the environment variable OMP_NUM_THREADS=1.\n",
      "  warnings.warn(\n",
      "Running KMeans:  43%|████▎     | 3/7 [00:01<00:02,  1.89it/s]c:\\Users\\perez\\anaconda3\\lib\\site-packages\\sklearn\\cluster\\_kmeans.py:1436: UserWarning: KMeans is known to have a memory leak on Windows with MKL, when there are less chunks than available threads. You can avoid it by setting the environment variable OMP_NUM_THREADS=1.\n",
      "  warnings.warn(\n",
      "Running KMeans:  57%|█████▋    | 4/7 [00:02<00:01,  1.91it/s]c:\\Users\\perez\\anaconda3\\lib\\site-packages\\sklearn\\cluster\\_kmeans.py:1436: UserWarning: KMeans is known to have a memory leak on Windows with MKL, when there are less chunks than available threads. You can avoid it by setting the environment variable OMP_NUM_THREADS=1.\n",
      "  warnings.warn(\n",
      "Running KMeans:  71%|███████▏  | 5/7 [00:02<00:01,  1.92it/s]c:\\Users\\perez\\anaconda3\\lib\\site-packages\\sklearn\\cluster\\_kmeans.py:1436: UserWarning: KMeans is known to have a memory leak on Windows with MKL, when there are less chunks than available threads. You can avoid it by setting the environment variable OMP_NUM_THREADS=1.\n",
      "  warnings.warn(\n",
      "Running KMeans:  86%|████████▌ | 6/7 [00:03<00:00,  1.92it/s]c:\\Users\\perez\\anaconda3\\lib\\site-packages\\sklearn\\cluster\\_kmeans.py:1436: UserWarning: KMeans is known to have a memory leak on Windows with MKL, when there are less chunks than available threads. You can avoid it by setting the environment variable OMP_NUM_THREADS=1.\n",
      "  warnings.warn(\n",
      "Running KMeans: 100%|██████████| 7/7 [00:03<00:00,  1.90it/s]\n"
     ]
    },
    {
     "data": {
      "image/png": "[encoded data removed]",
      "text/plain": [
       "<Figure size 640x480 with 1 Axes>"
      ]
     },
     "metadata": {},
     "output_type": "display_data"
    }
   ],
   "source": [
    "from sklearn.cluster import KMeans\n",
    "import matplotlib.pyplot as plt\n",
    "from tqdm import tqdm\n",
    "\n",
    "inertias = []\n",
    "\n",
    "# Use tqdm to add a progress bar\n",
    "for i in tqdm(range(1, 8), desc=\"Running KMeans\"):\n",
    "    kmeans = KMeans(n_clusters=i, random_state=0, n_init=10)\n",
    "    kmeans.fit(normalized_df)\n",
    "    inertias.append(kmeans.inertia_)\n",
    "\n",
    "plt.plot(range(1, 8), inertias, marker='o')\n",
    "plt.title('Elbow Method for Optimal k')\n",
    "plt.xlabel('Number of Clusters')\n",
    "plt.ylabel('Inertia')\n",
    "plt.show()"
   ]
  },
  {
   "cell_type": "code",
   "execution_count": null,
   "metadata": {},
   "outputs": [
    {
     "name": "stdout",
     "output_type": "stream",
     "text": [
      "[13.105341852170085, 6.980553995241766, 3.6050205125827253, 1.7296409866483629, 0.8445168124018225, 0.263069644039603, 0.0]\n"
     ]
    }
   ],
   "source": [
    "print(inertias)"
   ]
  },
  {
   "cell_type": "markdown",
   "metadata": {},
   "source": [
    "* The optimal number of clusters is 3"
   ]
  },
  {
   "cell_type": "code",
   "execution_count": null,
   "metadata": {},
   "outputs": [
    {
     "name": "stderr",
     "output_type": "stream",
     "text": [
      "c:\\Users\\perez\\anaconda3\\lib\\site-packages\\sklearn\\cluster\\_kmeans.py:1436: UserWarning: KMeans is known to have a memory leak on Windows with MKL, when there are less chunks than available threads. You can avoid it by setting the environment variable OMP_NUM_THREADS=1.\n",
      "  warnings.warn(\n"
     ]
    },
    {
     "data": {
      "text/html": [
       "<style>#sk-container-id-1 {color: black;}#sk-container-id-1 pre{padding: 0;}#sk-container-id-1 div.sk-toggleable {background-color: white;}#sk-container-id-1 label.sk-toggleable__label {cursor: pointer;display: block;width: 100%;margin-bottom: 0;padding: 0.3em;box-sizing: border-box;text-align: center;}#sk-container-id-1 label.sk-toggleable__label-arrow:before {content: \"▸\";float: left;margin-right: 0.25em;color: #696969;}#sk-container-id-1 label.sk-toggleable__label-arrow:hover:before {color: black;}#sk-container-id-1 div.sk-estimator:hover label.sk-toggleable__label-arrow:before {color: black;}#sk-container-id-1 div.sk-toggleable__content {max-height: 0;max-width: 0;overflow: hidden;text-align: left;background-color: #f0f8ff;}#sk-container-id-1 div.sk-toggleable__content pre {margin: 0.2em;color: black;border-radius: 0.25em;background-color: #f0f8ff;}#sk-container-id-1 input.sk-toggleable__control:checked~div.sk-toggleable__content {max-height: 200px;max-width: 100%;overflow: auto;}#sk-container-id-1 input.sk-toggleable__control:checked~label.sk-toggleable__label-arrow:before {content: \"▾\";}#sk-container-id-1 div.sk-estimator input.sk-toggleable__control:checked~label.sk-toggleable__label {background-color: #d4ebff;}#sk-container-id-1 div.sk-label input.sk-toggleable__control:checked~label.sk-toggleable__label {background-color: #d4ebff;}#sk-container-id-1 input.sk-hidden--visually {border: 0;clip: rect(1px 1px 1px 1px);clip: rect(1px, 1px, 1px, 1px);height: 1px;margin: -1px;overflow: hidden;padding: 0;position: absolute;width: 1px;}#sk-container-id-1 div.sk-estimator {font-family: monospace;background-color: #f0f8ff;border: 1px dotted black;border-radius: 0.25em;box-sizing: border-box;margin-bottom: 0.5em;}#sk-container-id-1 div.sk-estimator:hover {background-color: #d4ebff;}#sk-container-id-1 div.sk-parallel-item::after {content: \"\";width: 100%;border-bottom: 1px solid gray;flex-grow: 1;}#sk-container-id-1 div.sk-label:hover label.sk-toggleable__label {background-color: #d4ebff;}#sk-container-id-1 div.sk-serial::before {content: \"\";position: absolute;border-left: 1px solid gray;box-sizing: border-box;top: 0;bottom: 0;left: 50%;z-index: 0;}#sk-container-id-1 div.sk-serial {display: flex;flex-direction: column;align-items: center;background-color: white;padding-right: 0.2em;padding-left: 0.2em;position: relative;}#sk-container-id-1 div.sk-item {position: relative;z-index: 1;}#sk-container-id-1 div.sk-parallel {display: flex;align-items: stretch;justify-content: center;background-color: white;position: relative;}#sk-container-id-1 div.sk-item::before, #sk-container-id-1 div.sk-parallel-item::before {content: \"\";position: absolute;border-left: 1px solid gray;box-sizing: border-box;top: 0;bottom: 0;left: 50%;z-index: -1;}#sk-container-id-1 div.sk-parallel-item {display: flex;flex-direction: column;z-index: 1;position: relative;background-color: white;}#sk-container-id-1 div.sk-parallel-item:first-child::after {align-self: flex-end;width: 50%;}#sk-container-id-1 div.sk-parallel-item:last-child::after {align-self: flex-start;width: 50%;}#sk-container-id-1 div.sk-parallel-item:only-child::after {width: 0;}#sk-container-id-1 div.sk-dashed-wrapped {border: 1px dashed gray;margin: 0 0.4em 0.5em 0.4em;box-sizing: border-box;padding-bottom: 0.4em;background-color: white;}#sk-container-id-1 div.sk-label label {font-family: monospace;font-weight: bold;display: inline-block;line-height: 1.2em;}#sk-container-id-1 div.sk-label-container {text-align: center;}#sk-container-id-1 div.sk-container {/* jupyter's `normalize.less` sets `[hidden] { display: none; }` but bootstrap.min.css set `[hidden] { display: none !important; }` so we also need the `!important` here to be able to override the default hidden behavior on the sphinx rendered scikit-learn.org. See: https://github.com/scikit-learn/scikit-learn/issues/21755 */display: inline-block !important;position: relative;}#sk-container-id-1 div.sk-text-repr-fallback {display: none;}</style><div id=\"sk-container-id-1\" class=\"sk-top-container\"><div class=\"sk-text-repr-fallback\"><pre>KMeans(n_clusters=3, n_init=10, random_state=0)</pre><b>In a Jupyter environment, please rerun this cell to show the HTML representation or trust the notebook. <br />On GitHub, the HTML representation is unable to render, please try loading this page with nbviewer.org.</b></div><div class=\"sk-container\" hidden><div class=\"sk-item\"><div class=\"sk-estimator sk-toggleable\"><input class=\"sk-toggleable__control sk-hidden--visually\" id=\"sk-estimator-id-1\" type=\"checkbox\" checked><label for=\"sk-estimator-id-1\" class=\"sk-toggleable__label sk-toggleable__label-arrow\">KMeans</label><div class=\"sk-toggleable__content\"><pre>KMeans(n_clusters=3, n_init=10, random_state=0)</pre></div></div></div></div></div>"
      ],
      "text/plain": [
       "KMeans(n_clusters=3, n_init=10, random_state=0)"
      ]
     },
     "execution_count": 19,
     "metadata": {},
     "output_type": "execute_result"
    }
   ],
   "source": [
    "# KMeans Clustering with 3 clusters\n",
    "kmeans = KMeans(n_clusters=3, random_state=0, n_init=10)\n",
    "kmeans.fit(normalized_df)"
   ]
  },
  {
   "cell_type": "code",
   "execution_count": null,
   "metadata": {},
   "outputs": [
    {
     "data": {
      "text/html": [
       "<div>\n",
       "<style scoped>\n",
       "    .dataframe tbody tr th:only-of-type {\n",
       "        vertical-align: middle;\n",
       "    }\n",
       "\n",
       "    .dataframe tbody tr th {\n",
       "        vertical-align: top;\n",
       "    }\n",
       "\n",
       "    .dataframe thead th {\n",
       "        text-align: right;\n",
       "    }\n",
       "</style>\n",
       "<table border=\"1\" class=\"dataframe\">\n",
       "  <thead>\n",
       "    <tr style=\"text-align: right;\">\n",
       "      <th></th>\n",
       "      <th>age_norm</th>\n",
       "      <th>n_accts_norm</th>\n",
       "      <th>n_checking_accts_norm</th>\n",
       "      <th>n_savings_accts_norm</th>\n",
       "      <th>n_open_loans_norm</th>\n",
       "      <th>n_open_cds_norm</th>\n",
       "      <th>n_open_club_accts_norm</th>\n",
       "      <th>n_open_credit_cards_norm</th>\n",
       "      <th>ATMCount_norm</th>\n",
       "      <th>BillPaymentCount_norm</th>\n",
       "      <th>CashCount_norm</th>\n",
       "      <th>DraftCount_norm</th>\n",
       "      <th>ACHCount_norm</th>\n",
       "      <th>FeeCount_norm</th>\n",
       "      <th>Credit_DebitCount_norm</th>\n",
       "      <th>Home_Banking_norm</th>\n",
       "      <th>WireCount_norm</th>\n",
       "      <th>DividendCount_norm</th>\n",
       "      <th>Cluster</th>\n",
       "    </tr>\n",
       "    <tr>\n",
       "      <th>County</th>\n",
       "      <th></th>\n",
       "      <th></th>\n",
       "      <th></th>\n",
       "      <th></th>\n",
       "      <th></th>\n",
       "      <th></th>\n",
       "      <th></th>\n",
       "      <th></th>\n",
       "      <th></th>\n",
       "      <th></th>\n",
       "      <th></th>\n",
       "      <th></th>\n",
       "      <th></th>\n",
       "      <th></th>\n",
       "      <th></th>\n",
       "      <th></th>\n",
       "      <th></th>\n",
       "      <th></th>\n",
       "      <th></th>\n",
       "    </tr>\n",
       "  </thead>\n",
       "  <tbody>\n",
       "    <tr>\n",
       "      <th>Brevard</th>\n",
       "      <td>1.000</td>\n",
       "      <td>0.602</td>\n",
       "      <td>0.000</td>\n",
       "      <td>0.346</td>\n",
       "      <td>0.000</td>\n",
       "      <td>1.000</td>\n",
       "      <td>0.139</td>\n",
       "      <td>0.066</td>\n",
       "      <td>0.000</td>\n",
       "      <td>0.000</td>\n",
       "      <td>0.000</td>\n",
       "      <td>0.000</td>\n",
       "      <td>0.000</td>\n",
       "      <td>0.049</td>\n",
       "      <td>0.000</td>\n",
       "      <td>0.000</td>\n",
       "      <td>1.000</td>\n",
       "      <td>1.000</td>\n",
       "      <td>2</td>\n",
       "    </tr>\n",
       "    <tr>\n",
       "      <th>Lake</th>\n",
       "      <td>0.236</td>\n",
       "      <td>1.000</td>\n",
       "      <td>1.000</td>\n",
       "      <td>1.000</td>\n",
       "      <td>0.811</td>\n",
       "      <td>0.460</td>\n",
       "      <td>0.115</td>\n",
       "      <td>1.000</td>\n",
       "      <td>0.616</td>\n",
       "      <td>0.640</td>\n",
       "      <td>0.544</td>\n",
       "      <td>0.750</td>\n",
       "      <td>0.643</td>\n",
       "      <td>0.000</td>\n",
       "      <td>0.852</td>\n",
       "      <td>0.667</td>\n",
       "      <td>0.280</td>\n",
       "      <td>0.868</td>\n",
       "      <td>0</td>\n",
       "    </tr>\n",
       "    <tr>\n",
       "      <th>Orange</th>\n",
       "      <td>0.036</td>\n",
       "      <td>0.730</td>\n",
       "      <td>0.758</td>\n",
       "      <td>0.879</td>\n",
       "      <td>0.388</td>\n",
       "      <td>0.174</td>\n",
       "      <td>1.000</td>\n",
       "      <td>0.472</td>\n",
       "      <td>0.727</td>\n",
       "      <td>0.345</td>\n",
       "      <td>0.658</td>\n",
       "      <td>0.181</td>\n",
       "      <td>0.505</td>\n",
       "      <td>0.084</td>\n",
       "      <td>0.704</td>\n",
       "      <td>0.605</td>\n",
       "      <td>0.349</td>\n",
       "      <td>0.848</td>\n",
       "      <td>0</td>\n",
       "    </tr>\n",
       "    <tr>\n",
       "      <th>Osceola</th>\n",
       "      <td>0.000</td>\n",
       "      <td>0.474</td>\n",
       "      <td>0.688</td>\n",
       "      <td>0.790</td>\n",
       "      <td>0.787</td>\n",
       "      <td>0.062</td>\n",
       "      <td>0.225</td>\n",
       "      <td>0.471</td>\n",
       "      <td>0.651</td>\n",
       "      <td>0.507</td>\n",
       "      <td>0.557</td>\n",
       "      <td>0.152</td>\n",
       "      <td>0.650</td>\n",
       "      <td>0.164</td>\n",
       "      <td>0.971</td>\n",
       "      <td>0.840</td>\n",
       "      <td>0.159</td>\n",
       "      <td>0.468</td>\n",
       "      <td>0</td>\n",
       "    </tr>\n",
       "    <tr>\n",
       "      <th>Polk</th>\n",
       "      <td>0.000</td>\n",
       "      <td>0.000</td>\n",
       "      <td>0.343</td>\n",
       "      <td>0.000</td>\n",
       "      <td>1.000</td>\n",
       "      <td>0.000</td>\n",
       "      <td>0.499</td>\n",
       "      <td>0.000</td>\n",
       "      <td>0.980</td>\n",
       "      <td>0.256</td>\n",
       "      <td>1.000</td>\n",
       "      <td>0.344</td>\n",
       "      <td>0.075</td>\n",
       "      <td>1.000</td>\n",
       "      <td>0.787</td>\n",
       "      <td>1.000</td>\n",
       "      <td>0.313</td>\n",
       "      <td>0.000</td>\n",
       "      <td>1</td>\n",
       "    </tr>\n",
       "  </tbody>\n",
       "</table>\n",
       "</div>"
      ],
      "text/plain": [
       "         age_norm  n_accts_norm  n_checking_accts_norm  n_savings_accts_norm  \\\n",
       "County                                                                         \n",
       "Brevard     1.000         0.602                  0.000                 0.346   \n",
       "Lake        0.236         1.000                  1.000                 1.000   \n",
       "Orange      0.036         0.730                  0.758                 0.879   \n",
       "Osceola     0.000         0.474                  0.688                 0.790   \n",
       "Polk        0.000         0.000                  0.343                 0.000   \n",
       "\n",
       "         n_open_loans_norm  n_open_cds_norm  n_open_club_accts_norm  \\\n",
       "County                                                                \n",
       "Brevard              0.000            1.000                   0.139   \n",
       "Lake                 0.811            0.460                   0.115   \n",
       "Orange               0.388            0.174                   1.000   \n",
       "Osceola              0.787            0.062                   0.225   \n",
       "Polk                 1.000            0.000                   0.499   \n",
       "\n",
       "         n_open_credit_cards_norm  ATMCount_norm  BillPaymentCount_norm  \\\n",
       "County                                                                    \n",
       "Brevard                     0.066          0.000                  0.000   \n",
       "Lake                        1.000          0.616                  0.640   \n",
       "Orange                      0.472          0.727                  0.345   \n",
       "Osceola                     0.471          0.651                  0.507   \n",
       "Polk                        0.000          0.980                  0.256   \n",
       "\n",
       "         CashCount_norm  DraftCount_norm  ACHCount_norm  FeeCount_norm  \\\n",
       "County                                                                   \n",
       "Brevard           0.000            0.000          0.000          0.049   \n",
       "Lake              0.544            0.750          0.643          0.000   \n",
       "Orange            0.658            0.181          0.505          0.084   \n",
       "Osceola           0.557            0.152          0.650          0.164   \n",
       "Polk              1.000            0.344          0.075          1.000   \n",
       "\n",
       "         Credit_DebitCount_norm  Home_Banking_norm  WireCount_norm  \\\n",
       "County                                                               \n",
       "Brevard                   0.000              0.000           1.000   \n",
       "Lake                      0.852              0.667           0.280   \n",
       "Orange                    0.704              0.605           0.349   \n",
       "Osceola                   0.971              0.840           0.159   \n",
       "Polk                      0.787              1.000           0.313   \n",
       "\n",
       "         DividendCount_norm  Cluster  \n",
       "County                                \n",
       "Brevard               1.000        2  \n",
       "Lake                  0.868        0  \n",
       "Orange                0.848        0  \n",
       "Osceola               0.468        0  \n",
       "Polk                  0.000        1  "
      ]
     },
     "execution_count": 20,
     "metadata": {},
     "output_type": "execute_result"
    }
   ],
   "source": [
    "# Cluster labels and county names\n",
    "cluster_df = normalized_df.copy()\n",
    "cluster_df['Cluster'] = kmeans.labels_\n",
    "cluster_df.head()"
   ]
  },
  {
   "cell_type": "code",
   "execution_count": null,
   "metadata": {},
   "outputs": [
    {
     "name": "stdout",
     "output_type": "stream",
     "text": [
      "Cluster 0:\n",
      "['Lake' 'Orange' 'Osceola' 'Seminole' 'Volusia']\n",
      "\n",
      "Cluster 1:\n",
      "['Polk']\n",
      "\n",
      "Cluster 2:\n",
      "['Brevard']\n",
      "\n"
     ]
    }
   ],
   "source": [
    "# Names of the counties in each cluster\n",
    "for i in range(3):\n",
    "    print(f'Cluster {i}:')\n",
    "    print(cluster_df[cluster_df['Cluster'] == i].index.values)\n",
    "    print()"
   ]
  },
  {
   "cell_type": "markdown",
   "metadata": {},
   "source": [
    "# PCA Visualization\n",
    "## 2 Dimensional PCA"
   ]
  },
  {
   "cell_type": "code",
   "execution_count": null,
   "metadata": {},
   "outputs": [
    {
     "data": {
      "image/png": "[encoded data removed]",
      "text/plain": [
       "<Figure size 1000x600 with 1 Axes>"
      ]
     },
     "metadata": {},
     "output_type": "display_data"
    }
   ],
   "source": [
    "import matplotlib.pyplot as plt\n",
    "from sklearn.decomposition import PCA\n",
    "import seaborn as sns\n",
    "\n",
    "# Assuming 'Cluster' is the column with cluster labels\n",
    "clusters = cluster_df['Cluster']\n",
    "\n",
    "# Extract features for PCA\n",
    "features = cluster_df.drop('Cluster', axis=1)\n",
    "\n",
    "# Apply PCA to reduce to 2 dimensions (you can choose a different number)\n",
    "pca = PCA(n_components=2)\n",
    "principal_components = pca.fit_transform(features)\n",
    "\n",
    "# Create a DataFrame with the reduced dimensions and cluster labels\n",
    "pca_df = pd.DataFrame(data=principal_components, columns=['PC1', 'PC2'])\n",
    "pca_df.index = features.index\n",
    "pca_df['Cluster'] = clusters\n",
    "\n",
    "# Scatter plot with color-coded clusters\n",
    "plt.figure(figsize=(10, 6))\n",
    "sns.scatterplot(x='PC1', y='PC2', hue='Cluster', data=pca_df, palette='viridis', legend='full', s=150)\n",
    "plt.title('Cluster Visualization (PCA)')\n",
    "plt.xlabel('Principal Component 1')\n",
    "plt.ylabel('Principal Component 2')\n",
    "plt.show()\n"
   ]
  },
  {
   "cell_type": "code",
   "execution_count": null,
   "metadata": {},
   "outputs": [
    {
     "name": "stdout",
     "output_type": "stream",
     "text": [
      "Feature Loadings for PC1:\n",
      "n_open_cds_norm             0.296\n",
      "age_norm                    0.291\n",
      "DividendCount_norm          0.208\n",
      "WireCount_norm              0.171\n",
      "n_accts_norm                0.027\n",
      "n_open_club_accts_norm     -0.009\n",
      "n_savings_accts_norm       -0.091\n",
      "FeeCount_norm              -0.091\n",
      "n_open_credit_cards_norm   -0.203\n",
      "DraftCount_norm            -0.230\n",
      "CashCount_norm             -0.246\n",
      "ACHCount_norm              -0.249\n",
      "BillPaymentCount_norm      -0.249\n",
      "n_checking_accts_norm      -0.275\n",
      "ATMCount_norm              -0.303\n",
      "Home_Banking_norm          -0.309\n",
      "n_open_loans_norm          -0.310\n",
      "Credit_DebitCount_norm     -0.316\n",
      "Name: PC1, dtype: float64\n",
      "\n",
      "Feature Loadings for PC2:\n",
      "FeeCount_norm               0.411\n",
      "CashCount_norm              0.172\n",
      "Home_Banking_norm           0.122\n",
      "n_open_loans_norm           0.116\n",
      "ATMCount_norm               0.107\n",
      "n_open_club_accts_norm      0.099\n",
      "WireCount_norm              0.002\n",
      "Credit_DebitCount_norm     -0.019\n",
      "age_norm                   -0.083\n",
      "n_open_cds_norm            -0.137\n",
      "DraftCount_norm            -0.137\n",
      "BillPaymentCount_norm      -0.176\n",
      "n_checking_accts_norm      -0.256\n",
      "ACHCount_norm              -0.268\n",
      "DividendCount_norm         -0.330\n",
      "n_open_credit_cards_norm   -0.366\n",
      "n_accts_norm               -0.369\n",
      "n_savings_accts_norm       -0.400\n",
      "Name: PC2, dtype: float64\n"
     ]
    }
   ],
   "source": [
    "# Get the feature loadings for PC1 and PC2\n",
    "loadings_df = pd.DataFrame(pca.components_, columns=features.columns, index=['PC1', 'PC2'])\n",
    "\n",
    "# Display the feature loadings\n",
    "print(\"Feature Loadings for PC1:\")\n",
    "print(loadings_df.loc['PC1'].sort_values(ascending=False))\n",
    "\n",
    "print(\"\\nFeature Loadings for PC2:\")\n",
    "print(loadings_df.loc['PC2'].sort_values(ascending=False))"
   ]
  },
  {
   "cell_type": "markdown",
   "metadata": {},
   "source": [
    "## 3 Dimensional PCA"
   ]
  },
  {
   "cell_type": "code",
   "execution_count": null,
   "metadata": {},
   "outputs": [
    {
     "data": {
      "application/vnd.plotly.v1+json": {
       "config": {
        "plotlyServerURL": "https://plot.ly"
       },
       "data": [
        {
         "hovertemplate": "Cluster=2<br>PC1=%{x}<br>PC2=%{y}<br>PC3=%{z}<extra></extra>",
         "legendgroup": "2",
         "marker": {
          "color": "rgb(228,26,28)",
          "opacity": 0.7,
          "symbol": "circle"
         },
         "mode": "markers",
         "name": "2",
         "scene": "scene",
         "showlegend": true,
         "type": "scatter3d",
         "x": [
          2.2649252087808245
         ],
         "y": [
          0.006897036908459231
         ],
         "z": [
          0.3434051897299117
         ]
        },
        {
         "hovertemplate": "Cluster=0<br>PC1=%{x}<br>PC2=%{y}<br>PC3=%{z}<extra></extra>",
         "legendgroup": "0",
         "marker": {
          "color": "rgb(55,126,184)",
          "opacity": 0.7,
          "symbol": "circle"
         },
         "mode": "markers",
         "name": "0",
         "scene": "scene",
         "showlegend": true,
         "type": "scatter3d",
         "x": [
          -0.3162427231789458,
          0.08441501878239112,
          -0.3535512505126689,
          -0.35931189489570564,
          -0.9444843497241386
         ],
         "y": [
          -0.9119231311481276,
          -0.17979756611273243,
          0.048851403363816485,
          -0.4105839908137521,
          -0.2188272546078502
         ],
         "z": [
          0.11045476298014478,
          -0.7486958434949018,
          -0.27273656139207547,
          -0.4207825745671223,
          0.9774326409836204
         ]
        },
        {
         "hovertemplate": "Cluster=1<br>PC1=%{x}<br>PC2=%{y}<br>PC3=%{z}<extra></extra>",
         "legendgroup": "1",
         "marker": {
          "color": "rgb(77,175,74)",
          "opacity": 0.7,
          "symbol": "circle"
         },
         "mode": "markers",
         "name": "1",
         "scene": "scene",
         "showlegend": true,
         "type": "scatter3d",
         "x": [
          -0.37575000925175595
         ],
         "y": [
          1.6653835024101868
         ],
         "z": [
          0.010922385760423068
         ]
        }
       ],
       "layout": {
        "height": 800,
        "legend": {
         "title": {
          "text": "County"
         },
         "tracegroupgap": 0,
         "x": 0.01,
         "xanchor": "left",
         "y": 0.79,
         "yanchor": "top"
        },
        "margin": {
         "b": 0,
         "l": 0,
         "r": 0,
         "t": 0
        },
        "scene": {
         "domain": {
          "x": [
           0,
           1
          ],
          "y": [
           0,
           1
          ]
         },
         "xaxis": {
          "title": {
           "text": "PC1"
          }
         },
         "yaxis": {
          "title": {
           "text": "PC2"
          }
         },
         "zaxis": {
          "title": {
           "text": "PC3"
          }
         }
        },
        "template": {
         "data": {
          "bar": [
           {
            "error_x": {
             "color": "#2a3f5f"
            },
            "error_y": {
             "color": "#2a3f5f"
            },
            "marker": {
             "line": {
              "color": "#E5ECF6",
              "width": 0.5
             },
             "pattern": {
              "fillmode": "overlay",
              "size": 10,
              "solidity": 0.2
             }
            },
            "type": "bar"
           }
          ],
          "barpolar": [
           {
            "marker": {
             "line": {
              "color": "#E5ECF6",
              "width": 0.5
             },
             "pattern": {
              "fillmode": "overlay",
              "size": 10,
              "solidity": 0.2
             }
            },
            "type": "barpolar"
           }
          ],
          "carpet": [
           {
            "aaxis": {
             "endlinecolor": "#2a3f5f",
             "gridcolor": "white",
             "linecolor": "white",
             "minorgridcolor": "white",
             "startlinecolor": "#2a3f5f"
            },
            "baxis": {
             "endlinecolor": "#2a3f5f",
             "gridcolor": "white",
             "linecolor": "white",
             "minorgridcolor": "white",
             "startlinecolor": "#2a3f5f"
            },
            "type": "carpet"
           }
          ],
          "choropleth": [
           {
            "colorbar": {
             "outlinewidth": 0,
             "ticks": ""
            },
            "type": "choropleth"
           }
          ],
          "contour": [
           {
            "colorbar": {
             "outlinewidth": 0,
             "ticks": ""
            },
            "colorscale": [
             [
              0,
              "#0d0887"
             ],
             [
              0.1111111111111111,
              "#46039f"
             ],
             [
              0.2222222222222222,
              "#7201a8"
             ],
             [
              0.3333333333333333,
              "#9c179e"
             ],
             [
              0.4444444444444444,
              "#bd3786"
             ],
             [
              0.5555555555555556,
              "#d8576b"
             ],
             [
              0.6666666666666666,
              "#ed7953"
             ],
             [
              0.7777777777777778,
              "#fb9f3a"
             ],
             [
              0.8888888888888888,
              "#fdca26"
             ],
             [
              1,
              "#f0f921"
             ]
            ],
            "type": "contour"
           }
          ],
          "contourcarpet": [
           {
            "colorbar": {
             "outlinewidth": 0,
             "ticks": ""
            },
            "type": "contourcarpet"
           }
          ],
          "heatmap": [
           {
            "colorbar": {
             "outlinewidth": 0,
             "ticks": ""
            },
            "colorscale": [
             [
              0,
              "#0d0887"
             ],
             [
              0.1111111111111111,
              "#46039f"
             ],
             [
              0.2222222222222222,
              "#7201a8"
             ],
             [
              0.3333333333333333,
              "#9c179e"
             ],
             [
              0.4444444444444444,
              "#bd3786"
             ],
             [
              0.5555555555555556,
              "#d8576b"
             ],
             [
              0.6666666666666666,
              "#ed7953"
             ],
             [
              0.7777777777777778,
              "#fb9f3a"
             ],
             [
              0.8888888888888888,
              "#fdca26"
             ],
             [
              1,
              "#f0f921"
             ]
            ],
            "type": "heatmap"
           }
          ],
          "heatmapgl": [
           {
            "colorbar": {
             "outlinewidth": 0,
             "ticks": ""
            },
            "colorscale": [
             [
              0,
              "#0d0887"
             ],
             [
              0.1111111111111111,
              "#46039f"
             ],
             [
              0.2222222222222222,
              "#7201a8"
             ],
             [
              0.3333333333333333,
              "#9c179e"
             ],
             [
              0.4444444444444444,
              "#bd3786"
             ],
             [
              0.5555555555555556,
              "#d8576b"
             ],
             [
              0.6666666666666666,
              "#ed7953"
             ],
             [
              0.7777777777777778,
              "#fb9f3a"
             ],
             [
              0.8888888888888888,
              "#fdca26"
             ],
             [
              1,
              "#f0f921"
             ]
            ],
            "type": "heatmapgl"
           }
          ],
          "histogram": [
           {
            "marker": {
             "pattern": {
              "fillmode": "overlay",
              "size": 10,
              "solidity": 0.2
             }
            },
            "type": "histogram"
           }
          ],
          "histogram2d": [
           {
            "colorbar": {
             "outlinewidth": 0,
             "ticks": ""
            },
            "colorscale": [
             [
              0,
              "#0d0887"
             ],
             [
              0.1111111111111111,
              "#46039f"
             ],
             [
              0.2222222222222222,
              "#7201a8"
             ],
             [
              0.3333333333333333,
              "#9c179e"
             ],
             [
              0.4444444444444444,
              "#bd3786"
             ],
             [
              0.5555555555555556,
              "#d8576b"
             ],
             [
              0.6666666666666666,
              "#ed7953"
             ],
             [
              0.7777777777777778,
              "#fb9f3a"
             ],
             [
              0.8888888888888888,
              "#fdca26"
             ],
             [
              1,
              "#f0f921"
             ]
            ],
            "type": "histogram2d"
           }
          ],
          "histogram2dcontour": [
           {
            "colorbar": {
             "outlinewidth": 0,
             "ticks": ""
            },
            "colorscale": [
             [
              0,
              "#0d0887"
             ],
             [
              0.1111111111111111,
              "#46039f"
             ],
             [
              0.2222222222222222,
              "#7201a8"
             ],
             [
              0.3333333333333333,
              "#9c179e"
             ],
             [
              0.4444444444444444,
              "#bd3786"
             ],
             [
              0.5555555555555556,
              "#d8576b"
             ],
             [
              0.6666666666666666,
              "#ed7953"
             ],
             [
              0.7777777777777778,
              "#fb9f3a"
             ],
             [
              0.8888888888888888,
              "#fdca26"
             ],
             [
              1,
              "#f0f921"
             ]
            ],
            "type": "histogram2dcontour"
           }
          ],
          "mesh3d": [
           {
            "colorbar": {
             "outlinewidth": 0,
             "ticks": ""
            },
            "type": "mesh3d"
           }
          ],
          "parcoords": [
           {
            "line": {
             "colorbar": {
              "outlinewidth": 0,
              "ticks": ""
             }
            },
            "type": "parcoords"
           }
          ],
          "pie": [
           {
            "automargin": true,
            "type": "pie"
           }
          ],
          "scatter": [
           {
            "fillpattern": {
             "fillmode": "overlay",
             "size": 10,
             "solidity": 0.2
            },
            "type": "scatter"
           }
          ],
          "scatter3d": [
           {
            "line": {
             "colorbar": {
              "outlinewidth": 0,
              "ticks": ""
             }
            },
            "marker": {
             "colorbar": {
              "outlinewidth": 0,
              "ticks": ""
             }
            },
            "type": "scatter3d"
           }
          ],
          "scattercarpet": [
           {
            "marker": {
             "colorbar": {
              "outlinewidth": 0,
              "ticks": ""
             }
            },
            "type": "scattercarpet"
           }
          ],
          "scattergeo": [
           {
            "marker": {
             "colorbar": {
              "outlinewidth": 0,
              "ticks": ""
             }
            },
            "type": "scattergeo"
           }
          ],
          "scattergl": [
           {
            "marker": {
             "colorbar": {
              "outlinewidth": 0,
              "ticks": ""
             }
            },
            "type": "scattergl"
           }
          ],
          "scattermapbox": [
           {
            "marker": {
             "colorbar": {
              "outlinewidth": 0,
              "ticks": ""
             }
            },
            "type": "scattermapbox"
           }
          ],
          "scatterpolar": [
           {
            "marker": {
             "colorbar": {
              "outlinewidth": 0,
              "ticks": ""
             }
            },
            "type": "scatterpolar"
           }
          ],
          "scatterpolargl": [
           {
            "marker": {
             "colorbar": {
              "outlinewidth": 0,
              "ticks": ""
             }
            },
            "type": "scatterpolargl"
           }
          ],
          "scatterternary": [
           {
            "marker": {
             "colorbar": {
              "outlinewidth": 0,
              "ticks": ""
             }
            },
            "type": "scatterternary"
           }
          ],
          "surface": [
           {
            "colorbar": {
             "outlinewidth": 0,
             "ticks": ""
            },
            "colorscale": [
             [
              0,
              "#0d0887"
             ],
             [
              0.1111111111111111,
              "#46039f"
             ],
             [
              0.2222222222222222,
              "#7201a8"
             ],
             [
              0.3333333333333333,
              "#9c179e"
             ],
             [
              0.4444444444444444,
              "#bd3786"
             ],
             [
              0.5555555555555556,
              "#d8576b"
             ],
             [
              0.6666666666666666,
              "#ed7953"
             ],
             [
              0.7777777777777778,
              "#fb9f3a"
             ],
             [
              0.8888888888888888,
              "#fdca26"
             ],
             [
              1,
              "#f0f921"
             ]
            ],
            "type": "surface"
           }
          ],
          "table": [
           {
            "cells": {
             "fill": {
              "color": "#EBF0F8"
             },
             "line": {
              "color": "white"
             }
            },
            "header": {
             "fill": {
              "color": "#C8D4E3"
             },
             "line": {
              "color": "white"
             }
            },
            "type": "table"
           }
          ]
         },
         "layout": {
          "annotationdefaults": {
           "arrowcolor": "#2a3f5f",
           "arrowhead": 0,
           "arrowwidth": 1
          },
          "autotypenumbers": "strict",
          "coloraxis": {
           "colorbar": {
            "outlinewidth": 0,
            "ticks": ""
           }
          },
          "colorscale": {
           "diverging": [
            [
             0,
             "#8e0152"
            ],
            [
             0.1,
             "#c51b7d"
            ],
            [
             0.2,
             "#de77ae"
            ],
            [
             0.3,
             "#f1b6da"
            ],
            [
             0.4,
             "#fde0ef"
            ],
            [
             0.5,
             "#f7f7f7"
            ],
            [
             0.6,
             "#e6f5d0"
            ],
            [
             0.7,
             "#b8e186"
            ],
            [
             0.8,
             "#7fbc41"
            ],
            [
             0.9,
             "#4d9221"
            ],
            [
             1,
             "#276419"
            ]
           ],
           "sequential": [
            [
             0,
             "#0d0887"
            ],
            [
             0.1111111111111111,
             "#46039f"
            ],
            [
             0.2222222222222222,
             "#7201a8"
            ],
            [
             0.3333333333333333,
             "#9c179e"
            ],
            [
             0.4444444444444444,
             "#bd3786"
            ],
            [
             0.5555555555555556,
             "#d8576b"
            ],
            [
             0.6666666666666666,
             "#ed7953"
            ],
            [
             0.7777777777777778,
             "#fb9f3a"
            ],
            [
             0.8888888888888888,
             "#fdca26"
            ],
            [
             1,
             "#f0f921"
            ]
           ],
           "sequentialminus": [
            [
             0,
             "#0d0887"
            ],
            [
             0.1111111111111111,
             "#46039f"
            ],
            [
             0.2222222222222222,
             "#7201a8"
            ],
            [
             0.3333333333333333,
             "#9c179e"
            ],
            [
             0.4444444444444444,
             "#bd3786"
            ],
            [
             0.5555555555555556,
             "#d8576b"
            ],
            [
             0.6666666666666666,
             "#ed7953"
            ],
            [
             0.7777777777777778,
             "#fb9f3a"
            ],
            [
             0.8888888888888888,
             "#fdca26"
            ],
            [
             1,
             "#f0f921"
            ]
           ]
          },
          "colorway": [
           "#636efa",
           "#EF553B",
           "#00cc96",
           "#ab63fa",
           "#FFA15A",
           "#19d3f3",
           "#FF6692",
           "#B6E880",
           "#FF97FF",
           "#FECB52"
          ],
          "font": {
           "color": "#2a3f5f"
          },
          "geo": {
           "bgcolor": "white",
           "lakecolor": "white",
           "landcolor": "#E5ECF6",
           "showlakes": true,
           "showland": true,
           "subunitcolor": "white"
          },
          "hoverlabel": {
           "align": "left"
          },
          "hovermode": "closest",
          "mapbox": {
           "style": "light"
          },
          "paper_bgcolor": "white",
          "plot_bgcolor": "#E5ECF6",
          "polar": {
           "angularaxis": {
            "gridcolor": "white",
            "linecolor": "white",
            "ticks": ""
           },
           "bgcolor": "#E5ECF6",
           "radialaxis": {
            "gridcolor": "white",
            "linecolor": "white",
            "ticks": ""
           }
          },
          "scene": {
           "xaxis": {
            "backgroundcolor": "#E5ECF6",
            "gridcolor": "white",
            "gridwidth": 2,
            "linecolor": "white",
            "showbackground": true,
            "ticks": "",
            "zerolinecolor": "white"
           },
           "yaxis": {
            "backgroundcolor": "#E5ECF6",
            "gridcolor": "white",
            "gridwidth": 2,
            "linecolor": "white",
            "showbackground": true,
            "ticks": "",
            "zerolinecolor": "white"
           },
           "zaxis": {
            "backgroundcolor": "#E5ECF6",
            "gridcolor": "white",
            "gridwidth": 2,
            "linecolor": "white",
            "showbackground": true,
            "ticks": "",
            "zerolinecolor": "white"
           }
          },
          "shapedefaults": {
           "line": {
            "color": "#2a3f5f"
           }
          },
          "ternary": {
           "aaxis": {
            "gridcolor": "white",
            "linecolor": "white",
            "ticks": ""
           },
           "baxis": {
            "gridcolor": "white",
            "linecolor": "white",
            "ticks": ""
           },
           "bgcolor": "#E5ECF6",
           "caxis": {
            "gridcolor": "white",
            "linecolor": "white",
            "ticks": ""
           }
          },
          "title": {
           "x": 0.05
          },
          "xaxis": {
           "automargin": true,
           "gridcolor": "white",
           "linecolor": "white",
           "ticks": "",
           "title": {
            "standoff": 15
           },
           "zerolinecolor": "white",
           "zerolinewidth": 2
          },
          "yaxis": {
           "automargin": true,
           "gridcolor": "white",
           "linecolor": "white",
           "ticks": "",
           "title": {
            "standoff": 15
           },
           "zerolinecolor": "white",
           "zerolinewidth": 2
          }
         }
        },
        "width": 1100
       }
      }
     },
     "metadata": {},
     "output_type": "display_data"
    }
   ],
   "source": [
    "# Now apply PCA to reduce to 3 dimensions\n",
    "pca = PCA(n_components=3)\n",
    "principal_components = pca.fit_transform(features)\n",
    "\n",
    "# Create a DataFrame with the reduced dimensions and cluster labels\n",
    "pca_df = pd.DataFrame(data=principal_components, columns=['PC1', 'PC2', 'PC3'])\n",
    "pca_df.index = features.index\n",
    "pca_df['Cluster'] = clusters\n",
    "\n",
    "# Set Cluster to categorical\n",
    "pca_df['Cluster'] = pca_df['Cluster'].astype('category')\n",
    "\n",
    "# 3D scatter plot with color-coded clusters\n",
    "fig = px.scatter_3d(pca_df, x='PC1', y='PC2', z='PC3', color='Cluster', opacity=0.7, size_max=10, labels={'Cluster': 'Cluster'},\n",
    "                    width=1100, height=800, color_discrete_sequence=px.colors.qualitative.Set1)\n",
    "fig.update_layout(margin=dict(l=0, r=0, b=0, t=0))\n",
    "fig.update_layout(legend_title_text='County', legend=dict(yanchor=\"top\", y=0.79, xanchor=\"left\", x=0.01))\n",
    "fig.show()"
   ]
  },
  {
   "cell_type": "code",
   "execution_count": null,
   "metadata": {},
   "outputs": [
    {
     "name": "stdout",
     "output_type": "stream",
     "text": [
      "Feature Loadings for PC1:\n",
      "n_open_cds_norm             0.296\n",
      "age_norm                    0.291\n",
      "DividendCount_norm          0.208\n",
      "WireCount_norm              0.171\n",
      "n_accts_norm                0.027\n",
      "n_open_club_accts_norm     -0.009\n",
      "n_savings_accts_norm       -0.091\n",
      "FeeCount_norm              -0.091\n",
      "n_open_credit_cards_norm   -0.203\n",
      "DraftCount_norm            -0.230\n",
      "CashCount_norm             -0.246\n",
      "ACHCount_norm              -0.249\n",
      "BillPaymentCount_norm      -0.249\n",
      "n_checking_accts_norm      -0.275\n",
      "ATMCount_norm              -0.303\n",
      "Home_Banking_norm          -0.309\n",
      "n_open_loans_norm          -0.310\n",
      "Credit_DebitCount_norm     -0.316\n",
      "Name: PC1, dtype: float64\n",
      "\n",
      "Feature Loadings for PC2:\n",
      "FeeCount_norm               0.411\n",
      "CashCount_norm              0.172\n",
      "Home_Banking_norm           0.122\n",
      "n_open_loans_norm           0.116\n",
      "ATMCount_norm               0.107\n",
      "n_open_club_accts_norm      0.099\n",
      "WireCount_norm              0.002\n",
      "Credit_DebitCount_norm     -0.019\n",
      "age_norm                   -0.083\n",
      "n_open_cds_norm            -0.137\n",
      "DraftCount_norm            -0.137\n",
      "BillPaymentCount_norm      -0.176\n",
      "n_checking_accts_norm      -0.256\n",
      "ACHCount_norm              -0.268\n",
      "DividendCount_norm         -0.330\n",
      "n_open_credit_cards_norm   -0.366\n",
      "n_accts_norm               -0.369\n",
      "n_savings_accts_norm       -0.400\n",
      "Name: PC2, dtype: float64\n",
      "\n",
      "Feature Loadings for PC3:\n",
      "WireCount_norm              0.537\n",
      "DraftCount_norm             0.373\n",
      "age_norm                    0.293\n",
      "BillPaymentCount_norm       0.201\n",
      "n_open_loans_norm           0.175\n",
      "n_open_cds_norm             0.170\n",
      "n_open_credit_cards_norm    0.121\n",
      "ACHCount_norm               0.100\n",
      "FeeCount_norm               0.098\n",
      "Home_Banking_norm           0.019\n",
      "ATMCount_norm              -0.009\n",
      "Credit_DebitCount_norm     -0.015\n",
      "n_checking_accts_norm      -0.046\n",
      "n_accts_norm               -0.061\n",
      "CashCount_norm             -0.061\n",
      "DividendCount_norm         -0.173\n",
      "n_savings_accts_norm       -0.276\n",
      "n_open_club_accts_norm     -0.487\n",
      "Name: PC3, dtype: float64\n"
     ]
    }
   ],
   "source": [
    "# Get the feature loadings for PC1, PC2, and PC3\n",
    "loadings_df = pd.DataFrame(pca.components_, columns=features.columns, index=['PC1', 'PC2', 'PC3'])\n",
    "\n",
    "# Display the feature loadings\n",
    "print(\"Feature Loadings for PC1:\")\n",
    "print(loadings_df.loc['PC1'].sort_values(ascending=False))\n",
    "\n",
    "print(\"\\nFeature Loadings for PC2:\")\n",
    "print(loadings_df.loc['PC2'].sort_values(ascending=False))\n",
    "\n",
    "print(\"\\nFeature Loadings for PC3:\")\n",
    "print(loadings_df.loc['PC3'].sort_values(ascending=False))"
   ]
  }
 ],
 "metadata": {
  "kernelspec": {
   "display_name": "base",
   "language": "python",
   "name": "python3"
  },
  "language_info": {
   "codemirror_mode": {
    "name": "ipython",
    "version": 3
   },
   "file_extension": ".py",
   "mimetype": "text/x-python",
   "name": "python",
   "nbconvert_exporter": "python",
   "pygments_lexer": "ipython3",
   "version": "3.9.18"
  }
 },
 "nbformat": 4,
 "nbformat_minor": 2
}
